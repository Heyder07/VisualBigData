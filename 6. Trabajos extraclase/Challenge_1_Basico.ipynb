{
 "cells": [
  {
   "cell_type": "markdown",
   "metadata": {},
   "source": [
    "# Challenge 1 -Básico\n",
    "\n",
    "## Visualización de grandes bases de datos\n",
    "\n",
    "### Eyder Uriel Kinil Cervera \n"
   ]
  },
  {
   "cell_type": "markdown",
   "metadata": {},
   "source": [
    "Este challenge introduce a los estudiantes a la visualización de grandes bases de datos utilizando PySpark y Koalas, un API que facilita el trabajo con grandes volúmenes de datos en un entorno de Spark pero con sintaxis similar a pandas.\n",
    "\n",
    "-- Se reemplaza koalas por pandas\n",
    "\n",
    "pyspark.pandas (anteriormente conocido como koalas) es una API que permite trabajar con datos distribuidos utilizando una interfaz muy similar a pandas. Es ideal cuando necesitas aprovechar la escalabilidad de Spark pero prefieres la sintaxis y las capacidades de pandas."
   ]
  },
  {
   "cell_type": "markdown",
   "metadata": {},
   "source": [
    "## Objetivo\n",
    "\n",
    "Trabajar con la API de Koalas para ejecutar operaciones básicas de análisis de datos y visualizaciones simples utilizando PySpark (Matplotlib, Plotly, Seabons, pycaret)"
   ]
  },
  {
   "cell_type": "code",
   "execution_count": 5,
   "metadata": {},
   "outputs": [],
   "source": [
    "#Importando liberías\n",
    "import findspark\n",
    "import pyspark\n",
    "import pyspark.pandas as ps\n",
    "import seaborn as sns\n",
    "import matplotlib.pyplot as plt\n",
    "import numpy as np \n",
    "import plotly.express as px\n",
    "import warnings\n",
    "\n",
    "warnings.filterwarnings(\"ignore\")"
   ]
  },
  {
   "cell_type": "code",
   "execution_count": 6,
   "metadata": {},
   "outputs": [],
   "source": [
    "#Ruta del csv\n",
    "file_path = \"../globalterrorismdb_0718dist.csv\""
   ]
  },
  {
   "cell_type": "code",
   "execution_count": 7,
   "metadata": {},
   "outputs": [],
   "source": [
    "#Importando datos del csv con pyspark.pandas\n",
    "psdf = ps.read_csv(file_path)"
   ]
  },
  {
   "cell_type": "code",
   "execution_count": 8,
   "metadata": {},
   "outputs": [
    {
     "data": {
      "text/plain": [
       "(181691, 135)"
      ]
     },
     "execution_count": 8,
     "metadata": {},
     "output_type": "execute_result"
    }
   ],
   "source": [
    "#Verificando tamaño de la base de datos con el dataframe de pyspark.pandas\n",
    "psdf.shape"
   ]
  },
  {
   "cell_type": "markdown",
   "metadata": {},
   "source": [
    "### Notas\n",
    "\n",
    "Escalabilidad: pyspark.pandas maneja grandes bases de datos, si se trabajo bases de datos muy grandes se debe considerar usar directamente pyspark con spark.read.csv\n",
    "\n",
    "Conversion a spark dataframe: se realiza para operaciones distribuidas mediante las siguientes operaciones.\n",
    "- spark_df = df.to_spark()\n",
    "- spark_df.printShema()"
   ]
  },
  {
   "cell_type": "code",
   "execution_count": 9,
   "metadata": {},
   "outputs": [
    {
     "name": "stdout",
     "output_type": "stream",
     "text": [
      "root\n",
      " |-- eventid: long (nullable = true)\n",
      " |-- iyear: integer (nullable = true)\n",
      " |-- imonth: integer (nullable = true)\n",
      " |-- iday: integer (nullable = true)\n",
      " |-- approxdate: string (nullable = true)\n",
      " |-- extended: integer (nullable = true)\n",
      " |-- resolution: string (nullable = true)\n",
      " |-- country: integer (nullable = true)\n",
      " |-- country_txt: string (nullable = true)\n",
      " |-- region: integer (nullable = true)\n",
      " |-- region_txt: string (nullable = true)\n",
      " |-- provstate: string (nullable = true)\n",
      " |-- city: string (nullable = true)\n",
      " |-- latitude: double (nullable = true)\n",
      " |-- longitude: double (nullable = true)\n",
      " |-- specificity: integer (nullable = true)\n",
      " |-- vicinity: integer (nullable = true)\n",
      " |-- location: string (nullable = true)\n",
      " |-- summary: string (nullable = true)\n",
      " |-- crit1: string (nullable = true)\n",
      " |-- crit2: string (nullable = true)\n",
      " |-- crit3: string (nullable = true)\n",
      " |-- doubtterr: string (nullable = true)\n",
      " |-- alternative: string (nullable = true)\n",
      " |-- alternative_txt: string (nullable = true)\n",
      " |-- multiple: string (nullable = true)\n",
      " |-- success: string (nullable = true)\n",
      " |-- suicide: string (nullable = true)\n",
      " |-- attacktype1: string (nullable = true)\n",
      " |-- attacktype1_txt: string (nullable = true)\n",
      " |-- attacktype2: string (nullable = true)\n",
      " |-- attacktype2_txt: string (nullable = true)\n",
      " |-- attacktype3: string (nullable = true)\n",
      " |-- attacktype3_txt: string (nullable = true)\n",
      " |-- targtype1: string (nullable = true)\n",
      " |-- targtype1_txt: string (nullable = true)\n",
      " |-- targsubtype1: string (nullable = true)\n",
      " |-- targsubtype1_txt: string (nullable = true)\n",
      " |-- corp1: string (nullable = true)\n",
      " |-- target1: string (nullable = true)\n",
      " |-- natlty1: string (nullable = true)\n",
      " |-- natlty1_txt: string (nullable = true)\n",
      " |-- targtype2: string (nullable = true)\n",
      " |-- targtype2_txt: string (nullable = true)\n",
      " |-- targsubtype2: string (nullable = true)\n",
      " |-- targsubtype2_txt: string (nullable = true)\n",
      " |-- corp2: string (nullable = true)\n",
      " |-- target2: string (nullable = true)\n",
      " |-- natlty2: string (nullable = true)\n",
      " |-- natlty2_txt: string (nullable = true)\n",
      " |-- targtype3: string (nullable = true)\n",
      " |-- targtype3_txt: string (nullable = true)\n",
      " |-- targsubtype3: string (nullable = true)\n",
      " |-- targsubtype3_txt: string (nullable = true)\n",
      " |-- corp3: string (nullable = true)\n",
      " |-- target3: string (nullable = true)\n",
      " |-- natlty3: string (nullable = true)\n",
      " |-- natlty3_txt: string (nullable = true)\n",
      " |-- gname: string (nullable = true)\n",
      " |-- gsubname: string (nullable = true)\n",
      " |-- gname2: string (nullable = true)\n",
      " |-- gsubname2: string (nullable = true)\n",
      " |-- gname3: string (nullable = true)\n",
      " |-- gsubname3: string (nullable = true)\n",
      " |-- motive: string (nullable = true)\n",
      " |-- guncertain1: string (nullable = true)\n",
      " |-- guncertain2: string (nullable = true)\n",
      " |-- guncertain3: string (nullable = true)\n",
      " |-- individual: string (nullable = true)\n",
      " |-- nperps: string (nullable = true)\n",
      " |-- nperpcap: string (nullable = true)\n",
      " |-- claimed: string (nullable = true)\n",
      " |-- claimmode: string (nullable = true)\n",
      " |-- claimmode_txt: string (nullable = true)\n",
      " |-- claim2: string (nullable = true)\n",
      " |-- claimmode2: string (nullable = true)\n",
      " |-- claimmode2_txt: string (nullable = true)\n",
      " |-- claim3: string (nullable = true)\n",
      " |-- claimmode3: string (nullable = true)\n",
      " |-- claimmode3_txt: string (nullable = true)\n",
      " |-- compclaim: string (nullable = true)\n",
      " |-- weaptype1: string (nullable = true)\n",
      " |-- weaptype1_txt: string (nullable = true)\n",
      " |-- weapsubtype1: string (nullable = true)\n",
      " |-- weapsubtype1_txt: string (nullable = true)\n",
      " |-- weaptype2: string (nullable = true)\n",
      " |-- weaptype2_txt: string (nullable = true)\n",
      " |-- weapsubtype2: string (nullable = true)\n",
      " |-- weapsubtype2_txt: string (nullable = true)\n",
      " |-- weaptype3: string (nullable = true)\n",
      " |-- weaptype3_txt: string (nullable = true)\n",
      " |-- weapsubtype3: string (nullable = true)\n",
      " |-- weapsubtype3_txt: string (nullable = true)\n",
      " |-- weaptype4: string (nullable = true)\n",
      " |-- weaptype4_txt: string (nullable = true)\n",
      " |-- weapsubtype4: string (nullable = true)\n",
      " |-- weapsubtype4_txt: string (nullable = true)\n",
      " |-- weapdetail: string (nullable = true)\n",
      " |-- nkill: string (nullable = true)\n",
      " |-- nkillus: string (nullable = true)\n",
      " |-- nkillter: string (nullable = true)\n",
      " |-- nwound: string (nullable = true)\n",
      " |-- nwoundus: string (nullable = true)\n",
      " |-- nwoundte: string (nullable = true)\n",
      " |-- property: string (nullable = true)\n",
      " |-- propextent: string (nullable = true)\n",
      " |-- propextent_txt: string (nullable = true)\n",
      " |-- propvalue: string (nullable = true)\n",
      " |-- propcomment: string (nullable = true)\n",
      " |-- ishostkid: string (nullable = true)\n",
      " |-- nhostkid: string (nullable = true)\n",
      " |-- nhostkidus: string (nullable = true)\n",
      " |-- nhours: string (nullable = true)\n",
      " |-- ndays: string (nullable = true)\n",
      " |-- divert: string (nullable = true)\n",
      " |-- kidhijcountry: string (nullable = true)\n",
      " |-- ransom: string (nullable = true)\n",
      " |-- ransomamt: string (nullable = true)\n",
      " |-- ransomamtus: string (nullable = true)\n",
      " |-- ransompaid: string (nullable = true)\n",
      " |-- ransompaidus: string (nullable = true)\n",
      " |-- ransomnote: string (nullable = true)\n",
      " |-- hostkidoutcome: string (nullable = true)\n",
      " |-- hostkidoutcome_txt: string (nullable = true)\n",
      " |-- nreleased: string (nullable = true)\n",
      " |-- addnotes: string (nullable = true)\n",
      " |-- scite1: string (nullable = true)\n",
      " |-- scite2: string (nullable = true)\n",
      " |-- scite3: string (nullable = true)\n",
      " |-- dbsource: string (nullable = true)\n",
      " |-- INT_LOG: string (nullable = true)\n",
      " |-- INT_IDEO: string (nullable = true)\n",
      " |-- INT_MISC: string (nullable = true)\n",
      " |-- INT_ANY: string (nullable = true)\n",
      " |-- related: string (nullable = true)\n",
      "\n"
     ]
    }
   ],
   "source": [
    "#Conversion a Spark Dataframe\n",
    "spark_df = psdf.to_spark()\n",
    "\n",
    "# Mostrar el esquema del DataFrame de Spark\n",
    "spark_df.printSchema()"
   ]
  },
  {
   "cell_type": "code",
   "execution_count": 10,
   "metadata": {},
   "outputs": [
    {
     "name": "stdout",
     "output_type": "stream",
     "text": [
      "[('eventid', 'bigint'), ('iyear', 'int'), ('imonth', 'int'), ('iday', 'int'), ('approxdate', 'string'), ('extended', 'int'), ('resolution', 'string'), ('country', 'int'), ('country_txt', 'string'), ('region', 'int'), ('region_txt', 'string'), ('provstate', 'string'), ('city', 'string'), ('latitude', 'double'), ('longitude', 'double'), ('specificity', 'int'), ('vicinity', 'int'), ('location', 'string'), ('summary', 'string'), ('crit1', 'string'), ('crit2', 'string'), ('crit3', 'string'), ('doubtterr', 'string'), ('alternative', 'string'), ('alternative_txt', 'string'), ('multiple', 'string'), ('success', 'string'), ('suicide', 'string'), ('attacktype1', 'string'), ('attacktype1_txt', 'string'), ('attacktype2', 'string'), ('attacktype2_txt', 'string'), ('attacktype3', 'string'), ('attacktype3_txt', 'string'), ('targtype1', 'string'), ('targtype1_txt', 'string'), ('targsubtype1', 'string'), ('targsubtype1_txt', 'string'), ('corp1', 'string'), ('target1', 'string'), ('natlty1', 'string'), ('natlty1_txt', 'string'), ('targtype2', 'string'), ('targtype2_txt', 'string'), ('targsubtype2', 'string'), ('targsubtype2_txt', 'string'), ('corp2', 'string'), ('target2', 'string'), ('natlty2', 'string'), ('natlty2_txt', 'string'), ('targtype3', 'string'), ('targtype3_txt', 'string'), ('targsubtype3', 'string'), ('targsubtype3_txt', 'string'), ('corp3', 'string'), ('target3', 'string'), ('natlty3', 'string'), ('natlty3_txt', 'string'), ('gname', 'string'), ('gsubname', 'string'), ('gname2', 'string'), ('gsubname2', 'string'), ('gname3', 'string'), ('gsubname3', 'string'), ('motive', 'string'), ('guncertain1', 'string'), ('guncertain2', 'string'), ('guncertain3', 'string'), ('individual', 'string'), ('nperps', 'string'), ('nperpcap', 'string'), ('claimed', 'string'), ('claimmode', 'string'), ('claimmode_txt', 'string'), ('claim2', 'string'), ('claimmode2', 'string'), ('claimmode2_txt', 'string'), ('claim3', 'string'), ('claimmode3', 'string'), ('claimmode3_txt', 'string'), ('compclaim', 'string'), ('weaptype1', 'string'), ('weaptype1_txt', 'string'), ('weapsubtype1', 'string'), ('weapsubtype1_txt', 'string'), ('weaptype2', 'string'), ('weaptype2_txt', 'string'), ('weapsubtype2', 'string'), ('weapsubtype2_txt', 'string'), ('weaptype3', 'string'), ('weaptype3_txt', 'string'), ('weapsubtype3', 'string'), ('weapsubtype3_txt', 'string'), ('weaptype4', 'string'), ('weaptype4_txt', 'string'), ('weapsubtype4', 'string'), ('weapsubtype4_txt', 'string'), ('weapdetail', 'string'), ('nkill', 'string'), ('nkillus', 'string'), ('nkillter', 'string'), ('nwound', 'string'), ('nwoundus', 'string'), ('nwoundte', 'string'), ('property', 'string'), ('propextent', 'string'), ('propextent_txt', 'string'), ('propvalue', 'string'), ('propcomment', 'string'), ('ishostkid', 'string'), ('nhostkid', 'string'), ('nhostkidus', 'string'), ('nhours', 'string'), ('ndays', 'string'), ('divert', 'string'), ('kidhijcountry', 'string'), ('ransom', 'string'), ('ransomamt', 'string'), ('ransomamtus', 'string'), ('ransompaid', 'string'), ('ransompaidus', 'string'), ('ransomnote', 'string'), ('hostkidoutcome', 'string'), ('hostkidoutcome_txt', 'string'), ('nreleased', 'string'), ('addnotes', 'string'), ('scite1', 'string'), ('scite2', 'string'), ('scite3', 'string'), ('dbsource', 'string'), ('INT_LOG', 'string'), ('INT_IDEO', 'string'), ('INT_MISC', 'string'), ('INT_ANY', 'string'), ('related', 'string')]\n"
     ]
    }
   ],
   "source": [
    "#Revisando estructura del dataframe\n",
    "print(spark_df.dtypes)"
   ]
  },
  {
   "cell_type": "markdown",
   "metadata": {},
   "source": [
    "### ¿Por qué usar pyspark.pandas?\n",
    "\n",
    "- Escalabilidad: Permite trabajar con datos distribuidos que no caben en memoria, aprovechando Spark.\n",
    "\n",
    "- Compatibilidad: La API es casi idéntica a pandas, por lo que es fácil de usar para quienes ya conocen pandas.\n",
    "\n",
    "- Conversión sencilla: Facilita la conversión entre pyspark.pandas y los DataFrames estándar de PySpark."
   ]
  },
  {
   "cell_type": "markdown",
   "metadata": {},
   "source": [
    "### Trabajando con pyspark con la sintaxis de pandas"
   ]
  },
  {
   "cell_type": "code",
   "execution_count": 11,
   "metadata": {},
   "outputs": [
    {
     "data": {
      "text/html": [
       "<div>\n",
       "<style scoped>\n",
       "    .dataframe tbody tr th:only-of-type {\n",
       "        vertical-align: middle;\n",
       "    }\n",
       "\n",
       "    .dataframe tbody tr th {\n",
       "        vertical-align: top;\n",
       "    }\n",
       "\n",
       "    .dataframe thead th {\n",
       "        text-align: right;\n",
       "    }\n",
       "</style>\n",
       "<table border=\"1\" class=\"dataframe\">\n",
       "  <thead>\n",
       "    <tr style=\"text-align: right;\">\n",
       "      <th></th>\n",
       "      <th>eventid</th>\n",
       "      <th>iyear</th>\n",
       "      <th>imonth</th>\n",
       "      <th>iday</th>\n",
       "      <th>approxdate</th>\n",
       "      <th>extended</th>\n",
       "      <th>resolution</th>\n",
       "      <th>country</th>\n",
       "      <th>country_txt</th>\n",
       "      <th>region</th>\n",
       "      <th>region_txt</th>\n",
       "      <th>provstate</th>\n",
       "      <th>city</th>\n",
       "      <th>latitude</th>\n",
       "      <th>longitude</th>\n",
       "      <th>specificity</th>\n",
       "      <th>vicinity</th>\n",
       "      <th>location</th>\n",
       "      <th>summary</th>\n",
       "      <th>crit1</th>\n",
       "      <th>crit2</th>\n",
       "      <th>crit3</th>\n",
       "      <th>doubtterr</th>\n",
       "      <th>alternative</th>\n",
       "      <th>alternative_txt</th>\n",
       "      <th>multiple</th>\n",
       "      <th>success</th>\n",
       "      <th>suicide</th>\n",
       "      <th>attacktype1</th>\n",
       "      <th>attacktype1_txt</th>\n",
       "      <th>attacktype2</th>\n",
       "      <th>attacktype2_txt</th>\n",
       "      <th>attacktype3</th>\n",
       "      <th>attacktype3_txt</th>\n",
       "      <th>targtype1</th>\n",
       "      <th>targtype1_txt</th>\n",
       "      <th>targsubtype1</th>\n",
       "      <th>targsubtype1_txt</th>\n",
       "      <th>corp1</th>\n",
       "      <th>target1</th>\n",
       "      <th>natlty1</th>\n",
       "      <th>natlty1_txt</th>\n",
       "      <th>targtype2</th>\n",
       "      <th>targtype2_txt</th>\n",
       "      <th>targsubtype2</th>\n",
       "      <th>targsubtype2_txt</th>\n",
       "      <th>corp2</th>\n",
       "      <th>target2</th>\n",
       "      <th>natlty2</th>\n",
       "      <th>natlty2_txt</th>\n",
       "      <th>targtype3</th>\n",
       "      <th>targtype3_txt</th>\n",
       "      <th>targsubtype3</th>\n",
       "      <th>targsubtype3_txt</th>\n",
       "      <th>corp3</th>\n",
       "      <th>target3</th>\n",
       "      <th>natlty3</th>\n",
       "      <th>natlty3_txt</th>\n",
       "      <th>gname</th>\n",
       "      <th>gsubname</th>\n",
       "      <th>gname2</th>\n",
       "      <th>gsubname2</th>\n",
       "      <th>gname3</th>\n",
       "      <th>gsubname3</th>\n",
       "      <th>motive</th>\n",
       "      <th>guncertain1</th>\n",
       "      <th>guncertain2</th>\n",
       "      <th>guncertain3</th>\n",
       "      <th>individual</th>\n",
       "      <th>nperps</th>\n",
       "      <th>nperpcap</th>\n",
       "      <th>claimed</th>\n",
       "      <th>claimmode</th>\n",
       "      <th>claimmode_txt</th>\n",
       "      <th>claim2</th>\n",
       "      <th>claimmode2</th>\n",
       "      <th>claimmode2_txt</th>\n",
       "      <th>claim3</th>\n",
       "      <th>claimmode3</th>\n",
       "      <th>claimmode3_txt</th>\n",
       "      <th>compclaim</th>\n",
       "      <th>weaptype1</th>\n",
       "      <th>weaptype1_txt</th>\n",
       "      <th>weapsubtype1</th>\n",
       "      <th>weapsubtype1_txt</th>\n",
       "      <th>weaptype2</th>\n",
       "      <th>weaptype2_txt</th>\n",
       "      <th>weapsubtype2</th>\n",
       "      <th>weapsubtype2_txt</th>\n",
       "      <th>weaptype3</th>\n",
       "      <th>weaptype3_txt</th>\n",
       "      <th>weapsubtype3</th>\n",
       "      <th>weapsubtype3_txt</th>\n",
       "      <th>weaptype4</th>\n",
       "      <th>weaptype4_txt</th>\n",
       "      <th>weapsubtype4</th>\n",
       "      <th>weapsubtype4_txt</th>\n",
       "      <th>weapdetail</th>\n",
       "      <th>nkill</th>\n",
       "      <th>nkillus</th>\n",
       "      <th>nkillter</th>\n",
       "      <th>nwound</th>\n",
       "      <th>nwoundus</th>\n",
       "      <th>nwoundte</th>\n",
       "      <th>property</th>\n",
       "      <th>propextent</th>\n",
       "      <th>propextent_txt</th>\n",
       "      <th>propvalue</th>\n",
       "      <th>propcomment</th>\n",
       "      <th>ishostkid</th>\n",
       "      <th>nhostkid</th>\n",
       "      <th>nhostkidus</th>\n",
       "      <th>nhours</th>\n",
       "      <th>ndays</th>\n",
       "      <th>divert</th>\n",
       "      <th>kidhijcountry</th>\n",
       "      <th>ransom</th>\n",
       "      <th>ransomamt</th>\n",
       "      <th>ransomamtus</th>\n",
       "      <th>ransompaid</th>\n",
       "      <th>ransompaidus</th>\n",
       "      <th>ransomnote</th>\n",
       "      <th>hostkidoutcome</th>\n",
       "      <th>hostkidoutcome_txt</th>\n",
       "      <th>nreleased</th>\n",
       "      <th>addnotes</th>\n",
       "      <th>scite1</th>\n",
       "      <th>scite2</th>\n",
       "      <th>scite3</th>\n",
       "      <th>dbsource</th>\n",
       "      <th>INT_LOG</th>\n",
       "      <th>INT_IDEO</th>\n",
       "      <th>INT_MISC</th>\n",
       "      <th>INT_ANY</th>\n",
       "      <th>related</th>\n",
       "    </tr>\n",
       "  </thead>\n",
       "  <tbody>\n",
       "    <tr>\n",
       "      <th>0</th>\n",
       "      <td>197000000001</td>\n",
       "      <td>1970</td>\n",
       "      <td>7</td>\n",
       "      <td>2</td>\n",
       "      <td>None</td>\n",
       "      <td>0</td>\n",
       "      <td>None</td>\n",
       "      <td>58</td>\n",
       "      <td>Dominican Republic</td>\n",
       "      <td>2</td>\n",
       "      <td>Central America &amp; Caribbean</td>\n",
       "      <td>None</td>\n",
       "      <td>Santo Domingo</td>\n",
       "      <td>18.456792</td>\n",
       "      <td>-69.951164</td>\n",
       "      <td>1</td>\n",
       "      <td>0</td>\n",
       "      <td>None</td>\n",
       "      <td>None</td>\n",
       "      <td>1</td>\n",
       "      <td>1</td>\n",
       "      <td>1</td>\n",
       "      <td>0</td>\n",
       "      <td>None</td>\n",
       "      <td>None</td>\n",
       "      <td>0</td>\n",
       "      <td>1</td>\n",
       "      <td>0</td>\n",
       "      <td>1</td>\n",
       "      <td>Assassination</td>\n",
       "      <td>None</td>\n",
       "      <td>None</td>\n",
       "      <td>None</td>\n",
       "      <td>None</td>\n",
       "      <td>14</td>\n",
       "      <td>Private Citizens &amp; Property</td>\n",
       "      <td>68</td>\n",
       "      <td>Named Civilian</td>\n",
       "      <td>None</td>\n",
       "      <td>Julio Guzman</td>\n",
       "      <td>58</td>\n",
       "      <td>Dominican Republic</td>\n",
       "      <td>None</td>\n",
       "      <td>None</td>\n",
       "      <td>None</td>\n",
       "      <td>None</td>\n",
       "      <td>None</td>\n",
       "      <td>None</td>\n",
       "      <td>None</td>\n",
       "      <td>None</td>\n",
       "      <td>None</td>\n",
       "      <td>None</td>\n",
       "      <td>None</td>\n",
       "      <td>None</td>\n",
       "      <td>None</td>\n",
       "      <td>None</td>\n",
       "      <td>None</td>\n",
       "      <td>None</td>\n",
       "      <td>MANO-D</td>\n",
       "      <td>None</td>\n",
       "      <td>None</td>\n",
       "      <td>None</td>\n",
       "      <td>None</td>\n",
       "      <td>None</td>\n",
       "      <td>None</td>\n",
       "      <td>0</td>\n",
       "      <td>None</td>\n",
       "      <td>None</td>\n",
       "      <td>0</td>\n",
       "      <td>None</td>\n",
       "      <td>None</td>\n",
       "      <td>None</td>\n",
       "      <td>None</td>\n",
       "      <td>None</td>\n",
       "      <td>None</td>\n",
       "      <td>None</td>\n",
       "      <td>None</td>\n",
       "      <td>None</td>\n",
       "      <td>None</td>\n",
       "      <td>None</td>\n",
       "      <td>None</td>\n",
       "      <td>13</td>\n",
       "      <td>Unknown</td>\n",
       "      <td>None</td>\n",
       "      <td>None</td>\n",
       "      <td>None</td>\n",
       "      <td>None</td>\n",
       "      <td>None</td>\n",
       "      <td>None</td>\n",
       "      <td>None</td>\n",
       "      <td>None</td>\n",
       "      <td>None</td>\n",
       "      <td>None</td>\n",
       "      <td>None</td>\n",
       "      <td>None</td>\n",
       "      <td>None</td>\n",
       "      <td>None</td>\n",
       "      <td>None</td>\n",
       "      <td>1</td>\n",
       "      <td>None</td>\n",
       "      <td>None</td>\n",
       "      <td>0</td>\n",
       "      <td>None</td>\n",
       "      <td>None</td>\n",
       "      <td>0</td>\n",
       "      <td>None</td>\n",
       "      <td>None</td>\n",
       "      <td>None</td>\n",
       "      <td>None</td>\n",
       "      <td>0</td>\n",
       "      <td>None</td>\n",
       "      <td>None</td>\n",
       "      <td>None</td>\n",
       "      <td>None</td>\n",
       "      <td>None</td>\n",
       "      <td>None</td>\n",
       "      <td>0</td>\n",
       "      <td>None</td>\n",
       "      <td>None</td>\n",
       "      <td>None</td>\n",
       "      <td>None</td>\n",
       "      <td>None</td>\n",
       "      <td>None</td>\n",
       "      <td>None</td>\n",
       "      <td>None</td>\n",
       "      <td>None</td>\n",
       "      <td>None</td>\n",
       "      <td>None</td>\n",
       "      <td>None</td>\n",
       "      <td>PGIS</td>\n",
       "      <td>0</td>\n",
       "      <td>0</td>\n",
       "      <td>0</td>\n",
       "      <td>0</td>\n",
       "      <td>None</td>\n",
       "    </tr>\n",
       "    <tr>\n",
       "      <th>1</th>\n",
       "      <td>197000000002</td>\n",
       "      <td>1970</td>\n",
       "      <td>0</td>\n",
       "      <td>0</td>\n",
       "      <td>None</td>\n",
       "      <td>0</td>\n",
       "      <td>None</td>\n",
       "      <td>130</td>\n",
       "      <td>Mexico</td>\n",
       "      <td>1</td>\n",
       "      <td>North America</td>\n",
       "      <td>Federal</td>\n",
       "      <td>Mexico city</td>\n",
       "      <td>19.371887</td>\n",
       "      <td>-99.086624</td>\n",
       "      <td>1</td>\n",
       "      <td>0</td>\n",
       "      <td>None</td>\n",
       "      <td>None</td>\n",
       "      <td>1</td>\n",
       "      <td>1</td>\n",
       "      <td>1</td>\n",
       "      <td>0</td>\n",
       "      <td>None</td>\n",
       "      <td>None</td>\n",
       "      <td>0</td>\n",
       "      <td>1</td>\n",
       "      <td>0</td>\n",
       "      <td>6</td>\n",
       "      <td>Hostage Taking (Kidnapping)</td>\n",
       "      <td>None</td>\n",
       "      <td>None</td>\n",
       "      <td>None</td>\n",
       "      <td>None</td>\n",
       "      <td>7</td>\n",
       "      <td>Government (Diplomatic)</td>\n",
       "      <td>45</td>\n",
       "      <td>Diplomatic Personnel (outside of embassy, cons...</td>\n",
       "      <td>Belgian Ambassador Daughter</td>\n",
       "      <td>Nadine Chaval, daughter</td>\n",
       "      <td>21</td>\n",
       "      <td>Belgium</td>\n",
       "      <td>None</td>\n",
       "      <td>None</td>\n",
       "      <td>None</td>\n",
       "      <td>None</td>\n",
       "      <td>None</td>\n",
       "      <td>None</td>\n",
       "      <td>None</td>\n",
       "      <td>None</td>\n",
       "      <td>None</td>\n",
       "      <td>None</td>\n",
       "      <td>None</td>\n",
       "      <td>None</td>\n",
       "      <td>None</td>\n",
       "      <td>None</td>\n",
       "      <td>None</td>\n",
       "      <td>None</td>\n",
       "      <td>23rd of September Communist League</td>\n",
       "      <td>None</td>\n",
       "      <td>None</td>\n",
       "      <td>None</td>\n",
       "      <td>None</td>\n",
       "      <td>None</td>\n",
       "      <td>None</td>\n",
       "      <td>0</td>\n",
       "      <td>None</td>\n",
       "      <td>None</td>\n",
       "      <td>0</td>\n",
       "      <td>7</td>\n",
       "      <td>None</td>\n",
       "      <td>None</td>\n",
       "      <td>None</td>\n",
       "      <td>None</td>\n",
       "      <td>None</td>\n",
       "      <td>None</td>\n",
       "      <td>None</td>\n",
       "      <td>None</td>\n",
       "      <td>None</td>\n",
       "      <td>None</td>\n",
       "      <td>None</td>\n",
       "      <td>13</td>\n",
       "      <td>Unknown</td>\n",
       "      <td>None</td>\n",
       "      <td>None</td>\n",
       "      <td>None</td>\n",
       "      <td>None</td>\n",
       "      <td>None</td>\n",
       "      <td>None</td>\n",
       "      <td>None</td>\n",
       "      <td>None</td>\n",
       "      <td>None</td>\n",
       "      <td>None</td>\n",
       "      <td>None</td>\n",
       "      <td>None</td>\n",
       "      <td>None</td>\n",
       "      <td>None</td>\n",
       "      <td>None</td>\n",
       "      <td>0</td>\n",
       "      <td>None</td>\n",
       "      <td>None</td>\n",
       "      <td>0</td>\n",
       "      <td>None</td>\n",
       "      <td>None</td>\n",
       "      <td>0</td>\n",
       "      <td>None</td>\n",
       "      <td>None</td>\n",
       "      <td>None</td>\n",
       "      <td>None</td>\n",
       "      <td>1</td>\n",
       "      <td>1</td>\n",
       "      <td>0</td>\n",
       "      <td>None</td>\n",
       "      <td>None</td>\n",
       "      <td>None</td>\n",
       "      <td>Mexico</td>\n",
       "      <td>1</td>\n",
       "      <td>800000</td>\n",
       "      <td>None</td>\n",
       "      <td>None</td>\n",
       "      <td>None</td>\n",
       "      <td>None</td>\n",
       "      <td>None</td>\n",
       "      <td>None</td>\n",
       "      <td>None</td>\n",
       "      <td>None</td>\n",
       "      <td>None</td>\n",
       "      <td>None</td>\n",
       "      <td>None</td>\n",
       "      <td>PGIS</td>\n",
       "      <td>0</td>\n",
       "      <td>1</td>\n",
       "      <td>1</td>\n",
       "      <td>1</td>\n",
       "      <td>None</td>\n",
       "    </tr>\n",
       "    <tr>\n",
       "      <th>2</th>\n",
       "      <td>197001000001</td>\n",
       "      <td>1970</td>\n",
       "      <td>1</td>\n",
       "      <td>0</td>\n",
       "      <td>None</td>\n",
       "      <td>0</td>\n",
       "      <td>None</td>\n",
       "      <td>160</td>\n",
       "      <td>Philippines</td>\n",
       "      <td>5</td>\n",
       "      <td>Southeast Asia</td>\n",
       "      <td>Tarlac</td>\n",
       "      <td>Unknown</td>\n",
       "      <td>15.478598</td>\n",
       "      <td>120.599741</td>\n",
       "      <td>4</td>\n",
       "      <td>0</td>\n",
       "      <td>None</td>\n",
       "      <td>None</td>\n",
       "      <td>1</td>\n",
       "      <td>1</td>\n",
       "      <td>1</td>\n",
       "      <td>0</td>\n",
       "      <td>None</td>\n",
       "      <td>None</td>\n",
       "      <td>0</td>\n",
       "      <td>1</td>\n",
       "      <td>0</td>\n",
       "      <td>1</td>\n",
       "      <td>Assassination</td>\n",
       "      <td>None</td>\n",
       "      <td>None</td>\n",
       "      <td>None</td>\n",
       "      <td>None</td>\n",
       "      <td>10</td>\n",
       "      <td>Journalists &amp; Media</td>\n",
       "      <td>54</td>\n",
       "      <td>Radio Journalist/Staff/Facility</td>\n",
       "      <td>Voice of America</td>\n",
       "      <td>Employee</td>\n",
       "      <td>217</td>\n",
       "      <td>United States</td>\n",
       "      <td>None</td>\n",
       "      <td>None</td>\n",
       "      <td>None</td>\n",
       "      <td>None</td>\n",
       "      <td>None</td>\n",
       "      <td>None</td>\n",
       "      <td>None</td>\n",
       "      <td>None</td>\n",
       "      <td>None</td>\n",
       "      <td>None</td>\n",
       "      <td>None</td>\n",
       "      <td>None</td>\n",
       "      <td>None</td>\n",
       "      <td>None</td>\n",
       "      <td>None</td>\n",
       "      <td>None</td>\n",
       "      <td>Unknown</td>\n",
       "      <td>None</td>\n",
       "      <td>None</td>\n",
       "      <td>None</td>\n",
       "      <td>None</td>\n",
       "      <td>None</td>\n",
       "      <td>None</td>\n",
       "      <td>0</td>\n",
       "      <td>None</td>\n",
       "      <td>None</td>\n",
       "      <td>0</td>\n",
       "      <td>None</td>\n",
       "      <td>None</td>\n",
       "      <td>None</td>\n",
       "      <td>None</td>\n",
       "      <td>None</td>\n",
       "      <td>None</td>\n",
       "      <td>None</td>\n",
       "      <td>None</td>\n",
       "      <td>None</td>\n",
       "      <td>None</td>\n",
       "      <td>None</td>\n",
       "      <td>None</td>\n",
       "      <td>13</td>\n",
       "      <td>Unknown</td>\n",
       "      <td>None</td>\n",
       "      <td>None</td>\n",
       "      <td>None</td>\n",
       "      <td>None</td>\n",
       "      <td>None</td>\n",
       "      <td>None</td>\n",
       "      <td>None</td>\n",
       "      <td>None</td>\n",
       "      <td>None</td>\n",
       "      <td>None</td>\n",
       "      <td>None</td>\n",
       "      <td>None</td>\n",
       "      <td>None</td>\n",
       "      <td>None</td>\n",
       "      <td>None</td>\n",
       "      <td>1</td>\n",
       "      <td>None</td>\n",
       "      <td>None</td>\n",
       "      <td>0</td>\n",
       "      <td>None</td>\n",
       "      <td>None</td>\n",
       "      <td>0</td>\n",
       "      <td>None</td>\n",
       "      <td>None</td>\n",
       "      <td>None</td>\n",
       "      <td>None</td>\n",
       "      <td>0</td>\n",
       "      <td>None</td>\n",
       "      <td>None</td>\n",
       "      <td>None</td>\n",
       "      <td>None</td>\n",
       "      <td>None</td>\n",
       "      <td>None</td>\n",
       "      <td>0</td>\n",
       "      <td>None</td>\n",
       "      <td>None</td>\n",
       "      <td>None</td>\n",
       "      <td>None</td>\n",
       "      <td>None</td>\n",
       "      <td>None</td>\n",
       "      <td>None</td>\n",
       "      <td>None</td>\n",
       "      <td>None</td>\n",
       "      <td>None</td>\n",
       "      <td>None</td>\n",
       "      <td>None</td>\n",
       "      <td>PGIS</td>\n",
       "      <td>-9</td>\n",
       "      <td>-9</td>\n",
       "      <td>1</td>\n",
       "      <td>1</td>\n",
       "      <td>None</td>\n",
       "    </tr>\n",
       "    <tr>\n",
       "      <th>3</th>\n",
       "      <td>197001000002</td>\n",
       "      <td>1970</td>\n",
       "      <td>1</td>\n",
       "      <td>0</td>\n",
       "      <td>None</td>\n",
       "      <td>0</td>\n",
       "      <td>None</td>\n",
       "      <td>78</td>\n",
       "      <td>Greece</td>\n",
       "      <td>8</td>\n",
       "      <td>Western Europe</td>\n",
       "      <td>Attica</td>\n",
       "      <td>Athens</td>\n",
       "      <td>37.997490</td>\n",
       "      <td>23.762728</td>\n",
       "      <td>1</td>\n",
       "      <td>0</td>\n",
       "      <td>None</td>\n",
       "      <td>None</td>\n",
       "      <td>1</td>\n",
       "      <td>1</td>\n",
       "      <td>1</td>\n",
       "      <td>0</td>\n",
       "      <td>None</td>\n",
       "      <td>None</td>\n",
       "      <td>0</td>\n",
       "      <td>1</td>\n",
       "      <td>0</td>\n",
       "      <td>3</td>\n",
       "      <td>Bombing/Explosion</td>\n",
       "      <td>None</td>\n",
       "      <td>None</td>\n",
       "      <td>None</td>\n",
       "      <td>None</td>\n",
       "      <td>7</td>\n",
       "      <td>Government (Diplomatic)</td>\n",
       "      <td>46</td>\n",
       "      <td>Embassy/Consulate</td>\n",
       "      <td>None</td>\n",
       "      <td>U.S. Embassy</td>\n",
       "      <td>217</td>\n",
       "      <td>United States</td>\n",
       "      <td>None</td>\n",
       "      <td>None</td>\n",
       "      <td>None</td>\n",
       "      <td>None</td>\n",
       "      <td>None</td>\n",
       "      <td>None</td>\n",
       "      <td>None</td>\n",
       "      <td>None</td>\n",
       "      <td>None</td>\n",
       "      <td>None</td>\n",
       "      <td>None</td>\n",
       "      <td>None</td>\n",
       "      <td>None</td>\n",
       "      <td>None</td>\n",
       "      <td>None</td>\n",
       "      <td>None</td>\n",
       "      <td>Unknown</td>\n",
       "      <td>None</td>\n",
       "      <td>None</td>\n",
       "      <td>None</td>\n",
       "      <td>None</td>\n",
       "      <td>None</td>\n",
       "      <td>None</td>\n",
       "      <td>0</td>\n",
       "      <td>None</td>\n",
       "      <td>None</td>\n",
       "      <td>0</td>\n",
       "      <td>None</td>\n",
       "      <td>None</td>\n",
       "      <td>None</td>\n",
       "      <td>None</td>\n",
       "      <td>None</td>\n",
       "      <td>None</td>\n",
       "      <td>None</td>\n",
       "      <td>None</td>\n",
       "      <td>None</td>\n",
       "      <td>None</td>\n",
       "      <td>None</td>\n",
       "      <td>None</td>\n",
       "      <td>6</td>\n",
       "      <td>Explosives</td>\n",
       "      <td>16</td>\n",
       "      <td>Unknown Explosive Type</td>\n",
       "      <td>None</td>\n",
       "      <td>None</td>\n",
       "      <td>None</td>\n",
       "      <td>None</td>\n",
       "      <td>None</td>\n",
       "      <td>None</td>\n",
       "      <td>None</td>\n",
       "      <td>None</td>\n",
       "      <td>None</td>\n",
       "      <td>None</td>\n",
       "      <td>None</td>\n",
       "      <td>None</td>\n",
       "      <td>Explosive</td>\n",
       "      <td>None</td>\n",
       "      <td>None</td>\n",
       "      <td>None</td>\n",
       "      <td>None</td>\n",
       "      <td>None</td>\n",
       "      <td>None</td>\n",
       "      <td>1</td>\n",
       "      <td>None</td>\n",
       "      <td>None</td>\n",
       "      <td>None</td>\n",
       "      <td>None</td>\n",
       "      <td>0</td>\n",
       "      <td>None</td>\n",
       "      <td>None</td>\n",
       "      <td>None</td>\n",
       "      <td>None</td>\n",
       "      <td>None</td>\n",
       "      <td>None</td>\n",
       "      <td>0</td>\n",
       "      <td>None</td>\n",
       "      <td>None</td>\n",
       "      <td>None</td>\n",
       "      <td>None</td>\n",
       "      <td>None</td>\n",
       "      <td>None</td>\n",
       "      <td>None</td>\n",
       "      <td>None</td>\n",
       "      <td>None</td>\n",
       "      <td>None</td>\n",
       "      <td>None</td>\n",
       "      <td>None</td>\n",
       "      <td>PGIS</td>\n",
       "      <td>-9</td>\n",
       "      <td>-9</td>\n",
       "      <td>1</td>\n",
       "      <td>1</td>\n",
       "      <td>None</td>\n",
       "    </tr>\n",
       "    <tr>\n",
       "      <th>4</th>\n",
       "      <td>197001000003</td>\n",
       "      <td>1970</td>\n",
       "      <td>1</td>\n",
       "      <td>0</td>\n",
       "      <td>None</td>\n",
       "      <td>0</td>\n",
       "      <td>None</td>\n",
       "      <td>101</td>\n",
       "      <td>Japan</td>\n",
       "      <td>4</td>\n",
       "      <td>East Asia</td>\n",
       "      <td>Fukouka</td>\n",
       "      <td>Fukouka</td>\n",
       "      <td>33.580412</td>\n",
       "      <td>130.396361</td>\n",
       "      <td>1</td>\n",
       "      <td>0</td>\n",
       "      <td>None</td>\n",
       "      <td>None</td>\n",
       "      <td>1</td>\n",
       "      <td>1</td>\n",
       "      <td>1</td>\n",
       "      <td>-9</td>\n",
       "      <td>None</td>\n",
       "      <td>None</td>\n",
       "      <td>0</td>\n",
       "      <td>1</td>\n",
       "      <td>0</td>\n",
       "      <td>7</td>\n",
       "      <td>Facility/Infrastructure Attack</td>\n",
       "      <td>None</td>\n",
       "      <td>None</td>\n",
       "      <td>None</td>\n",
       "      <td>None</td>\n",
       "      <td>7</td>\n",
       "      <td>Government (Diplomatic)</td>\n",
       "      <td>46</td>\n",
       "      <td>Embassy/Consulate</td>\n",
       "      <td>None</td>\n",
       "      <td>U.S. Consulate</td>\n",
       "      <td>217</td>\n",
       "      <td>United States</td>\n",
       "      <td>None</td>\n",
       "      <td>None</td>\n",
       "      <td>None</td>\n",
       "      <td>None</td>\n",
       "      <td>None</td>\n",
       "      <td>None</td>\n",
       "      <td>None</td>\n",
       "      <td>None</td>\n",
       "      <td>None</td>\n",
       "      <td>None</td>\n",
       "      <td>None</td>\n",
       "      <td>None</td>\n",
       "      <td>None</td>\n",
       "      <td>None</td>\n",
       "      <td>None</td>\n",
       "      <td>None</td>\n",
       "      <td>Unknown</td>\n",
       "      <td>None</td>\n",
       "      <td>None</td>\n",
       "      <td>None</td>\n",
       "      <td>None</td>\n",
       "      <td>None</td>\n",
       "      <td>None</td>\n",
       "      <td>0</td>\n",
       "      <td>None</td>\n",
       "      <td>None</td>\n",
       "      <td>0</td>\n",
       "      <td>None</td>\n",
       "      <td>None</td>\n",
       "      <td>None</td>\n",
       "      <td>None</td>\n",
       "      <td>None</td>\n",
       "      <td>None</td>\n",
       "      <td>None</td>\n",
       "      <td>None</td>\n",
       "      <td>None</td>\n",
       "      <td>None</td>\n",
       "      <td>None</td>\n",
       "      <td>None</td>\n",
       "      <td>8</td>\n",
       "      <td>Incendiary</td>\n",
       "      <td>None</td>\n",
       "      <td>None</td>\n",
       "      <td>None</td>\n",
       "      <td>None</td>\n",
       "      <td>None</td>\n",
       "      <td>None</td>\n",
       "      <td>None</td>\n",
       "      <td>None</td>\n",
       "      <td>None</td>\n",
       "      <td>None</td>\n",
       "      <td>None</td>\n",
       "      <td>None</td>\n",
       "      <td>None</td>\n",
       "      <td>None</td>\n",
       "      <td>Incendiary</td>\n",
       "      <td>None</td>\n",
       "      <td>None</td>\n",
       "      <td>None</td>\n",
       "      <td>None</td>\n",
       "      <td>None</td>\n",
       "      <td>None</td>\n",
       "      <td>1</td>\n",
       "      <td>None</td>\n",
       "      <td>None</td>\n",
       "      <td>None</td>\n",
       "      <td>None</td>\n",
       "      <td>0</td>\n",
       "      <td>None</td>\n",
       "      <td>None</td>\n",
       "      <td>None</td>\n",
       "      <td>None</td>\n",
       "      <td>None</td>\n",
       "      <td>None</td>\n",
       "      <td>0</td>\n",
       "      <td>None</td>\n",
       "      <td>None</td>\n",
       "      <td>None</td>\n",
       "      <td>None</td>\n",
       "      <td>None</td>\n",
       "      <td>None</td>\n",
       "      <td>None</td>\n",
       "      <td>None</td>\n",
       "      <td>None</td>\n",
       "      <td>None</td>\n",
       "      <td>None</td>\n",
       "      <td>None</td>\n",
       "      <td>PGIS</td>\n",
       "      <td>-9</td>\n",
       "      <td>-9</td>\n",
       "      <td>1</td>\n",
       "      <td>1</td>\n",
       "      <td>None</td>\n",
       "    </tr>\n",
       "  </tbody>\n",
       "</table>\n",
       "</div>"
      ],
      "text/plain": [
       "        eventid  iyear  imonth  iday approxdate  extended resolution  country         country_txt  region                   region_txt provstate           city   latitude   longitude  specificity  vicinity location summary crit1 crit2 crit3 doubtterr alternative alternative_txt multiple success suicide attacktype1                 attacktype1_txt attacktype2 attacktype2_txt attacktype3 attacktype3_txt targtype1                targtype1_txt targsubtype1                                      targsubtype1_txt                        corp1                  target1 natlty1         natlty1_txt targtype2 targtype2_txt targsubtype2 targsubtype2_txt corp2 target2 natlty2 natlty2_txt targtype3 targtype3_txt targsubtype3 targsubtype3_txt corp3 target3 natlty3 natlty3_txt                               gname gsubname gname2 gsubname2 gname3 gsubname3 motive guncertain1 guncertain2 guncertain3 individual nperps nperpcap claimed claimmode claimmode_txt claim2 claimmode2 claimmode2_txt claim3 claimmode3 claimmode3_txt compclaim weaptype1 weaptype1_txt weapsubtype1        weapsubtype1_txt weaptype2 weaptype2_txt weapsubtype2 weapsubtype2_txt weaptype3 weaptype3_txt weapsubtype3 weapsubtype3_txt weaptype4 weaptype4_txt weapsubtype4 weapsubtype4_txt  weapdetail nkill nkillus nkillter nwound nwoundus nwoundte property propextent propextent_txt propvalue propcomment ishostkid nhostkid nhostkidus nhours ndays divert kidhijcountry ransom ransomamt ransomamtus ransompaid ransompaidus ransomnote hostkidoutcome hostkidoutcome_txt nreleased addnotes scite1 scite2 scite3 dbsource INT_LOG INT_IDEO INT_MISC INT_ANY related\n",
       "0  197000000001   1970       7     2       None         0       None       58  Dominican Republic       2  Central America & Caribbean      None  Santo Domingo  18.456792  -69.951164            1         0     None    None     1     1     1         0        None            None        0       1       0           1                   Assassination        None            None        None            None        14  Private Citizens & Property           68                                        Named Civilian                         None             Julio Guzman      58  Dominican Republic      None          None         None             None  None    None    None        None      None          None         None             None  None    None    None        None                              MANO-D     None   None      None   None      None   None           0        None        None          0   None     None    None      None          None   None       None           None   None       None           None      None        13       Unknown         None                    None      None          None         None             None      None          None         None             None      None          None         None             None        None     1    None     None      0     None     None        0       None           None      None        None         0     None       None   None  None   None          None      0      None        None       None         None       None           None               None      None     None   None   None   None     PGIS       0        0        0       0    None\n",
       "1  197000000002   1970       0     0       None         0       None      130              Mexico       1                North America   Federal    Mexico city  19.371887  -99.086624            1         0     None    None     1     1     1         0        None            None        0       1       0           6     Hostage Taking (Kidnapping)        None            None        None            None         7      Government (Diplomatic)           45  Diplomatic Personnel (outside of embassy, consulate)  Belgian Ambassador Daughter  Nadine Chaval, daughter      21             Belgium      None          None         None             None  None    None    None        None      None          None         None             None  None    None    None        None  23rd of September Communist League     None   None      None   None      None   None           0        None        None          0      7     None    None      None          None   None       None           None   None       None           None      None        13       Unknown         None                    None      None          None         None             None      None          None         None             None      None          None         None             None        None     0    None     None      0     None     None        0       None           None      None        None         1        1          0   None  None   None        Mexico      1    800000        None       None         None       None           None               None      None     None   None   None   None     PGIS       0        1        1       1    None\n",
       "2  197001000001   1970       1     0       None         0       None      160         Philippines       5               Southeast Asia    Tarlac        Unknown  15.478598  120.599741            4         0     None    None     1     1     1         0        None            None        0       1       0           1                   Assassination        None            None        None            None        10          Journalists & Media           54                       Radio Journalist/Staff/Facility             Voice of America                 Employee     217       United States      None          None         None             None  None    None    None        None      None          None         None             None  None    None    None        None                             Unknown     None   None      None   None      None   None           0        None        None          0   None     None    None      None          None   None       None           None   None       None           None      None        13       Unknown         None                    None      None          None         None             None      None          None         None             None      None          None         None             None        None     1    None     None      0     None     None        0       None           None      None        None         0     None       None   None  None   None          None      0      None        None       None         None       None           None               None      None     None   None   None   None     PGIS      -9       -9        1       1    None\n",
       "3  197001000002   1970       1     0       None         0       None       78              Greece       8               Western Europe    Attica         Athens  37.997490   23.762728            1         0     None    None     1     1     1         0        None            None        0       1       0           3               Bombing/Explosion        None            None        None            None         7      Government (Diplomatic)           46                                     Embassy/Consulate                         None             U.S. Embassy     217       United States      None          None         None             None  None    None    None        None      None          None         None             None  None    None    None        None                             Unknown     None   None      None   None      None   None           0        None        None          0   None     None    None      None          None   None       None           None   None       None           None      None         6    Explosives           16  Unknown Explosive Type      None          None         None             None      None          None         None             None      None          None         None             None   Explosive  None    None     None   None     None     None        1       None           None      None        None         0     None       None   None  None   None          None      0      None        None       None         None       None           None               None      None     None   None   None   None     PGIS      -9       -9        1       1    None\n",
       "4  197001000003   1970       1     0       None         0       None      101               Japan       4                    East Asia   Fukouka        Fukouka  33.580412  130.396361            1         0     None    None     1     1     1        -9        None            None        0       1       0           7  Facility/Infrastructure Attack        None            None        None            None         7      Government (Diplomatic)           46                                     Embassy/Consulate                         None           U.S. Consulate     217       United States      None          None         None             None  None    None    None        None      None          None         None             None  None    None    None        None                             Unknown     None   None      None   None      None   None           0        None        None          0   None     None    None      None          None   None       None           None   None       None           None      None         8    Incendiary         None                    None      None          None         None             None      None          None         None             None      None          None         None             None  Incendiary  None    None     None   None     None     None        1       None           None      None        None         0     None       None   None  None   None          None      0      None        None       None         None       None           None               None      None     None   None   None   None     PGIS      -9       -9        1       1    None"
      ]
     },
     "execution_count": 11,
     "metadata": {},
     "output_type": "execute_result"
    }
   ],
   "source": [
    "# Verificando primeras lineas \n",
    "psdf.head(5)"
   ]
  },
  {
   "cell_type": "code",
   "execution_count": 12,
   "metadata": {},
   "outputs": [
    {
     "data": {
      "text/plain": [
       "eventid        int64\n",
       "iyear          int32\n",
       "imonth         int32\n",
       "iday           int32\n",
       "approxdate    object\n",
       "               ...  \n",
       "INT_LOG       object\n",
       "INT_IDEO      object\n",
       "INT_MISC      object\n",
       "INT_ANY       object\n",
       "related       object\n",
       "Length: 135, dtype: object"
      ]
     },
     "execution_count": 12,
     "metadata": {},
     "output_type": "execute_result"
    }
   ],
   "source": [
    "# Verificando tipo de datos\n",
    "psdf.dtypes"
   ]
  },
  {
   "cell_type": "code",
   "execution_count": 13,
   "metadata": {},
   "outputs": [
    {
     "name": "stdout",
     "output_type": "stream",
     "text": [
      "            eventid          iyear         imonth           iday       extended        country         region       latitude     longitude    specificity       vicinity\n",
      "count  1.816910e+05  181691.000000  181691.000000  181691.000000  181691.000000  181691.000000  181691.000000  177135.000000  1.771340e+05  181685.000000  181691.000000\n",
      "mean   2.002705e+11    2002.638997       6.467277      15.505644       0.045346     131.968501       7.160938      23.498343 -4.586957e+02       1.451452       0.068297\n",
      "std    1.325957e+09      13.259430       3.388303       8.814045       0.208063     112.414535       2.933408      18.569242  2.047790e+05       0.995430       0.284553\n",
      "min    1.970000e+11    1970.000000       0.000000       0.000000       0.000000       4.000000       1.000000     -53.154613 -8.618590e+07       1.000000      -9.000000\n",
      "25%    1.991021e+11    1991.000000       4.000000       8.000000       0.000000      78.000000       5.000000      11.509748  4.481776e+00       1.000000       0.000000\n",
      "50%    2.009022e+11    2009.000000       6.000000      15.000000       0.000000      98.000000       6.000000      31.467463  4.324268e+01       1.000000       0.000000\n",
      "75%    2.014081e+11    2014.000000       9.000000      23.000000       0.000000     160.000000      10.000000      34.683281  6.871033e+01       1.000000       0.000000\n",
      "max    2.017123e+11    2017.000000      12.000000      31.000000       1.000000    1004.000000      12.000000      74.633553  1.793667e+02       5.000000       1.000000\n"
     ]
    }
   ],
   "source": [
    "# Estadistica descriptiva del dataframe \n",
    "print(psdf.describe())"
   ]
  },
  {
   "cell_type": "code",
   "execution_count": 14,
   "metadata": {},
   "outputs": [
    {
     "data": {
      "text/plain": [
       "0      Dominican Republic\n",
       "1                  Mexico\n",
       "2             Philippines\n",
       "3                  Greece\n",
       "4                   Japan\n",
       "5           United States\n",
       "6                 Uruguay\n",
       "7           United States\n",
       "8           United States\n",
       "9           United States\n",
       "10          United States\n",
       "11          United States\n",
       "12                  Italy\n",
       "13          United States\n",
       "14          United States\n",
       "15     East Germany (GDR)\n",
       "16               Ethiopia\n",
       "17          United States\n",
       "18          United States\n",
       "19          United States\n",
       "20          United States\n",
       "21                Uruguay\n",
       "22          United States\n",
       "23          United States\n",
       "24          United States\n",
       "25              Guatemala\n",
       "26            Philippines\n",
       "27              Venezuela\n",
       "28          United States\n",
       "29          United States\n",
       "30          United States\n",
       "31          United States\n",
       "32          United States\n",
       "33          United States\n",
       "34     East Germany (GDR)\n",
       "35          United States\n",
       "36          United States\n",
       "37          United States\n",
       "38          United States\n",
       "39            Philippines\n",
       "40          United States\n",
       "41          United States\n",
       "42          United States\n",
       "43          United States\n",
       "44          United States\n",
       "45          United States\n",
       "46          United States\n",
       "47          United States\n",
       "48          United States\n",
       "49          United States\n",
       "50          United States\n",
       "51          United States\n",
       "52          United States\n",
       "53          United States\n",
       "54          United States\n",
       "55          United States\n",
       "56          United States\n",
       "57          United States\n",
       "58          United States\n",
       "59     West Germany (FRG)\n",
       "60          United States\n",
       "61          United States\n",
       "62     West Germany (FRG)\n",
       "63          United States\n",
       "64          United States\n",
       "65          United States\n",
       "66          United States\n",
       "67          United States\n",
       "68          United States\n",
       "69          United States\n",
       "70          United States\n",
       "71          United States\n",
       "72          United States\n",
       "73          United States\n",
       "74          United States\n",
       "75          United States\n",
       "76          United States\n",
       "77          United States\n",
       "78          United States\n",
       "79     West Germany (FRG)\n",
       "80            Switzerland\n",
       "81          United States\n",
       "82          United States\n",
       "83          United States\n",
       "84          United States\n",
       "85          United States\n",
       "86          United States\n",
       "87          United States\n",
       "88          United States\n",
       "89          United States\n",
       "90          United States\n",
       "91          United States\n",
       "92          United States\n",
       "93          United States\n",
       "94          United States\n",
       "95                 Jordan\n",
       "96            Philippines\n",
       "97                  Italy\n",
       "98          United States\n",
       "99          United States\n",
       "100         United States\n",
       "101         United States\n",
       "102         United States\n",
       "103                 Spain\n",
       "104         United States\n",
       "105         United States\n",
       "106         United States\n",
       "107         United States\n",
       "108         United States\n",
       "109         United States\n",
       "110         United States\n",
       "111         United States\n",
       "112             Guatemala\n",
       "113         United States\n",
       "114         United States\n",
       "115         United States\n",
       "116         United States\n",
       "117         United States\n",
       "118         United States\n",
       "119         United States\n",
       "120    West Germany (FRG)\n",
       "121         United States\n",
       "122         United States\n",
       "123                Brazil\n",
       "124         United States\n",
       "125         United States\n",
       "126         United States\n",
       "127         United States\n",
       "128         United States\n",
       "129         United States\n",
       "130         United States\n",
       "131         United States\n",
       "132              Ethiopia\n",
       "133                 Egypt\n",
       "134         United States\n",
       "135         United States\n",
       "136         United States\n",
       "137         United States\n",
       "138         United States\n",
       "139         United States\n",
       "140         United States\n",
       "141         United States\n",
       "142         United States\n",
       "143         United States\n",
       "144         United States\n",
       "145         United States\n",
       "146         United States\n",
       "147         United States\n",
       "148         United States\n",
       "149         United States\n",
       "150           Philippines\n",
       "151    Dominican Republic\n",
       "152             Argentina\n",
       "153         United States\n",
       "154         United States\n",
       "155         United States\n",
       "156         United States\n",
       "157             Argentina\n",
       "158               Lebanon\n",
       "159         United States\n",
       "160         United States\n",
       "161             Guatemala\n",
       "162                 Japan\n",
       "163         United States\n",
       "164         United States\n",
       "165              Ethiopia\n",
       "166         United States\n",
       "167         United States\n",
       "168         United States\n",
       "169           Philippines\n",
       "170         United States\n",
       "171               Ireland\n",
       "172         United States\n",
       "173         United States\n",
       "174         United States\n",
       "175                Brazil\n",
       "176             Argentina\n",
       "177         United States\n",
       "178         United States\n",
       "179         United States\n",
       "180         United States\n",
       "181         United States\n",
       "182         United States\n",
       "183         United States\n",
       "184         United States\n",
       "185         United States\n",
       "186         United States\n",
       "187         United States\n",
       "188         United States\n",
       "189         United States\n",
       "190         United States\n",
       "191         United States\n",
       "192         United States\n",
       "193         United States\n",
       "194         United States\n",
       "195                Jordan\n",
       "196         United States\n",
       "197         United States\n",
       "198         United States\n",
       "199         United States\n",
       "200         United States\n",
       "201         United States\n",
       "202         United States\n",
       "203         United States\n",
       "204         United States\n",
       "205         United States\n",
       "206         United States\n",
       "207         United States\n",
       "208         United States\n",
       "209         United States\n",
       "210           Philippines\n",
       "211         United States\n",
       "212         United States\n",
       "213         United States\n",
       "214         United States\n",
       "215         United States\n",
       "216         United States\n",
       "217         United States\n",
       "218         United States\n",
       "219         United States\n",
       "220         United States\n",
       "221         United States\n",
       "222         United States\n",
       "223         United States\n",
       "224         United States\n",
       "225         United States\n",
       "226                Turkey\n",
       "227         United States\n",
       "228         United States\n",
       "229         United States\n",
       "230         United States\n",
       "231         United States\n",
       "232         United States\n",
       "233         United States\n",
       "234         United States\n",
       "235         United States\n",
       "236         United States\n",
       "237         United States\n",
       "238         United States\n",
       "239         United States\n",
       "240    West Germany (FRG)\n",
       "241    East Germany (GDR)\n",
       "242         United States\n",
       "243         United States\n",
       "244         United States\n",
       "245         United States\n",
       "246         United States\n",
       "247         United States\n",
       "248         United States\n",
       "249         United States\n",
       "250         United States\n",
       "251         United States\n",
       "252         United States\n",
       "253              Paraguay\n",
       "254         United States\n",
       "255         United States\n",
       "256         United States\n",
       "257         United States\n",
       "258    East Germany (GDR)\n",
       "259         United States\n",
       "260         United States\n",
       "261         United States\n",
       "262         United States\n",
       "263         United States\n",
       "264         United States\n",
       "265         United States\n",
       "266         United States\n",
       "267         United States\n",
       "268         United States\n",
       "269         United States\n",
       "270         United States\n",
       "271         United States\n",
       "272         United States\n",
       "273         United States\n",
       "274         United States\n",
       "275    East Germany (GDR)\n",
       "276         United States\n",
       "277           Switzerland\n",
       "278         United States\n",
       "279         United States\n",
       "280         United States\n",
       "281         United States\n",
       "282         United States\n",
       "283         United States\n",
       "284         United States\n",
       "285         United States\n",
       "286         United States\n",
       "287         United States\n",
       "288    West Germany (FRG)\n",
       "289               Uruguay\n",
       "290    West Germany (FRG)\n",
       "291         United States\n",
       "292         United States\n",
       "293         United States\n",
       "294         United States\n",
       "295         United States\n",
       "296         United States\n",
       "297         United States\n",
       "298         United States\n",
       "299         United States\n",
       "300         United States\n",
       "301         United States\n",
       "302         United States\n",
       "303         United States\n",
       "304         United States\n",
       "305         United States\n",
       "306         United States\n",
       "307         United States\n",
       "308         United States\n",
       "309         United States\n",
       "310         United States\n",
       "311             Argentina\n",
       "312               Uruguay\n",
       "313         United States\n",
       "314         United States\n",
       "315         United States\n",
       "316             Argentina\n",
       "317           Philippines\n",
       "318         United States\n",
       "319         United States\n",
       "320         United States\n",
       "321         United States\n",
       "322         United States\n",
       "323           Philippines\n",
       "324    West Germany (FRG)\n",
       "325    West Germany (FRG)\n",
       "326         United States\n",
       "327         United States\n",
       "328                Jordan\n",
       "329                Jordan\n",
       "330         United States\n",
       "331         United States\n",
       "332         United States\n",
       "333             Venezuela\n",
       "334                  Iran\n",
       "335         United States\n",
       "336                Jordan\n",
       "337                Jordan\n",
       "338         United States\n",
       "339         United States\n",
       "340                Jordan\n",
       "341                Brazil\n",
       "342                  Iran\n",
       "343         United States\n",
       "344               Uruguay\n",
       "345         United States\n",
       "346         United States\n",
       "347         United States\n",
       "348         United States\n",
       "349    West Germany (FRG)\n",
       "350    West Germany (FRG)\n",
       "351         United States\n",
       "352         United States\n",
       "353         United States\n",
       "354         United States\n",
       "355         United States\n",
       "356         United States\n",
       "357         United States\n",
       "358         United States\n",
       "359         United States\n",
       "360    West Germany (FRG)\n",
       "361         United States\n",
       "362         United States\n",
       "363         United States\n",
       "364        United Kingdom\n",
       "365        United Kingdom\n",
       "366        United Kingdom\n",
       "367        United Kingdom\n",
       "368        United Kingdom\n",
       "369         United States\n",
       "370         United States\n",
       "371         United States\n",
       "372         United States\n",
       "373         United States\n",
       "374         United States\n",
       "375         United States\n",
       "376         United States\n",
       "377         United States\n",
       "378         United States\n",
       "379                Brazil\n",
       "380         United States\n",
       "381         United States\n",
       "382         United States\n",
       "383         United States\n",
       "384         United States\n",
       "385         United States\n",
       "386         United States\n",
       "387         United States\n",
       "388         United States\n",
       "389         United States\n",
       "390         United States\n",
       "391         United States\n",
       "392         United States\n",
       "393         United States\n",
       "394         United States\n",
       "395         United States\n",
       "396         United States\n",
       "397         United States\n",
       "398         United States\n",
       "399         United States\n",
       "400         United States\n",
       "401         United States\n",
       "402         United States\n",
       "403    West Germany (FRG)\n",
       "404         United States\n",
       "405              Colombia\n",
       "406             Guatemala\n",
       "407         United States\n",
       "408         United States\n",
       "409         United States\n",
       "410         United States\n",
       "411         United States\n",
       "412         United States\n",
       "413         United States\n",
       "414         United States\n",
       "415         United States\n",
       "416         United States\n",
       "417               Bolivia\n",
       "418         United States\n",
       "419         United States\n",
       "420         United States\n",
       "421                Greece\n",
       "422         United States\n",
       "423         United States\n",
       "424             Nicaragua\n",
       "425         United States\n",
       "426                Brazil\n",
       "427         United States\n",
       "428         United States\n",
       "429         United States\n",
       "430         United States\n",
       "431         United States\n",
       "432         United States\n",
       "433         United States\n",
       "434         United States\n",
       "435               Uruguay\n",
       "436         United States\n",
       "437                 Spain\n",
       "438         United States\n",
       "439         United States\n",
       "440               Uruguay\n",
       "441               Uruguay\n",
       "442               Uruguay\n",
       "443             Argentina\n",
       "444         United States\n",
       "445           Netherlands\n",
       "446         United States\n",
       "447               Belgium\n",
       "448         United States\n",
       "449         United States\n",
       "450             Argentina\n",
       "451         United States\n",
       "452         United States\n",
       "453    East Germany (GDR)\n",
       "454         United States\n",
       "455         United States\n",
       "456             Argentina\n",
       "457         United States\n",
       "458        United Kingdom\n",
       "459    East Germany (GDR)\n",
       "460    East Germany (GDR)\n",
       "461         United States\n",
       "462         United States\n",
       "463         United States\n",
       "464         United States\n",
       "465               Uruguay\n",
       "466         United States\n",
       "467         United States\n",
       "468         United States\n",
       "469               Uruguay\n",
       "470         United States\n",
       "471         United States\n",
       "472         United States\n",
       "473         United States\n",
       "474                Mexico\n",
       "475         United States\n",
       "476    East Germany (GDR)\n",
       "477         United States\n",
       "478         United States\n",
       "479         United States\n",
       "480         United States\n",
       "481         United States\n",
       "482         United States\n",
       "483         United States\n",
       "484         United States\n",
       "485         United States\n",
       "486                Turkey\n",
       "487                Jordan\n",
       "488               Uruguay\n",
       "489         United States\n",
       "490                Greece\n",
       "491         United States\n",
       "492         United States\n",
       "493         United States\n",
       "494         United States\n",
       "495         United States\n",
       "496               Uruguay\n",
       "497        United Kingdom\n",
       "498         United States\n",
       "499         United States\n",
       "500         United States\n",
       "501         United States\n",
       "502    West Germany (FRG)\n",
       "503           Switzerland\n",
       "504           Netherlands\n",
       "505           Netherlands\n",
       "506         United States\n",
       "507    East Germany (GDR)\n",
       "508             Argentina\n",
       "509         United States\n",
       "510         United States\n",
       "511                Jordan\n",
       "512               Uruguay\n",
       "513             Argentina\n",
       "514        United Kingdom\n",
       "515               Uruguay\n",
       "516               Uruguay\n",
       "517             Argentina\n",
       "518         United States\n",
       "519         United States\n",
       "520         United States\n",
       "521               Uruguay\n",
       "522         United States\n",
       "523    East Germany (GDR)\n",
       "524         United States\n",
       "525               Uruguay\n",
       "526         United States\n",
       "527         United States\n",
       "528        United Kingdom\n",
       "529                  Iran\n",
       "530         United States\n",
       "531                Turkey\n",
       "532         United States\n",
       "533         United States\n",
       "534                Turkey\n",
       "535                Turkey\n",
       "536                Canada\n",
       "537         United States\n",
       "538         United States\n",
       "539                Turkey\n",
       "540         United States\n",
       "541         United States\n",
       "542         United States\n",
       "543         United States\n",
       "544         United States\n",
       "545               Uruguay\n",
       "546    West Germany (FRG)\n",
       "547         United States\n",
       "548                Canada\n",
       "549                  Iran\n",
       "550         United States\n",
       "551         United States\n",
       "552    West Germany (FRG)\n",
       "553         United States\n",
       "554               Uruguay\n",
       "555               Uruguay\n",
       "556               Uruguay\n",
       "557               Uruguay\n",
       "558         United States\n",
       "559             Argentina\n",
       "560    West Germany (FRG)\n",
       "561         United States\n",
       "562         United States\n",
       "563             Argentina\n",
       "564         United States\n",
       "565             Australia\n",
       "566         United States\n",
       "567         United States\n",
       "568         United States\n",
       "569                 Italy\n",
       "570         United States\n",
       "571         United States\n",
       "572         United States\n",
       "573         United States\n",
       "574             Argentina\n",
       "575                Turkey\n",
       "576        United Kingdom\n",
       "577         United States\n",
       "578         United States\n",
       "579         United States\n",
       "580         United States\n",
       "581         United States\n",
       "582         United States\n",
       "583         United States\n",
       "584                  Iran\n",
       "585              Pakistan\n",
       "586         United States\n",
       "587         United States\n",
       "588         United States\n",
       "589         United States\n",
       "590             Argentina\n",
       "591             Argentina\n",
       "592    East Germany (GDR)\n",
       "593         United States\n",
       "594         United States\n",
       "595         United States\n",
       "596    West Germany (FRG)\n",
       "597                Turkey\n",
       "598         United States\n",
       "599         United States\n",
       "600         United States\n",
       "601         United States\n",
       "602         United States\n",
       "603             Argentina\n",
       "604         United States\n",
       "605        United Kingdom\n",
       "606         United States\n",
       "607             Argentina\n",
       "608             Argentina\n",
       "609             Argentina\n",
       "610                Turkey\n",
       "611               Uruguay\n",
       "612         United States\n",
       "613         United States\n",
       "614           Philippines\n",
       "615         United States\n",
       "616         United States\n",
       "617                Turkey\n",
       "618         United States\n",
       "619         United States\n",
       "620         United States\n",
       "621         United States\n",
       "622               Uruguay\n",
       "623    West Germany (FRG)\n",
       "624               Uruguay\n",
       "625                 Spain\n",
       "626               Uruguay\n",
       "627               Uruguay\n",
       "628         United States\n",
       "629                Brazil\n",
       "630         United States\n",
       "631               Uruguay\n",
       "632               Uruguay\n",
       "633         United States\n",
       "634         United States\n",
       "635         United States\n",
       "636         United States\n",
       "637               Uruguay\n",
       "638               Uruguay\n",
       "639         United States\n",
       "640               Uruguay\n",
       "641         United States\n",
       "642         United States\n",
       "643        United Kingdom\n",
       "644                Turkey\n",
       "645         United States\n",
       "646                Turkey\n",
       "647             Argentina\n",
       "648                 Spain\n",
       "649    West Germany (FRG)\n",
       "650         United States\n",
       "651         United States\n",
       "652    West Germany (FRG)\n",
       "653         United States\n",
       "654         United States\n",
       "655         United States\n",
       "656                Turkey\n",
       "657               Uruguay\n",
       "658    West Germany (FRG)\n",
       "659         United States\n",
       "660         United States\n",
       "661         United States\n",
       "662               Uruguay\n",
       "663                Turkey\n",
       "664         United States\n",
       "665         United States\n",
       "666         United States\n",
       "667    West Germany (FRG)\n",
       "668                Zambia\n",
       "669         United States\n",
       "670         United States\n",
       "671    West Germany (FRG)\n",
       "672         United States\n",
       "673         United States\n",
       "674         United States\n",
       "675         United States\n",
       "676             Guatemala\n",
       "677                Turkey\n",
       "678                Turkey\n",
       "679              Ethiopia\n",
       "680             Argentina\n",
       "681         United States\n",
       "682                Turkey\n",
       "683                Turkey\n",
       "684         United States\n",
       "685               Uruguay\n",
       "686               Uruguay\n",
       "687               Uruguay\n",
       "688        United Kingdom\n",
       "689    Dominican Republic\n",
       "690    Dominican Republic\n",
       "691    West Germany (FRG)\n",
       "692                Turkey\n",
       "693         United States\n",
       "694             Argentina\n",
       "695                Turkey\n",
       "696                Turkey\n",
       "697               Uruguay\n",
       "698         United States\n",
       "699         United States\n",
       "700         United States\n",
       "701    West Germany (FRG)\n",
       "702        United Kingdom\n",
       "703        United Kingdom\n",
       "704                Turkey\n",
       "705                  Iran\n",
       "706        United Kingdom\n",
       "707         United States\n",
       "708                Turkey\n",
       "709                Sweden\n",
       "710         United States\n",
       "711             Venezuela\n",
       "712                Turkey\n",
       "713           Philippines\n",
       "714                Turkey\n",
       "715         United States\n",
       "716         United States\n",
       "717         United States\n",
       "718                Turkey\n",
       "719        United Kingdom\n",
       "720         United States\n",
       "721         United States\n",
       "722         United States\n",
       "723         United States\n",
       "724         United States\n",
       "725                Turkey\n",
       "726                Turkey\n",
       "727                Turkey\n",
       "728            Costa Rica\n",
       "729                Turkey\n",
       "730         United States\n",
       "731             Venezuela\n",
       "732                Turkey\n",
       "733         United States\n",
       "734        United Kingdom\n",
       "735         United States\n",
       "736         United States\n",
       "737         United States\n",
       "738           Philippines\n",
       "739           Philippines\n",
       "740             Venezuela\n",
       "741         United States\n",
       "742         United States\n",
       "743         United States\n",
       "744         United States\n",
       "745         United States\n",
       "746         United States\n",
       "747                Turkey\n",
       "748         United States\n",
       "749         United States\n",
       "750         United States\n",
       "751         United States\n",
       "752         United States\n",
       "753        United Kingdom\n",
       "754         United States\n",
       "755         United States\n",
       "756         United States\n",
       "757    West Germany (FRG)\n",
       "758               Uruguay\n",
       "759    West Germany (FRG)\n",
       "760        United Kingdom\n",
       "761         United States\n",
       "762         United States\n",
       "763                Turkey\n",
       "764                Turkey\n",
       "765           Netherlands\n",
       "766               Uruguay\n",
       "767         United States\n",
       "768         United States\n",
       "769         United States\n",
       "770                 Spain\n",
       "771         United States\n",
       "772    West Germany (FRG)\n",
       "773         United States\n",
       "774         United States\n",
       "775         United States\n",
       "776         United States\n",
       "777         United States\n",
       "778                 Italy\n",
       "779                Turkey\n",
       "780         United States\n",
       "781             Argentina\n",
       "782                Turkey\n",
       "783         United States\n",
       "784         United States\n",
       "785           Philippines\n",
       "786         United States\n",
       "787         United States\n",
       "788                  Iran\n",
       "789                  Iran\n",
       "790                  Iran\n",
       "791         United States\n",
       "792                Jordan\n",
       "793                 Spain\n",
       "794         United States\n",
       "795                 Spain\n",
       "796         United States\n",
       "797         United States\n",
       "798         United States\n",
       "799         United States\n",
       "800         United States\n",
       "801         United States\n",
       "802                Turkey\n",
       "803                Turkey\n",
       "804                Turkey\n",
       "805         United States\n",
       "806         United States\n",
       "807                  Iran\n",
       "808                Sweden\n",
       "809         United States\n",
       "810                Turkey\n",
       "811             Argentina\n",
       "812         United States\n",
       "813         United States\n",
       "814         United States\n",
       "815         United States\n",
       "816         United States\n",
       "817         United States\n",
       "818                 Spain\n",
       "819         United States\n",
       "820         United States\n",
       "821         United States\n",
       "822         United States\n",
       "823         United States\n",
       "824         United States\n",
       "825         United States\n",
       "826         United States\n",
       "827         United States\n",
       "828         United States\n",
       "829         United States\n",
       "830         United States\n",
       "831         United States\n",
       "832         United States\n",
       "833         United States\n",
       "834         United States\n",
       "835         United States\n",
       "836         United States\n",
       "837         United States\n",
       "838             Argentina\n",
       "839         United States\n",
       "840         United States\n",
       "841         United States\n",
       "842         United States\n",
       "843         United States\n",
       "844         United States\n",
       "845         United States\n",
       "846                 Spain\n",
       "847               Bolivia\n",
       "848                Turkey\n",
       "849         United States\n",
       "850         United States\n",
       "851         United States\n",
       "852                  Iran\n",
       "853                 Spain\n",
       "854         United States\n",
       "855         United States\n",
       "856         United States\n",
       "857         United States\n",
       "858         United States\n",
       "859    West Germany (FRG)\n",
       "860             Venezuela\n",
       "861         United States\n",
       "862         United States\n",
       "863         United States\n",
       "864         United States\n",
       "865         United States\n",
       "866                 Spain\n",
       "867        United Kingdom\n",
       "868         United States\n",
       "869         United States\n",
       "870         United States\n",
       "871         United States\n",
       "872    Dominican Republic\n",
       "873         United States\n",
       "874         United States\n",
       "875         United States\n",
       "876         United States\n",
       "877               Bolivia\n",
       "878         United States\n",
       "879         United States\n",
       "880                  Iran\n",
       "881                Turkey\n",
       "882                Greece\n",
       "883                Turkey\n",
       "884    East Germany (GDR)\n",
       "885                  Iran\n",
       "886    East Germany (GDR)\n",
       "887    East Germany (GDR)\n",
       "888    East Germany (GDR)\n",
       "889         United States\n",
       "890         United States\n",
       "891         United States\n",
       "892         United States\n",
       "893        United Kingdom\n",
       "894             Argentina\n",
       "895         United States\n",
       "896         United States\n",
       "897        United Kingdom\n",
       "898         United States\n",
       "899                 Spain\n",
       "900         United States\n",
       "901         United States\n",
       "902                 Spain\n",
       "903         United States\n",
       "904                 Spain\n",
       "905         United States\n",
       "906         United States\n",
       "907           South Yemen\n",
       "908         United States\n",
       "909         United States\n",
       "910                 Spain\n",
       "911         United States\n",
       "912         United States\n",
       "913         United States\n",
       "914         United States\n",
       "915         United States\n",
       "916         United States\n",
       "917         United States\n",
       "918         United States\n",
       "919         United States\n",
       "920         United States\n",
       "921         United States\n",
       "922         United States\n",
       "923         United States\n",
       "924         United States\n",
       "925                 Spain\n",
       "926         United States\n",
       "927         United States\n",
       "928                 Spain\n",
       "929         United States\n",
       "930         United States\n",
       "931         United States\n",
       "932         United States\n",
       "933         United States\n",
       "934         United States\n",
       "935        United Kingdom\n",
       "936        United Kingdom\n",
       "937                 Spain\n",
       "938                 Spain\n",
       "939                 Spain\n",
       "940         United States\n",
       "941         United States\n",
       "942         United States\n",
       "943         United States\n",
       "944                Turkey\n",
       "945             Argentina\n",
       "946         United States\n",
       "947                 Spain\n",
       "948         United States\n",
       "949        United Kingdom\n",
       "950        United Kingdom\n",
       "951        United Kingdom\n",
       "952        United Kingdom\n",
       "953         United States\n",
       "954        United Kingdom\n",
       "955        United Kingdom\n",
       "956         United States\n",
       "957        United Kingdom\n",
       "958         United States\n",
       "959         United States\n",
       "960         United States\n",
       "961         United States\n",
       "962         United States\n",
       "963         United States\n",
       "964         United States\n",
       "965         United States\n",
       "966         United States\n",
       "967         United States\n",
       "968         United States\n",
       "969         United States\n",
       "970         United States\n",
       "971         United States\n",
       "972         United States\n",
       "973         United States\n",
       "974         United States\n",
       "975         United States\n",
       "976         United States\n",
       "977         United States\n",
       "978         United States\n",
       "979                 Spain\n",
       "980         United States\n",
       "981                 Spain\n",
       "982        United Kingdom\n",
       "983        United Kingdom\n",
       "984         United States\n",
       "985         United States\n",
       "986                 Italy\n",
       "987         United States\n",
       "988         United States\n",
       "989         United States\n",
       "990         United States\n",
       "991         United States\n",
       "992         United States\n",
       "993        United Kingdom\n",
       "994        United Kingdom\n",
       "995         United States\n",
       "996              Cambodia\n",
       "997              Cambodia\n",
       "998         United States\n",
       "999         United States\n",
       "Name: country_txt, dtype: object\n",
       "Showing only the first 1000"
      ]
     },
     "execution_count": 14,
     "metadata": {},
     "output_type": "execute_result"
    }
   ],
   "source": [
    "psdf['country_txt']"
   ]
  },
  {
   "cell_type": "code",
   "execution_count": 25,
   "metadata": {},
   "outputs": [
    {
     "data": {
      "application/vnd.plotly.v1+json": {
       "config": {
        "plotlyServerURL": "https://plot.ly"
       },
       "data": [
        {
         "alignmentgroup": "True",
         "hovertemplate": "variable=country_txt<br>value=%{x}<br>count=%{y}<extra></extra>",
         "legendgroup": "country_txt",
         "marker": {
          "color": "#636efa",
          "pattern": {
           "shape": ""
          }
         },
         "name": "country_txt",
         "offsetgroup": "country_txt",
         "orientation": "v",
         "showlegend": true,
         "textposition": "auto",
         "type": "bar",
         "x": [
          "Dominican Republic",
          "Mexico",
          "Philippines",
          "Greece",
          "Japan",
          "United States",
          "Uruguay",
          "United States",
          "United States",
          "United States",
          "United States",
          "United States",
          "Italy",
          "United States",
          "United States",
          "East Germany (GDR)",
          "Ethiopia",
          "United States",
          "United States",
          "United States",
          "United States",
          "Uruguay",
          "United States",
          "United States",
          "United States",
          "Guatemala",
          "Philippines",
          "Venezuela",
          "United States",
          "United States",
          "United States",
          "United States",
          "United States",
          "United States",
          "East Germany (GDR)",
          "United States",
          "United States",
          "United States",
          "United States",
          "Philippines",
          "United States",
          "United States",
          "United States",
          "United States",
          "United States",
          "United States",
          "United States",
          "United States",
          "United States",
          "United States",
          "United States",
          "United States",
          "United States",
          "United States",
          "United States",
          "United States",
          "United States",
          "United States",
          "United States",
          "West Germany (FRG)",
          "United States",
          "United States",
          "West Germany (FRG)",
          "United States",
          "United States",
          "United States",
          "United States",
          "United States",
          "United States",
          "United States",
          "United States",
          "United States",
          "United States",
          "United States",
          "United States",
          "United States",
          "United States",
          "United States",
          "United States",
          "West Germany (FRG)",
          "Switzerland",
          "United States",
          "United States",
          "United States",
          "United States",
          "United States",
          "United States",
          "United States",
          "United States",
          "United States",
          "United States",
          "United States",
          "United States",
          "United States",
          "United States",
          "Jordan",
          "Philippines",
          "Italy",
          "United States",
          "United States",
          "United States",
          "United States",
          "United States",
          "Spain",
          "United States",
          "United States",
          "United States",
          "United States",
          "United States",
          "United States",
          "United States",
          "United States",
          "Guatemala",
          "United States",
          "United States",
          "United States",
          "United States",
          "United States",
          "United States",
          "United States",
          "West Germany (FRG)",
          "United States",
          "United States",
          "Brazil",
          "United States",
          "United States",
          "United States",
          "United States",
          "United States",
          "United States",
          "United States",
          "United States",
          "Ethiopia",
          "Egypt",
          "United States",
          "United States",
          "United States",
          "United States",
          "United States",
          "United States",
          "United States",
          "United States",
          "United States",
          "United States",
          "United States",
          "United States",
          "United States",
          "United States",
          "United States",
          "United States",
          "Philippines",
          "Dominican Republic",
          "Argentina",
          "United States",
          "United States",
          "United States",
          "United States",
          "Argentina",
          "Lebanon",
          "United States",
          "United States",
          "Guatemala",
          "Japan",
          "United States",
          "United States",
          "Ethiopia",
          "United States",
          "United States",
          "United States",
          "Philippines",
          "United States",
          "Ireland",
          "United States",
          "United States",
          "United States",
          "Brazil",
          "Argentina",
          "United States",
          "United States",
          "United States",
          "United States",
          "United States",
          "United States",
          "United States",
          "United States",
          "United States",
          "United States",
          "United States",
          "United States",
          "United States",
          "United States",
          "United States",
          "United States",
          "United States",
          "United States",
          "Jordan",
          "United States",
          "United States",
          "United States",
          "United States",
          "United States",
          "United States",
          "United States",
          "United States",
          "United States",
          "United States",
          "United States",
          "United States",
          "United States",
          "United States",
          "Philippines",
          "United States",
          "United States",
          "United States",
          "United States",
          "United States",
          "United States",
          "United States",
          "United States",
          "United States",
          "United States",
          "United States",
          "United States",
          "United States",
          "United States",
          "United States",
          "Turkey",
          "United States",
          "United States",
          "United States",
          "United States",
          "United States",
          "United States",
          "United States",
          "United States",
          "United States",
          "United States",
          "United States",
          "United States",
          "United States",
          "West Germany (FRG)",
          "East Germany (GDR)",
          "United States",
          "United States",
          "United States",
          "United States",
          "United States",
          "United States",
          "United States",
          "United States",
          "United States",
          "United States",
          "United States",
          "Paraguay",
          "United States",
          "United States",
          "United States",
          "United States",
          "East Germany (GDR)",
          "United States",
          "United States",
          "United States",
          "United States",
          "United States",
          "United States",
          "United States",
          "United States",
          "United States",
          "United States",
          "United States",
          "United States",
          "United States",
          "United States",
          "United States",
          "United States",
          "East Germany (GDR)",
          "United States",
          "Switzerland",
          "United States",
          "United States",
          "United States",
          "United States",
          "United States",
          "United States",
          "United States",
          "United States",
          "United States",
          "United States",
          "West Germany (FRG)",
          "Uruguay",
          "West Germany (FRG)",
          "United States",
          "United States",
          "United States",
          "United States",
          "United States",
          "United States",
          "United States",
          "United States",
          "United States",
          "United States",
          "United States",
          "United States",
          "United States",
          "United States",
          "United States",
          "United States",
          "United States",
          "United States",
          "United States",
          "United States",
          "Argentina",
          "Uruguay",
          "United States",
          "United States",
          "United States",
          "Argentina",
          "Philippines",
          "United States",
          "United States",
          "United States",
          "United States",
          "United States",
          "Philippines",
          "West Germany (FRG)",
          "West Germany (FRG)",
          "United States",
          "United States",
          "Jordan",
          "Jordan",
          "United States",
          "United States",
          "United States",
          "Venezuela",
          "Iran",
          "United States",
          "Jordan",
          "Jordan",
          "United States",
          "United States",
          "Jordan",
          "Brazil",
          "Iran",
          "United States",
          "Uruguay",
          "United States",
          "United States",
          "United States",
          "United States",
          "West Germany (FRG)",
          "West Germany (FRG)",
          "United States",
          "United States",
          "United States",
          "United States",
          "United States",
          "United States",
          "United States",
          "United States",
          "United States",
          "West Germany (FRG)",
          "United States",
          "United States",
          "United States",
          "United Kingdom",
          "United Kingdom",
          "United Kingdom",
          "United Kingdom",
          "United Kingdom",
          "United States",
          "United States",
          "United States",
          "United States",
          "United States",
          "United States",
          "United States",
          "United States",
          "United States",
          "United States",
          "Brazil",
          "United States",
          "United States",
          "United States",
          "United States",
          "United States",
          "United States",
          "United States",
          "United States",
          "United States",
          "United States",
          "United States",
          "United States",
          "United States",
          "United States",
          "United States",
          "United States",
          "United States",
          "United States",
          "United States",
          "United States",
          "United States",
          "United States",
          "United States",
          "West Germany (FRG)",
          "United States",
          "Colombia",
          "Guatemala",
          "United States",
          "United States",
          "United States",
          "United States",
          "United States",
          "United States",
          "United States",
          "United States",
          "United States",
          "United States",
          "Bolivia",
          "United States",
          "United States",
          "United States",
          "Greece",
          "United States",
          "United States",
          "Nicaragua",
          "United States",
          "Brazil",
          "United States",
          "United States",
          "United States",
          "United States",
          "United States",
          "United States",
          "United States",
          "United States",
          "Uruguay",
          "United States",
          "Spain",
          "United States",
          "United States",
          "Uruguay",
          "Uruguay",
          "Uruguay",
          "Argentina",
          "United States",
          "Netherlands",
          "United States",
          "Belgium",
          "United States",
          "United States",
          "Argentina",
          "United States",
          "United States",
          "East Germany (GDR)",
          "United States",
          "United States",
          "Argentina",
          "United States",
          "United Kingdom",
          "East Germany (GDR)",
          "East Germany (GDR)",
          "United States",
          "United States",
          "United States",
          "United States",
          "Uruguay",
          "United States",
          "United States",
          "United States",
          "Uruguay",
          "United States",
          "United States",
          "United States",
          "United States",
          "Mexico",
          "United States",
          "East Germany (GDR)",
          "United States",
          "United States",
          "United States",
          "United States",
          "United States",
          "United States",
          "United States",
          "United States",
          "United States",
          "Turkey",
          "Jordan",
          "Uruguay",
          "United States",
          "Greece",
          "United States",
          "United States",
          "United States",
          "United States",
          "United States",
          "Uruguay",
          "United Kingdom",
          "United States",
          "United States",
          "United States",
          "United States",
          "West Germany (FRG)",
          "Switzerland",
          "Netherlands",
          "Netherlands",
          "United States",
          "East Germany (GDR)",
          "Argentina",
          "United States",
          "United States",
          "Jordan",
          "Uruguay",
          "Argentina",
          "United Kingdom",
          "Uruguay",
          "Uruguay",
          "Argentina",
          "United States",
          "United States",
          "United States",
          "Uruguay",
          "United States",
          "East Germany (GDR)",
          "United States",
          "Uruguay",
          "United States",
          "United States",
          "United Kingdom",
          "Iran",
          "United States",
          "Turkey",
          "United States",
          "United States",
          "Turkey",
          "Turkey",
          "Canada",
          "United States",
          "United States",
          "Turkey",
          "United States",
          "United States",
          "United States",
          "United States",
          "United States",
          "Uruguay",
          "West Germany (FRG)",
          "United States",
          "Canada",
          "Iran",
          "United States",
          "United States",
          "West Germany (FRG)",
          "United States",
          "Uruguay",
          "Uruguay",
          "Uruguay",
          "Uruguay",
          "United States",
          "Argentina",
          "West Germany (FRG)",
          "United States",
          "United States",
          "Argentina",
          "United States",
          "Australia",
          "United States",
          "United States",
          "United States",
          "Italy",
          "United States",
          "United States",
          "United States",
          "United States",
          "Argentina",
          "Turkey",
          "United Kingdom",
          "United States",
          "United States",
          "United States",
          "United States",
          "United States",
          "United States",
          "United States",
          "Iran",
          "Pakistan",
          "United States",
          "United States",
          "United States",
          "United States",
          "Argentina",
          "Argentina",
          "East Germany (GDR)",
          "United States",
          "United States",
          "United States",
          "West Germany (FRG)",
          "Turkey",
          "United States",
          "United States",
          "United States",
          "United States",
          "United States",
          "Argentina",
          "United States",
          "United Kingdom",
          "United States",
          "Argentina",
          "Argentina",
          "Argentina",
          "Turkey",
          "Uruguay",
          "United States",
          "United States",
          "Philippines",
          "United States",
          "United States",
          "Turkey",
          "United States",
          "United States",
          "United States",
          "United States",
          "Uruguay",
          "West Germany (FRG)",
          "Uruguay",
          "Spain",
          "Uruguay",
          "Uruguay",
          "United States",
          "Brazil",
          "United States",
          "Uruguay",
          "Uruguay",
          "United States",
          "United States",
          "United States",
          "United States",
          "Uruguay",
          "Uruguay",
          "United States",
          "Uruguay",
          "United States",
          "United States",
          "United Kingdom",
          "Turkey",
          "United States",
          "Turkey",
          "Argentina",
          "Spain",
          "West Germany (FRG)",
          "United States",
          "United States",
          "West Germany (FRG)",
          "United States",
          "United States",
          "United States",
          "Turkey",
          "Uruguay",
          "West Germany (FRG)",
          "United States",
          "United States",
          "United States",
          "Uruguay",
          "Turkey",
          "United States",
          "United States",
          "United States",
          "West Germany (FRG)",
          "Zambia",
          "United States",
          "United States",
          "West Germany (FRG)",
          "United States",
          "United States",
          "United States",
          "United States",
          "Guatemala",
          "Turkey",
          "Turkey",
          "Ethiopia",
          "Argentina",
          "United States",
          "Turkey",
          "Turkey",
          "United States",
          "Uruguay",
          "Uruguay",
          "Uruguay",
          "United Kingdom",
          "Dominican Republic",
          "Dominican Republic",
          "West Germany (FRG)",
          "Turkey",
          "United States",
          "Argentina",
          "Turkey",
          "Turkey",
          "Uruguay",
          "United States",
          "United States",
          "United States",
          "West Germany (FRG)",
          "United Kingdom",
          "United Kingdom",
          "Turkey",
          "Iran",
          "United Kingdom",
          "United States",
          "Turkey",
          "Sweden",
          "United States",
          "Venezuela",
          "Turkey",
          "Philippines",
          "Turkey",
          "United States",
          "United States",
          "United States",
          "Turkey",
          "United Kingdom",
          "United States",
          "United States",
          "United States",
          "United States",
          "United States",
          "Turkey",
          "Turkey",
          "Turkey",
          "Costa Rica",
          "Turkey",
          "United States",
          "Venezuela",
          "Turkey",
          "United States",
          "United Kingdom",
          "United States",
          "United States",
          "United States",
          "Philippines",
          "Philippines",
          "Venezuela",
          "United States",
          "United States",
          "United States",
          "United States",
          "United States",
          "United States",
          "Turkey",
          "United States",
          "United States",
          "United States",
          "United States",
          "United States",
          "United Kingdom",
          "United States",
          "United States",
          "United States",
          "West Germany (FRG)",
          "Uruguay",
          "West Germany (FRG)",
          "United Kingdom",
          "United States",
          "United States",
          "Turkey",
          "Turkey",
          "Netherlands",
          "Uruguay",
          "United States",
          "United States",
          "United States",
          "Spain",
          "United States",
          "West Germany (FRG)",
          "United States",
          "United States",
          "United States",
          "United States",
          "United States",
          "Italy",
          "Turkey",
          "United States",
          "Argentina",
          "Turkey",
          "United States",
          "United States",
          "Philippines",
          "United States",
          "United States",
          "Iran",
          "Iran",
          "Iran",
          "United States",
          "Jordan",
          "Spain",
          "United States",
          "Spain",
          "United States",
          "United States",
          "United States",
          "United States",
          "United States",
          "United States",
          "Turkey",
          "Turkey",
          "Turkey",
          "United States",
          "United States",
          "Iran",
          "Sweden",
          "United States",
          "Turkey",
          "Argentina",
          "United States",
          "United States",
          "United States",
          "United States",
          "United States",
          "United States",
          "Spain",
          "United States",
          "United States",
          "United States",
          "United States",
          "United States",
          "United States",
          "United States",
          "United States",
          "United States",
          "United States",
          "United States",
          "United States",
          "United States",
          "United States",
          "United States",
          "United States",
          "United States",
          "United States",
          "United States",
          "Argentina",
          "United States",
          "United States",
          "United States",
          "United States",
          "United States",
          "United States",
          "United States",
          "Spain",
          "Bolivia",
          "Turkey",
          "United States",
          "United States",
          "United States",
          "Iran",
          "Spain",
          "United States",
          "United States",
          "United States",
          "United States",
          "United States",
          "West Germany (FRG)",
          "Venezuela",
          "United States",
          "United States",
          "United States",
          "United States",
          "United States",
          "Spain",
          "United Kingdom",
          "United States",
          "United States",
          "United States",
          "United States",
          "Dominican Republic",
          "United States",
          "United States",
          "United States",
          "United States",
          "Bolivia",
          "United States",
          "United States",
          "Iran",
          "Turkey",
          "Greece",
          "Turkey",
          "East Germany (GDR)",
          "Iran",
          "East Germany (GDR)",
          "East Germany (GDR)",
          "East Germany (GDR)",
          "United States",
          "United States",
          "United States",
          "United States",
          "United Kingdom",
          "Argentina",
          "United States",
          "United States",
          "United Kingdom",
          "United States",
          "Spain",
          "United States",
          "United States",
          "Spain",
          "United States",
          "Spain",
          "United States",
          "United States",
          "South Yemen",
          "United States",
          "United States",
          "Spain",
          "United States",
          "United States",
          "United States",
          "United States",
          "United States",
          "United States",
          "United States",
          "United States",
          "United States",
          "United States",
          "United States",
          "United States",
          "United States",
          "United States",
          "Spain",
          "United States",
          "United States",
          "Spain",
          "United States",
          "United States",
          "United States",
          "United States",
          "United States",
          "United States",
          "United Kingdom",
          "United Kingdom",
          "Spain",
          "Spain",
          "Spain",
          "United States",
          "United States",
          "United States",
          "United States",
          "Turkey",
          "Argentina",
          "United States",
          "Spain",
          "United States",
          "United Kingdom",
          "United Kingdom",
          "United Kingdom",
          "United Kingdom",
          "United States",
          "United Kingdom",
          "United Kingdom",
          "United States",
          "United Kingdom",
          "United States",
          "United States",
          "United States",
          "United States",
          "United States",
          "United States",
          "United States",
          "United States",
          "United States",
          "United States",
          "United States",
          "United States",
          "United States",
          "United States",
          "United States",
          "United States",
          "United States",
          "United States",
          "United States",
          "United States",
          "United States",
          "Spain",
          "United States",
          "Spain",
          "United Kingdom",
          "United Kingdom",
          "United States",
          "United States",
          "Italy",
          "United States",
          "United States",
          "United States",
          "United States",
          "United States",
          "United States",
          "United Kingdom",
          "United Kingdom",
          "United States",
          "Cambodia",
          "Cambodia",
          "United States",
          "United States"
         ],
         "xaxis": "x",
         "y": [
          1,
          1,
          1,
          1,
          1,
          1,
          1,
          1,
          1,
          1,
          1,
          1,
          1,
          1,
          1,
          1,
          1,
          1,
          1,
          1,
          1,
          1,
          1,
          1,
          1,
          1,
          1,
          1,
          1,
          1,
          1,
          1,
          1,
          1,
          1,
          1,
          1,
          1,
          1,
          1,
          1,
          1,
          1,
          1,
          1,
          1,
          1,
          1,
          1,
          1,
          1,
          1,
          1,
          1,
          1,
          1,
          1,
          1,
          1,
          1,
          1,
          1,
          1,
          1,
          1,
          1,
          1,
          1,
          1,
          1,
          1,
          1,
          1,
          1,
          1,
          1,
          1,
          1,
          1,
          1,
          1,
          1,
          1,
          1,
          1,
          1,
          1,
          1,
          1,
          1,
          1,
          1,
          1,
          1,
          1,
          1,
          1,
          1,
          1,
          1,
          1,
          1,
          1,
          1,
          1,
          1,
          1,
          1,
          1,
          1,
          1,
          1,
          1,
          1,
          1,
          1,
          1,
          1,
          1,
          1,
          1,
          1,
          1,
          1,
          1,
          1,
          1,
          1,
          1,
          1,
          1,
          1,
          1,
          1,
          1,
          1,
          1,
          1,
          1,
          1,
          1,
          1,
          1,
          1,
          1,
          1,
          1,
          1,
          1,
          1,
          1,
          1,
          1,
          1,
          1,
          1,
          1,
          1,
          1,
          1,
          1,
          1,
          1,
          1,
          1,
          1,
          1,
          1,
          1,
          1,
          1,
          1,
          1,
          1,
          1,
          1,
          1,
          1,
          1,
          1,
          1,
          1,
          1,
          1,
          1,
          1,
          1,
          1,
          1,
          1,
          1,
          1,
          1,
          1,
          1,
          1,
          1,
          1,
          1,
          1,
          1,
          1,
          1,
          1,
          1,
          1,
          1,
          1,
          1,
          1,
          1,
          1,
          1,
          1,
          1,
          1,
          1,
          1,
          1,
          1,
          1,
          1,
          1,
          1,
          1,
          1,
          1,
          1,
          1,
          1,
          1,
          1,
          1,
          1,
          1,
          1,
          1,
          1,
          1,
          1,
          1,
          1,
          1,
          1,
          1,
          1,
          1,
          1,
          1,
          1,
          1,
          1,
          1,
          1,
          1,
          1,
          1,
          1,
          1,
          1,
          1,
          1,
          1,
          1,
          1,
          1,
          1,
          1,
          1,
          1,
          1,
          1,
          1,
          1,
          1,
          1,
          1,
          1,
          1,
          1,
          1,
          1,
          1,
          1,
          1,
          1,
          1,
          1,
          1,
          1,
          1,
          1,
          1,
          1,
          1,
          1,
          1,
          1,
          1,
          1,
          1,
          1,
          1,
          1,
          1,
          1,
          1,
          1,
          1,
          1,
          1,
          1,
          1,
          1,
          1,
          1,
          1,
          1,
          1,
          1,
          1,
          1,
          1,
          1,
          1,
          1,
          1,
          1,
          1,
          1,
          1,
          1,
          1,
          1,
          1,
          1,
          1,
          1,
          1,
          1,
          1,
          1,
          1,
          1,
          1,
          1,
          1,
          1,
          1,
          1,
          1,
          1,
          1,
          1,
          1,
          1,
          1,
          1,
          1,
          1,
          1,
          1,
          1,
          1,
          1,
          1,
          1,
          1,
          1,
          1,
          1,
          1,
          1,
          1,
          1,
          1,
          1,
          1,
          1,
          1,
          1,
          1,
          1,
          1,
          1,
          1,
          1,
          1,
          1,
          1,
          1,
          1,
          1,
          1,
          1,
          1,
          1,
          1,
          1,
          1,
          1,
          1,
          1,
          1,
          1,
          1,
          1,
          1,
          1,
          1,
          1,
          1,
          1,
          1,
          1,
          1,
          1,
          1,
          1,
          1,
          1,
          1,
          1,
          1,
          1,
          1,
          1,
          1,
          1,
          1,
          1,
          1,
          1,
          1,
          1,
          1,
          1,
          1,
          1,
          1,
          1,
          1,
          1,
          1,
          1,
          1,
          1,
          1,
          1,
          1,
          1,
          1,
          1,
          1,
          1,
          1,
          1,
          1,
          1,
          1,
          1,
          1,
          1,
          1,
          1,
          1,
          1,
          1,
          1,
          1,
          1,
          1,
          1,
          1,
          1,
          1,
          1,
          1,
          1,
          1,
          1,
          1,
          1,
          1,
          1,
          1,
          1,
          1,
          1,
          1,
          1,
          1,
          1,
          1,
          1,
          1,
          1,
          1,
          1,
          1,
          1,
          1,
          1,
          1,
          1,
          1,
          1,
          1,
          1,
          1,
          1,
          1,
          1,
          1,
          1,
          1,
          1,
          1,
          1,
          1,
          1,
          1,
          1,
          1,
          1,
          1,
          1,
          1,
          1,
          1,
          1,
          1,
          1,
          1,
          1,
          1,
          1,
          1,
          1,
          1,
          1,
          1,
          1,
          1,
          1,
          1,
          1,
          1,
          1,
          1,
          1,
          1,
          1,
          1,
          1,
          1,
          1,
          1,
          1,
          1,
          1,
          1,
          1,
          1,
          1,
          1,
          1,
          1,
          1,
          1,
          1,
          1,
          1,
          1,
          1,
          1,
          1,
          1,
          1,
          1,
          1,
          1,
          1,
          1,
          1,
          1,
          1,
          1,
          1,
          1,
          1,
          1,
          1,
          1,
          1,
          1,
          1,
          1,
          1,
          1,
          1,
          1,
          1,
          1,
          1,
          1,
          1,
          1,
          1,
          1,
          1,
          1,
          1,
          1,
          1,
          1,
          1,
          1,
          1,
          1,
          1,
          1,
          1,
          1,
          1,
          1,
          1,
          1,
          1,
          1,
          1,
          1,
          1,
          1,
          1,
          1,
          1,
          1,
          1,
          1,
          1,
          1,
          1,
          1,
          1,
          1,
          1,
          1,
          1,
          1,
          1,
          1,
          1,
          1,
          1,
          1,
          1,
          1,
          1,
          1,
          1,
          1,
          1,
          1,
          1,
          1,
          1,
          1,
          1,
          1,
          1,
          1,
          1,
          1,
          1,
          1,
          1,
          1,
          1,
          1,
          1,
          1,
          1,
          1,
          1,
          1,
          1,
          1,
          1,
          1,
          1,
          1,
          1,
          1,
          1,
          1,
          1,
          1,
          1,
          1,
          1,
          1,
          1,
          1,
          1,
          1,
          1,
          1,
          1,
          1,
          1,
          1,
          1,
          1,
          1,
          1,
          1,
          1,
          1,
          1,
          1,
          1,
          1,
          1,
          1,
          1,
          1,
          1,
          1,
          1,
          1,
          1,
          1,
          1,
          1,
          1,
          1,
          1,
          1,
          1,
          1,
          1,
          1,
          1,
          1,
          1,
          1,
          1,
          1,
          1,
          1,
          1,
          1,
          1,
          1,
          1,
          1,
          1,
          1,
          1,
          1,
          1,
          1,
          1,
          1,
          1,
          1,
          1,
          1,
          1,
          1,
          1,
          1,
          1,
          1,
          1,
          1,
          1,
          1,
          1,
          1,
          1,
          1,
          1,
          1,
          1,
          1,
          1,
          1,
          1,
          1,
          1,
          1,
          1,
          1,
          1,
          1,
          1,
          1,
          1,
          1,
          1,
          1,
          1,
          1,
          1,
          1,
          1,
          1,
          1,
          1,
          1,
          1,
          1,
          1,
          1,
          1,
          1,
          1,
          1,
          1,
          1,
          1,
          1,
          1,
          1,
          1,
          1,
          1,
          1,
          1,
          1,
          1,
          1,
          1,
          1,
          1,
          1,
          1,
          1,
          1,
          1,
          1,
          1,
          1,
          1,
          1,
          1,
          1,
          1,
          1,
          1,
          1,
          1,
          1,
          1,
          1,
          1,
          1,
          1,
          1,
          1,
          1,
          1,
          1,
          1,
          1,
          1,
          1,
          1,
          1,
          1,
          1,
          1,
          1,
          1,
          1,
          1,
          1,
          1,
          1,
          1,
          1,
          1,
          1,
          1,
          1,
          1,
          1,
          1,
          1,
          1,
          1,
          1,
          1,
          1,
          1,
          1,
          1,
          1,
          1,
          1,
          1,
          1,
          1,
          1,
          1,
          1,
          1,
          1,
          1,
          1,
          1,
          1,
          1,
          1,
          1,
          1,
          1,
          1,
          1,
          1,
          1,
          1,
          1,
          1,
          1,
          1,
          1,
          1,
          1,
          1,
          1,
          1,
          1,
          1,
          1,
          1,
          1,
          1,
          1,
          1,
          1,
          1,
          1,
          1,
          1,
          1,
          1,
          1,
          1,
          1,
          1,
          1,
          1,
          1,
          1,
          1,
          1,
          1,
          1,
          1,
          1,
          1,
          1,
          1,
          1,
          1,
          1,
          1,
          1,
          1,
          1,
          1,
          1,
          1,
          1,
          1,
          1,
          1,
          1,
          1,
          1,
          1,
          1,
          1,
          1,
          1,
          1,
          1,
          1,
          1,
          1,
          1,
          1,
          1,
          1,
          1,
          1,
          1
         ],
         "yaxis": "y"
        }
       ],
       "layout": {
        "barmode": "relative",
        "legend": {
         "title": {
          "text": "variable"
         },
         "tracegroupgap": 0
        },
        "margin": {
         "t": 60
        },
        "template": {
         "data": {
          "bar": [
           {
            "error_x": {
             "color": "#2a3f5f"
            },
            "error_y": {
             "color": "#2a3f5f"
            },
            "marker": {
             "line": {
              "color": "#E5ECF6",
              "width": 0.5
             },
             "pattern": {
              "fillmode": "overlay",
              "size": 10,
              "solidity": 0.2
             }
            },
            "type": "bar"
           }
          ],
          "barpolar": [
           {
            "marker": {
             "line": {
              "color": "#E5ECF6",
              "width": 0.5
             },
             "pattern": {
              "fillmode": "overlay",
              "size": 10,
              "solidity": 0.2
             }
            },
            "type": "barpolar"
           }
          ],
          "carpet": [
           {
            "aaxis": {
             "endlinecolor": "#2a3f5f",
             "gridcolor": "white",
             "linecolor": "white",
             "minorgridcolor": "white",
             "startlinecolor": "#2a3f5f"
            },
            "baxis": {
             "endlinecolor": "#2a3f5f",
             "gridcolor": "white",
             "linecolor": "white",
             "minorgridcolor": "white",
             "startlinecolor": "#2a3f5f"
            },
            "type": "carpet"
           }
          ],
          "choropleth": [
           {
            "colorbar": {
             "outlinewidth": 0,
             "ticks": ""
            },
            "type": "choropleth"
           }
          ],
          "contour": [
           {
            "colorbar": {
             "outlinewidth": 0,
             "ticks": ""
            },
            "colorscale": [
             [
              0,
              "#0d0887"
             ],
             [
              0.1111111111111111,
              "#46039f"
             ],
             [
              0.2222222222222222,
              "#7201a8"
             ],
             [
              0.3333333333333333,
              "#9c179e"
             ],
             [
              0.4444444444444444,
              "#bd3786"
             ],
             [
              0.5555555555555556,
              "#d8576b"
             ],
             [
              0.6666666666666666,
              "#ed7953"
             ],
             [
              0.7777777777777778,
              "#fb9f3a"
             ],
             [
              0.8888888888888888,
              "#fdca26"
             ],
             [
              1,
              "#f0f921"
             ]
            ],
            "type": "contour"
           }
          ],
          "contourcarpet": [
           {
            "colorbar": {
             "outlinewidth": 0,
             "ticks": ""
            },
            "type": "contourcarpet"
           }
          ],
          "heatmap": [
           {
            "colorbar": {
             "outlinewidth": 0,
             "ticks": ""
            },
            "colorscale": [
             [
              0,
              "#0d0887"
             ],
             [
              0.1111111111111111,
              "#46039f"
             ],
             [
              0.2222222222222222,
              "#7201a8"
             ],
             [
              0.3333333333333333,
              "#9c179e"
             ],
             [
              0.4444444444444444,
              "#bd3786"
             ],
             [
              0.5555555555555556,
              "#d8576b"
             ],
             [
              0.6666666666666666,
              "#ed7953"
             ],
             [
              0.7777777777777778,
              "#fb9f3a"
             ],
             [
              0.8888888888888888,
              "#fdca26"
             ],
             [
              1,
              "#f0f921"
             ]
            ],
            "type": "heatmap"
           }
          ],
          "heatmapgl": [
           {
            "colorbar": {
             "outlinewidth": 0,
             "ticks": ""
            },
            "colorscale": [
             [
              0,
              "#0d0887"
             ],
             [
              0.1111111111111111,
              "#46039f"
             ],
             [
              0.2222222222222222,
              "#7201a8"
             ],
             [
              0.3333333333333333,
              "#9c179e"
             ],
             [
              0.4444444444444444,
              "#bd3786"
             ],
             [
              0.5555555555555556,
              "#d8576b"
             ],
             [
              0.6666666666666666,
              "#ed7953"
             ],
             [
              0.7777777777777778,
              "#fb9f3a"
             ],
             [
              0.8888888888888888,
              "#fdca26"
             ],
             [
              1,
              "#f0f921"
             ]
            ],
            "type": "heatmapgl"
           }
          ],
          "histogram": [
           {
            "marker": {
             "pattern": {
              "fillmode": "overlay",
              "size": 10,
              "solidity": 0.2
             }
            },
            "type": "histogram"
           }
          ],
          "histogram2d": [
           {
            "colorbar": {
             "outlinewidth": 0,
             "ticks": ""
            },
            "colorscale": [
             [
              0,
              "#0d0887"
             ],
             [
              0.1111111111111111,
              "#46039f"
             ],
             [
              0.2222222222222222,
              "#7201a8"
             ],
             [
              0.3333333333333333,
              "#9c179e"
             ],
             [
              0.4444444444444444,
              "#bd3786"
             ],
             [
              0.5555555555555556,
              "#d8576b"
             ],
             [
              0.6666666666666666,
              "#ed7953"
             ],
             [
              0.7777777777777778,
              "#fb9f3a"
             ],
             [
              0.8888888888888888,
              "#fdca26"
             ],
             [
              1,
              "#f0f921"
             ]
            ],
            "type": "histogram2d"
           }
          ],
          "histogram2dcontour": [
           {
            "colorbar": {
             "outlinewidth": 0,
             "ticks": ""
            },
            "colorscale": [
             [
              0,
              "#0d0887"
             ],
             [
              0.1111111111111111,
              "#46039f"
             ],
             [
              0.2222222222222222,
              "#7201a8"
             ],
             [
              0.3333333333333333,
              "#9c179e"
             ],
             [
              0.4444444444444444,
              "#bd3786"
             ],
             [
              0.5555555555555556,
              "#d8576b"
             ],
             [
              0.6666666666666666,
              "#ed7953"
             ],
             [
              0.7777777777777778,
              "#fb9f3a"
             ],
             [
              0.8888888888888888,
              "#fdca26"
             ],
             [
              1,
              "#f0f921"
             ]
            ],
            "type": "histogram2dcontour"
           }
          ],
          "mesh3d": [
           {
            "colorbar": {
             "outlinewidth": 0,
             "ticks": ""
            },
            "type": "mesh3d"
           }
          ],
          "parcoords": [
           {
            "line": {
             "colorbar": {
              "outlinewidth": 0,
              "ticks": ""
             }
            },
            "type": "parcoords"
           }
          ],
          "pie": [
           {
            "automargin": true,
            "type": "pie"
           }
          ],
          "scatter": [
           {
            "fillpattern": {
             "fillmode": "overlay",
             "size": 10,
             "solidity": 0.2
            },
            "type": "scatter"
           }
          ],
          "scatter3d": [
           {
            "line": {
             "colorbar": {
              "outlinewidth": 0,
              "ticks": ""
             }
            },
            "marker": {
             "colorbar": {
              "outlinewidth": 0,
              "ticks": ""
             }
            },
            "type": "scatter3d"
           }
          ],
          "scattercarpet": [
           {
            "marker": {
             "colorbar": {
              "outlinewidth": 0,
              "ticks": ""
             }
            },
            "type": "scattercarpet"
           }
          ],
          "scattergeo": [
           {
            "marker": {
             "colorbar": {
              "outlinewidth": 0,
              "ticks": ""
             }
            },
            "type": "scattergeo"
           }
          ],
          "scattergl": [
           {
            "marker": {
             "colorbar": {
              "outlinewidth": 0,
              "ticks": ""
             }
            },
            "type": "scattergl"
           }
          ],
          "scattermapbox": [
           {
            "marker": {
             "colorbar": {
              "outlinewidth": 0,
              "ticks": ""
             }
            },
            "type": "scattermapbox"
           }
          ],
          "scatterpolar": [
           {
            "marker": {
             "colorbar": {
              "outlinewidth": 0,
              "ticks": ""
             }
            },
            "type": "scatterpolar"
           }
          ],
          "scatterpolargl": [
           {
            "marker": {
             "colorbar": {
              "outlinewidth": 0,
              "ticks": ""
             }
            },
            "type": "scatterpolargl"
           }
          ],
          "scatterternary": [
           {
            "marker": {
             "colorbar": {
              "outlinewidth": 0,
              "ticks": ""
             }
            },
            "type": "scatterternary"
           }
          ],
          "surface": [
           {
            "colorbar": {
             "outlinewidth": 0,
             "ticks": ""
            },
            "colorscale": [
             [
              0,
              "#0d0887"
             ],
             [
              0.1111111111111111,
              "#46039f"
             ],
             [
              0.2222222222222222,
              "#7201a8"
             ],
             [
              0.3333333333333333,
              "#9c179e"
             ],
             [
              0.4444444444444444,
              "#bd3786"
             ],
             [
              0.5555555555555556,
              "#d8576b"
             ],
             [
              0.6666666666666666,
              "#ed7953"
             ],
             [
              0.7777777777777778,
              "#fb9f3a"
             ],
             [
              0.8888888888888888,
              "#fdca26"
             ],
             [
              1,
              "#f0f921"
             ]
            ],
            "type": "surface"
           }
          ],
          "table": [
           {
            "cells": {
             "fill": {
              "color": "#EBF0F8"
             },
             "line": {
              "color": "white"
             }
            },
            "header": {
             "fill": {
              "color": "#C8D4E3"
             },
             "line": {
              "color": "white"
             }
            },
            "type": "table"
           }
          ]
         },
         "layout": {
          "annotationdefaults": {
           "arrowcolor": "#2a3f5f",
           "arrowhead": 0,
           "arrowwidth": 1
          },
          "autotypenumbers": "strict",
          "coloraxis": {
           "colorbar": {
            "outlinewidth": 0,
            "ticks": ""
           }
          },
          "colorscale": {
           "diverging": [
            [
             0,
             "#8e0152"
            ],
            [
             0.1,
             "#c51b7d"
            ],
            [
             0.2,
             "#de77ae"
            ],
            [
             0.3,
             "#f1b6da"
            ],
            [
             0.4,
             "#fde0ef"
            ],
            [
             0.5,
             "#f7f7f7"
            ],
            [
             0.6,
             "#e6f5d0"
            ],
            [
             0.7,
             "#b8e186"
            ],
            [
             0.8,
             "#7fbc41"
            ],
            [
             0.9,
             "#4d9221"
            ],
            [
             1,
             "#276419"
            ]
           ],
           "sequential": [
            [
             0,
             "#0d0887"
            ],
            [
             0.1111111111111111,
             "#46039f"
            ],
            [
             0.2222222222222222,
             "#7201a8"
            ],
            [
             0.3333333333333333,
             "#9c179e"
            ],
            [
             0.4444444444444444,
             "#bd3786"
            ],
            [
             0.5555555555555556,
             "#d8576b"
            ],
            [
             0.6666666666666666,
             "#ed7953"
            ],
            [
             0.7777777777777778,
             "#fb9f3a"
            ],
            [
             0.8888888888888888,
             "#fdca26"
            ],
            [
             1,
             "#f0f921"
            ]
           ],
           "sequentialminus": [
            [
             0,
             "#0d0887"
            ],
            [
             0.1111111111111111,
             "#46039f"
            ],
            [
             0.2222222222222222,
             "#7201a8"
            ],
            [
             0.3333333333333333,
             "#9c179e"
            ],
            [
             0.4444444444444444,
             "#bd3786"
            ],
            [
             0.5555555555555556,
             "#d8576b"
            ],
            [
             0.6666666666666666,
             "#ed7953"
            ],
            [
             0.7777777777777778,
             "#fb9f3a"
            ],
            [
             0.8888888888888888,
             "#fdca26"
            ],
            [
             1,
             "#f0f921"
            ]
           ]
          },
          "colorway": [
           "#636efa",
           "#EF553B",
           "#00cc96",
           "#ab63fa",
           "#FFA15A",
           "#19d3f3",
           "#FF6692",
           "#B6E880",
           "#FF97FF",
           "#FECB52"
          ],
          "font": {
           "color": "#2a3f5f"
          },
          "geo": {
           "bgcolor": "white",
           "lakecolor": "white",
           "landcolor": "#E5ECF6",
           "showlakes": true,
           "showland": true,
           "subunitcolor": "white"
          },
          "hoverlabel": {
           "align": "left"
          },
          "hovermode": "closest",
          "mapbox": {
           "style": "light"
          },
          "paper_bgcolor": "white",
          "plot_bgcolor": "#E5ECF6",
          "polar": {
           "angularaxis": {
            "gridcolor": "white",
            "linecolor": "white",
            "ticks": ""
           },
           "bgcolor": "#E5ECF6",
           "radialaxis": {
            "gridcolor": "white",
            "linecolor": "white",
            "ticks": ""
           }
          },
          "scene": {
           "xaxis": {
            "backgroundcolor": "#E5ECF6",
            "gridcolor": "white",
            "gridwidth": 2,
            "linecolor": "white",
            "showbackground": true,
            "ticks": "",
            "zerolinecolor": "white"
           },
           "yaxis": {
            "backgroundcolor": "#E5ECF6",
            "gridcolor": "white",
            "gridwidth": 2,
            "linecolor": "white",
            "showbackground": true,
            "ticks": "",
            "zerolinecolor": "white"
           },
           "zaxis": {
            "backgroundcolor": "#E5ECF6",
            "gridcolor": "white",
            "gridwidth": 2,
            "linecolor": "white",
            "showbackground": true,
            "ticks": "",
            "zerolinecolor": "white"
           }
          },
          "shapedefaults": {
           "line": {
            "color": "#2a3f5f"
           }
          },
          "ternary": {
           "aaxis": {
            "gridcolor": "white",
            "linecolor": "white",
            "ticks": ""
           },
           "baxis": {
            "gridcolor": "white",
            "linecolor": "white",
            "ticks": ""
           },
           "bgcolor": "#E5ECF6",
           "caxis": {
            "gridcolor": "white",
            "linecolor": "white",
            "ticks": ""
           }
          },
          "title": {
           "x": 0.05
          },
          "xaxis": {
           "automargin": true,
           "gridcolor": "white",
           "linecolor": "white",
           "ticks": "",
           "title": {
            "standoff": 15
           },
           "zerolinecolor": "white",
           "zerolinewidth": 2
          },
          "yaxis": {
           "automargin": true,
           "gridcolor": "white",
           "linecolor": "white",
           "ticks": "",
           "title": {
            "standoff": 15
           },
           "zerolinecolor": "white",
           "zerolinewidth": 2
          }
         }
        },
        "xaxis": {
         "anchor": "y",
         "domain": [
          0,
          1
         ],
         "title": {
          "text": "value"
         }
        },
        "yaxis": {
         "anchor": "x",
         "domain": [
          0,
          1
         ],
         "title": {
          "text": "count"
         }
        }
       }
      }
     },
     "metadata": {},
     "output_type": "display_data"
    }
   ],
   "source": [
    "#Visualizando garfica de frecuencias por país\n",
    "psdf['country_txt'].plot.bar()"
   ]
  },
  {
   "cell_type": "code",
   "execution_count": 16,
   "metadata": {},
   "outputs": [
    {
     "data": {
      "text/plain": [
       "0      1970\n",
       "1      1970\n",
       "2      1970\n",
       "3      1970\n",
       "4      1970\n",
       "5      1970\n",
       "6      1970\n",
       "7      1970\n",
       "8      1970\n",
       "9      1970\n",
       "10     1970\n",
       "11     1970\n",
       "12     1970\n",
       "13     1970\n",
       "14     1970\n",
       "15     1970\n",
       "16     1970\n",
       "17     1970\n",
       "18     1970\n",
       "19     1970\n",
       "20     1970\n",
       "21     1970\n",
       "22     1970\n",
       "23     1970\n",
       "24     1970\n",
       "25     1970\n",
       "26     1970\n",
       "27     1970\n",
       "28     1970\n",
       "29     1970\n",
       "30     1970\n",
       "31     1970\n",
       "32     1970\n",
       "33     1970\n",
       "34     1970\n",
       "35     1970\n",
       "36     1970\n",
       "37     1970\n",
       "38     1970\n",
       "39     1970\n",
       "40     1970\n",
       "41     1970\n",
       "42     1970\n",
       "43     1970\n",
       "44     1970\n",
       "45     1970\n",
       "46     1970\n",
       "47     1970\n",
       "48     1970\n",
       "49     1970\n",
       "50     1970\n",
       "51     1970\n",
       "52     1970\n",
       "53     1970\n",
       "54     1970\n",
       "55     1970\n",
       "56     1970\n",
       "57     1970\n",
       "58     1970\n",
       "59     1970\n",
       "60     1970\n",
       "61     1970\n",
       "62     1970\n",
       "63     1970\n",
       "64     1970\n",
       "65     1970\n",
       "66     1970\n",
       "67     1970\n",
       "68     1970\n",
       "69     1970\n",
       "70     1970\n",
       "71     1970\n",
       "72     1970\n",
       "73     1970\n",
       "74     1970\n",
       "75     1970\n",
       "76     1970\n",
       "77     1970\n",
       "78     1970\n",
       "79     1970\n",
       "80     1970\n",
       "81     1970\n",
       "82     1970\n",
       "83     1970\n",
       "84     1970\n",
       "85     1970\n",
       "86     1970\n",
       "87     1970\n",
       "88     1970\n",
       "89     1970\n",
       "90     1970\n",
       "91     1970\n",
       "92     1970\n",
       "93     1970\n",
       "94     1970\n",
       "95     1970\n",
       "96     1970\n",
       "97     1970\n",
       "98     1970\n",
       "99     1970\n",
       "100    1970\n",
       "101    1970\n",
       "102    1970\n",
       "103    1970\n",
       "104    1970\n",
       "105    1970\n",
       "106    1970\n",
       "107    1970\n",
       "108    1970\n",
       "109    1970\n",
       "110    1970\n",
       "111    1970\n",
       "112    1970\n",
       "113    1970\n",
       "114    1970\n",
       "115    1970\n",
       "116    1970\n",
       "117    1970\n",
       "118    1970\n",
       "119    1970\n",
       "120    1970\n",
       "121    1970\n",
       "122    1970\n",
       "123    1970\n",
       "124    1970\n",
       "125    1970\n",
       "126    1970\n",
       "127    1970\n",
       "128    1970\n",
       "129    1970\n",
       "130    1970\n",
       "131    1970\n",
       "132    1970\n",
       "133    1970\n",
       "134    1970\n",
       "135    1970\n",
       "136    1970\n",
       "137    1970\n",
       "138    1970\n",
       "139    1970\n",
       "140    1970\n",
       "141    1970\n",
       "142    1970\n",
       "143    1970\n",
       "144    1970\n",
       "145    1970\n",
       "146    1970\n",
       "147    1970\n",
       "148    1970\n",
       "149    1970\n",
       "150    1970\n",
       "151    1970\n",
       "152    1970\n",
       "153    1970\n",
       "154    1970\n",
       "155    1970\n",
       "156    1970\n",
       "157    1970\n",
       "158    1970\n",
       "159    1970\n",
       "160    1970\n",
       "161    1970\n",
       "162    1970\n",
       "163    1970\n",
       "164    1970\n",
       "165    1970\n",
       "166    1970\n",
       "167    1970\n",
       "168    1970\n",
       "169    1970\n",
       "170    1970\n",
       "171    1970\n",
       "172    1970\n",
       "173    1970\n",
       "174    1970\n",
       "175    1970\n",
       "176    1970\n",
       "177    1970\n",
       "178    1970\n",
       "179    1970\n",
       "180    1970\n",
       "181    1970\n",
       "182    1970\n",
       "183    1970\n",
       "184    1970\n",
       "185    1970\n",
       "186    1970\n",
       "187    1970\n",
       "188    1970\n",
       "189    1970\n",
       "190    1970\n",
       "191    1970\n",
       "192    1970\n",
       "193    1970\n",
       "194    1970\n",
       "195    1970\n",
       "196    1970\n",
       "197    1970\n",
       "198    1970\n",
       "199    1970\n",
       "200    1970\n",
       "201    1970\n",
       "202    1970\n",
       "203    1970\n",
       "204    1970\n",
       "205    1970\n",
       "206    1970\n",
       "207    1970\n",
       "208    1970\n",
       "209    1970\n",
       "210    1970\n",
       "211    1970\n",
       "212    1970\n",
       "213    1970\n",
       "214    1970\n",
       "215    1970\n",
       "216    1970\n",
       "217    1970\n",
       "218    1970\n",
       "219    1970\n",
       "220    1970\n",
       "221    1970\n",
       "222    1970\n",
       "223    1970\n",
       "224    1970\n",
       "225    1970\n",
       "226    1970\n",
       "227    1970\n",
       "228    1970\n",
       "229    1970\n",
       "230    1970\n",
       "231    1970\n",
       "232    1970\n",
       "233    1970\n",
       "234    1970\n",
       "235    1970\n",
       "236    1970\n",
       "237    1970\n",
       "238    1970\n",
       "239    1970\n",
       "240    1970\n",
       "241    1970\n",
       "242    1970\n",
       "243    1970\n",
       "244    1970\n",
       "245    1970\n",
       "246    1970\n",
       "247    1970\n",
       "248    1970\n",
       "249    1970\n",
       "250    1970\n",
       "251    1970\n",
       "252    1970\n",
       "253    1970\n",
       "254    1970\n",
       "255    1970\n",
       "256    1970\n",
       "257    1970\n",
       "258    1970\n",
       "259    1970\n",
       "260    1970\n",
       "261    1970\n",
       "262    1970\n",
       "263    1970\n",
       "264    1970\n",
       "265    1970\n",
       "266    1970\n",
       "267    1970\n",
       "268    1970\n",
       "269    1970\n",
       "270    1970\n",
       "271    1970\n",
       "272    1970\n",
       "273    1970\n",
       "274    1970\n",
       "275    1970\n",
       "276    1970\n",
       "277    1970\n",
       "278    1970\n",
       "279    1970\n",
       "280    1970\n",
       "281    1970\n",
       "282    1970\n",
       "283    1970\n",
       "284    1970\n",
       "285    1970\n",
       "286    1970\n",
       "287    1970\n",
       "288    1970\n",
       "289    1970\n",
       "290    1970\n",
       "291    1970\n",
       "292    1970\n",
       "293    1970\n",
       "294    1970\n",
       "295    1970\n",
       "296    1970\n",
       "297    1970\n",
       "298    1970\n",
       "299    1970\n",
       "300    1970\n",
       "301    1970\n",
       "302    1970\n",
       "303    1970\n",
       "304    1970\n",
       "305    1970\n",
       "306    1970\n",
       "307    1970\n",
       "308    1970\n",
       "309    1970\n",
       "310    1970\n",
       "311    1970\n",
       "312    1970\n",
       "313    1970\n",
       "314    1970\n",
       "315    1970\n",
       "316    1970\n",
       "317    1970\n",
       "318    1970\n",
       "319    1970\n",
       "320    1970\n",
       "321    1970\n",
       "322    1970\n",
       "323    1970\n",
       "324    1970\n",
       "325    1970\n",
       "326    1970\n",
       "327    1970\n",
       "328    1970\n",
       "329    1970\n",
       "330    1970\n",
       "331    1970\n",
       "332    1970\n",
       "333    1970\n",
       "334    1970\n",
       "335    1970\n",
       "336    1970\n",
       "337    1970\n",
       "338    1970\n",
       "339    1970\n",
       "340    1970\n",
       "341    1970\n",
       "342    1970\n",
       "343    1970\n",
       "344    1970\n",
       "345    1970\n",
       "346    1970\n",
       "347    1970\n",
       "348    1970\n",
       "349    1970\n",
       "350    1970\n",
       "351    1970\n",
       "352    1970\n",
       "353    1970\n",
       "354    1970\n",
       "355    1970\n",
       "356    1970\n",
       "357    1970\n",
       "358    1970\n",
       "359    1970\n",
       "360    1970\n",
       "361    1970\n",
       "362    1970\n",
       "363    1970\n",
       "364    1970\n",
       "365    1970\n",
       "366    1970\n",
       "367    1970\n",
       "368    1970\n",
       "369    1970\n",
       "370    1970\n",
       "371    1970\n",
       "372    1970\n",
       "373    1970\n",
       "374    1970\n",
       "375    1970\n",
       "376    1970\n",
       "377    1970\n",
       "378    1970\n",
       "379    1970\n",
       "380    1970\n",
       "381    1970\n",
       "382    1970\n",
       "383    1970\n",
       "384    1970\n",
       "385    1970\n",
       "386    1970\n",
       "387    1970\n",
       "388    1970\n",
       "389    1970\n",
       "390    1970\n",
       "391    1970\n",
       "392    1970\n",
       "393    1970\n",
       "394    1970\n",
       "395    1970\n",
       "396    1970\n",
       "397    1970\n",
       "398    1970\n",
       "399    1970\n",
       "400    1970\n",
       "401    1970\n",
       "402    1970\n",
       "403    1970\n",
       "404    1970\n",
       "405    1970\n",
       "406    1970\n",
       "407    1970\n",
       "408    1970\n",
       "409    1970\n",
       "410    1970\n",
       "411    1970\n",
       "412    1970\n",
       "413    1970\n",
       "414    1970\n",
       "415    1970\n",
       "416    1970\n",
       "417    1970\n",
       "418    1970\n",
       "419    1970\n",
       "420    1970\n",
       "421    1970\n",
       "422    1970\n",
       "423    1970\n",
       "424    1970\n",
       "425    1970\n",
       "426    1970\n",
       "427    1970\n",
       "428    1970\n",
       "429    1970\n",
       "430    1970\n",
       "431    1970\n",
       "432    1970\n",
       "433    1970\n",
       "434    1970\n",
       "435    1970\n",
       "436    1970\n",
       "437    1970\n",
       "438    1970\n",
       "439    1970\n",
       "440    1970\n",
       "441    1970\n",
       "442    1970\n",
       "443    1970\n",
       "444    1970\n",
       "445    1970\n",
       "446    1970\n",
       "447    1970\n",
       "448    1970\n",
       "449    1970\n",
       "450    1970\n",
       "451    1970\n",
       "452    1970\n",
       "453    1970\n",
       "454    1970\n",
       "455    1970\n",
       "456    1970\n",
       "457    1970\n",
       "458    1970\n",
       "459    1970\n",
       "460    1970\n",
       "461    1970\n",
       "462    1970\n",
       "463    1970\n",
       "464    1970\n",
       "465    1970\n",
       "466    1970\n",
       "467    1970\n",
       "468    1970\n",
       "469    1970\n",
       "470    1970\n",
       "471    1970\n",
       "472    1970\n",
       "473    1970\n",
       "474    1970\n",
       "475    1970\n",
       "476    1970\n",
       "477    1970\n",
       "478    1970\n",
       "479    1970\n",
       "480    1970\n",
       "481    1970\n",
       "482    1970\n",
       "483    1970\n",
       "484    1970\n",
       "485    1970\n",
       "486    1970\n",
       "487    1970\n",
       "488    1970\n",
       "489    1970\n",
       "490    1970\n",
       "491    1970\n",
       "492    1970\n",
       "493    1970\n",
       "494    1970\n",
       "495    1970\n",
       "496    1970\n",
       "497    1970\n",
       "498    1970\n",
       "499    1970\n",
       "500    1970\n",
       "501    1970\n",
       "502    1970\n",
       "503    1970\n",
       "504    1970\n",
       "505    1970\n",
       "506    1970\n",
       "507    1970\n",
       "508    1970\n",
       "509    1970\n",
       "510    1970\n",
       "511    1970\n",
       "512    1970\n",
       "513    1970\n",
       "514    1970\n",
       "515    1970\n",
       "516    1970\n",
       "517    1970\n",
       "518    1970\n",
       "519    1970\n",
       "520    1970\n",
       "521    1970\n",
       "522    1970\n",
       "523    1970\n",
       "524    1970\n",
       "525    1970\n",
       "526    1970\n",
       "527    1970\n",
       "528    1970\n",
       "529    1970\n",
       "530    1970\n",
       "531    1970\n",
       "532    1970\n",
       "533    1970\n",
       "534    1970\n",
       "535    1970\n",
       "536    1970\n",
       "537    1970\n",
       "538    1970\n",
       "539    1970\n",
       "540    1970\n",
       "541    1970\n",
       "542    1970\n",
       "543    1970\n",
       "544    1970\n",
       "545    1970\n",
       "546    1970\n",
       "547    1970\n",
       "548    1970\n",
       "549    1970\n",
       "550    1970\n",
       "551    1970\n",
       "552    1970\n",
       "553    1970\n",
       "554    1970\n",
       "555    1970\n",
       "556    1970\n",
       "557    1970\n",
       "558    1970\n",
       "559    1970\n",
       "560    1970\n",
       "561    1970\n",
       "562    1970\n",
       "563    1970\n",
       "564    1970\n",
       "565    1970\n",
       "566    1970\n",
       "567    1970\n",
       "568    1970\n",
       "569    1970\n",
       "570    1970\n",
       "571    1970\n",
       "572    1970\n",
       "573    1970\n",
       "574    1970\n",
       "575    1970\n",
       "576    1970\n",
       "577    1970\n",
       "578    1970\n",
       "579    1970\n",
       "580    1970\n",
       "581    1970\n",
       "582    1970\n",
       "583    1970\n",
       "584    1970\n",
       "585    1970\n",
       "586    1970\n",
       "587    1970\n",
       "588    1970\n",
       "589    1970\n",
       "590    1970\n",
       "591    1970\n",
       "592    1970\n",
       "593    1970\n",
       "594    1970\n",
       "595    1970\n",
       "596    1970\n",
       "597    1970\n",
       "598    1970\n",
       "599    1970\n",
       "600    1970\n",
       "601    1970\n",
       "602    1970\n",
       "603    1970\n",
       "604    1970\n",
       "605    1970\n",
       "606    1970\n",
       "607    1970\n",
       "608    1970\n",
       "609    1970\n",
       "610    1970\n",
       "611    1970\n",
       "612    1970\n",
       "613    1970\n",
       "614    1970\n",
       "615    1970\n",
       "616    1970\n",
       "617    1970\n",
       "618    1970\n",
       "619    1970\n",
       "620    1970\n",
       "621    1970\n",
       "622    1970\n",
       "623    1970\n",
       "624    1970\n",
       "625    1970\n",
       "626    1970\n",
       "627    1970\n",
       "628    1970\n",
       "629    1970\n",
       "630    1970\n",
       "631    1970\n",
       "632    1970\n",
       "633    1970\n",
       "634    1970\n",
       "635    1970\n",
       "636    1970\n",
       "637    1970\n",
       "638    1970\n",
       "639    1970\n",
       "640    1970\n",
       "641    1970\n",
       "642    1970\n",
       "643    1970\n",
       "644    1970\n",
       "645    1970\n",
       "646    1970\n",
       "647    1970\n",
       "648    1970\n",
       "649    1970\n",
       "650    1970\n",
       "651    1971\n",
       "652    1971\n",
       "653    1971\n",
       "654    1971\n",
       "655    1971\n",
       "656    1971\n",
       "657    1971\n",
       "658    1971\n",
       "659    1971\n",
       "660    1971\n",
       "661    1971\n",
       "662    1971\n",
       "663    1971\n",
       "664    1971\n",
       "665    1971\n",
       "666    1971\n",
       "667    1971\n",
       "668    1971\n",
       "669    1971\n",
       "670    1971\n",
       "671    1971\n",
       "672    1971\n",
       "673    1971\n",
       "674    1971\n",
       "675    1971\n",
       "676    1971\n",
       "677    1971\n",
       "678    1971\n",
       "679    1971\n",
       "680    1971\n",
       "681    1971\n",
       "682    1971\n",
       "683    1971\n",
       "684    1971\n",
       "685    1971\n",
       "686    1971\n",
       "687    1971\n",
       "688    1971\n",
       "689    1971\n",
       "690    1971\n",
       "691    1971\n",
       "692    1971\n",
       "693    1971\n",
       "694    1971\n",
       "695    1971\n",
       "696    1971\n",
       "697    1971\n",
       "698    1971\n",
       "699    1971\n",
       "700    1971\n",
       "701    1971\n",
       "702    1971\n",
       "703    1971\n",
       "704    1971\n",
       "705    1971\n",
       "706    1971\n",
       "707    1971\n",
       "708    1971\n",
       "709    1971\n",
       "710    1971\n",
       "711    1971\n",
       "712    1971\n",
       "713    1971\n",
       "714    1971\n",
       "715    1971\n",
       "716    1971\n",
       "717    1971\n",
       "718    1971\n",
       "719    1971\n",
       "720    1971\n",
       "721    1971\n",
       "722    1971\n",
       "723    1971\n",
       "724    1971\n",
       "725    1971\n",
       "726    1971\n",
       "727    1971\n",
       "728    1971\n",
       "729    1971\n",
       "730    1971\n",
       "731    1971\n",
       "732    1971\n",
       "733    1971\n",
       "734    1971\n",
       "735    1971\n",
       "736    1971\n",
       "737    1971\n",
       "738    1971\n",
       "739    1971\n",
       "740    1971\n",
       "741    1971\n",
       "742    1971\n",
       "743    1971\n",
       "744    1971\n",
       "745    1971\n",
       "746    1971\n",
       "747    1971\n",
       "748    1971\n",
       "749    1971\n",
       "750    1971\n",
       "751    1971\n",
       "752    1971\n",
       "753    1971\n",
       "754    1971\n",
       "755    1971\n",
       "756    1971\n",
       "757    1971\n",
       "758    1971\n",
       "759    1971\n",
       "760    1971\n",
       "761    1971\n",
       "762    1971\n",
       "763    1971\n",
       "764    1971\n",
       "765    1971\n",
       "766    1971\n",
       "767    1971\n",
       "768    1971\n",
       "769    1971\n",
       "770    1971\n",
       "771    1971\n",
       "772    1971\n",
       "773    1971\n",
       "774    1971\n",
       "775    1971\n",
       "776    1971\n",
       "777    1971\n",
       "778    1971\n",
       "779    1971\n",
       "780    1971\n",
       "781    1971\n",
       "782    1971\n",
       "783    1971\n",
       "784    1971\n",
       "785    1971\n",
       "786    1971\n",
       "787    1971\n",
       "788    1971\n",
       "789    1971\n",
       "790    1971\n",
       "791    1971\n",
       "792    1971\n",
       "793    1971\n",
       "794    1971\n",
       "795    1971\n",
       "796    1971\n",
       "797    1971\n",
       "798    1971\n",
       "799    1971\n",
       "800    1971\n",
       "801    1971\n",
       "802    1971\n",
       "803    1971\n",
       "804    1971\n",
       "805    1971\n",
       "806    1971\n",
       "807    1971\n",
       "808    1971\n",
       "809    1971\n",
       "810    1971\n",
       "811    1971\n",
       "812    1971\n",
       "813    1971\n",
       "814    1971\n",
       "815    1971\n",
       "816    1971\n",
       "817    1971\n",
       "818    1971\n",
       "819    1971\n",
       "820    1971\n",
       "821    1971\n",
       "822    1971\n",
       "823    1971\n",
       "824    1971\n",
       "825    1971\n",
       "826    1971\n",
       "827    1971\n",
       "828    1971\n",
       "829    1971\n",
       "830    1971\n",
       "831    1971\n",
       "832    1971\n",
       "833    1971\n",
       "834    1971\n",
       "835    1971\n",
       "836    1971\n",
       "837    1971\n",
       "838    1971\n",
       "839    1971\n",
       "840    1971\n",
       "841    1971\n",
       "842    1971\n",
       "843    1971\n",
       "844    1971\n",
       "845    1971\n",
       "846    1971\n",
       "847    1971\n",
       "848    1971\n",
       "849    1971\n",
       "850    1971\n",
       "851    1971\n",
       "852    1971\n",
       "853    1971\n",
       "854    1971\n",
       "855    1971\n",
       "856    1971\n",
       "857    1971\n",
       "858    1971\n",
       "859    1971\n",
       "860    1971\n",
       "861    1971\n",
       "862    1971\n",
       "863    1971\n",
       "864    1971\n",
       "865    1971\n",
       "866    1971\n",
       "867    1971\n",
       "868    1971\n",
       "869    1971\n",
       "870    1971\n",
       "871    1971\n",
       "872    1971\n",
       "873    1971\n",
       "874    1971\n",
       "875    1971\n",
       "876    1971\n",
       "877    1971\n",
       "878    1971\n",
       "879    1971\n",
       "880    1971\n",
       "881    1971\n",
       "882    1971\n",
       "883    1971\n",
       "884    1971\n",
       "885    1971\n",
       "886    1971\n",
       "887    1971\n",
       "888    1971\n",
       "889    1971\n",
       "890    1971\n",
       "891    1971\n",
       "892    1971\n",
       "893    1971\n",
       "894    1971\n",
       "895    1971\n",
       "896    1971\n",
       "897    1971\n",
       "898    1971\n",
       "899    1971\n",
       "900    1971\n",
       "901    1971\n",
       "902    1971\n",
       "903    1971\n",
       "904    1971\n",
       "905    1971\n",
       "906    1971\n",
       "907    1971\n",
       "908    1971\n",
       "909    1971\n",
       "910    1971\n",
       "911    1971\n",
       "912    1971\n",
       "913    1971\n",
       "914    1971\n",
       "915    1971\n",
       "916    1971\n",
       "917    1971\n",
       "918    1971\n",
       "919    1971\n",
       "920    1971\n",
       "921    1971\n",
       "922    1971\n",
       "923    1971\n",
       "924    1971\n",
       "925    1971\n",
       "926    1971\n",
       "927    1971\n",
       "928    1971\n",
       "929    1971\n",
       "930    1971\n",
       "931    1971\n",
       "932    1971\n",
       "933    1971\n",
       "934    1971\n",
       "935    1971\n",
       "936    1971\n",
       "937    1971\n",
       "938    1971\n",
       "939    1971\n",
       "940    1971\n",
       "941    1971\n",
       "942    1971\n",
       "943    1971\n",
       "944    1971\n",
       "945    1971\n",
       "946    1971\n",
       "947    1971\n",
       "948    1971\n",
       "949    1971\n",
       "950    1971\n",
       "951    1971\n",
       "952    1971\n",
       "953    1971\n",
       "954    1971\n",
       "955    1971\n",
       "956    1971\n",
       "957    1971\n",
       "958    1971\n",
       "959    1971\n",
       "960    1971\n",
       "961    1971\n",
       "962    1971\n",
       "963    1971\n",
       "964    1971\n",
       "965    1971\n",
       "966    1971\n",
       "967    1971\n",
       "968    1971\n",
       "969    1971\n",
       "970    1971\n",
       "971    1971\n",
       "972    1971\n",
       "973    1971\n",
       "974    1971\n",
       "975    1971\n",
       "976    1971\n",
       "977    1971\n",
       "978    1971\n",
       "979    1971\n",
       "980    1971\n",
       "981    1971\n",
       "982    1971\n",
       "983    1971\n",
       "984    1971\n",
       "985    1971\n",
       "986    1971\n",
       "987    1971\n",
       "988    1971\n",
       "989    1971\n",
       "990    1971\n",
       "991    1971\n",
       "992    1971\n",
       "993    1971\n",
       "994    1971\n",
       "995    1971\n",
       "996    1971\n",
       "997    1971\n",
       "998    1971\n",
       "999    1971\n",
       "Name: iyear, dtype: int32\n",
       "Showing only the first 1000"
      ]
     },
     "execution_count": 16,
     "metadata": {},
     "output_type": "execute_result"
    }
   ],
   "source": [
    "psdf['iyear']"
   ]
  },
  {
   "cell_type": "code",
   "execution_count": 17,
   "metadata": {},
   "outputs": [
    {
     "data": {
      "application/vnd.plotly.v1+json": {
       "config": {
        "plotlyServerURL": "https://plot.ly"
       },
       "data": [
        {
         "hovertemplate": "variable=iyear<br>index=%{x}<br>value=%{y}<extra></extra>",
         "legendgroup": "iyear",
         "line": {
          "color": "#636efa",
          "dash": "solid"
         },
         "marker": {
          "symbol": "circle"
         },
         "mode": "lines",
         "name": "iyear",
         "orientation": "v",
         "showlegend": true,
         "type": "scatter",
         "x": [
          123,
          207,
          210,
          283,
          299,
          373,
          407,
          972,
          1027,
          1248,
          1346,
          1347,
          1364,
          1421,
          1667,
          1690,
          1945,
          2135,
          2217,
          2236,
          2349,
          2619,
          2661,
          2771,
          3063,
          3460,
          3510,
          3523,
          3689,
          4068,
          4078,
          4239,
          4297,
          4473,
          4645,
          4681,
          5043,
          5547,
          5671,
          5802,
          5953,
          6048,
          6110,
          6313,
          6441,
          6934,
          7346,
          7357,
          7381,
          7791,
          7902,
          7911,
          8051,
          8388,
          8864,
          9418,
          9620,
          9807,
          9969,
          10176,
          10334,
          10375,
          10421,
          10623,
          10654,
          10725,
          10849,
          11129,
          11272,
          11306,
          11364,
          11457,
          11493,
          11563,
          11723,
          11902,
          11994,
          12393,
          12844,
          13752,
          13763,
          14023,
          14153,
          14430,
          14433,
          14721,
          14786,
          14880,
          14894,
          15315,
          15332,
          15526,
          15765,
          15943,
          16027,
          16329,
          16819,
          16887,
          16999,
          17016,
          17309,
          17443,
          17458,
          17675,
          17681,
          17814,
          17964,
          18499,
          18576,
          19307,
          19362,
          19379,
          19621,
          20099,
          20211,
          20413,
          20526,
          20768,
          20817,
          20941,
          21086,
          21177,
          21195,
          21265,
          21298,
          21445,
          21907,
          21910,
          21917,
          21983,
          22084,
          22103,
          22342,
          22426,
          22483,
          22575,
          22681,
          23126,
          23178,
          23361,
          23375,
          23452,
          23812,
          24237,
          24372,
          24407,
          24422,
          24535,
          24622,
          24702,
          24878,
          25365,
          25457,
          25541,
          25653,
          25813,
          26278,
          26366,
          26402,
          26920,
          26927,
          27057,
          27187,
          27496,
          27969,
          28171,
          28418,
          28496,
          28674,
          28866,
          29512,
          29671,
          29875,
          29956,
          29979,
          30173,
          30292,
          30472,
          30519,
          30544,
          30806,
          30961,
          31185,
          31606,
          31615,
          31924,
          32150,
          32715,
          32952,
          33130,
          33146,
          33395,
          33417,
          33598,
          33763,
          33848,
          33872,
          33971,
          34076,
          34117,
          34133,
          34196,
          34267,
          34363,
          34378,
          34389,
          34415,
          34560,
          34602,
          34667,
          35342,
          35406,
          35412,
          35476,
          35666,
          35677,
          35895,
          35991,
          36166,
          36454,
          36872,
          37083,
          37372,
          37443,
          37530,
          37771,
          37772,
          37788,
          37963,
          38114,
          38174,
          38240,
          38522,
          38836,
          38914,
          39065,
          39311,
          39349,
          39552,
          39681,
          40662,
          40833,
          41168,
          41346,
          41678,
          41764,
          41793,
          41813,
          42196,
          42376,
          42519,
          42818,
          43069,
          43136,
          43460,
          43487,
          43545,
          43841,
          44011,
          44078,
          44121,
          44325,
          44873,
          45567,
          45919,
          45941,
          46037,
          46167,
          46333,
          46386,
          46431,
          46443,
          47068,
          47108,
          47190,
          47347,
          47531,
          47636,
          47680,
          47726,
          47775,
          47938,
          47988,
          48196,
          48457,
          48595,
          48637,
          48845,
          49265,
          49354,
          49418,
          49803,
          50076,
          50093,
          50150,
          50209,
          50253,
          50602,
          50609,
          50932,
          51047,
          51649,
          51766,
          51778,
          51960,
          52320,
          52547,
          52742,
          52785,
          53098,
          53207,
          53819,
          53906,
          53953,
          53965,
          54299,
          54469,
          54837,
          54921,
          55089,
          55491,
          55906,
          56107,
          56174,
          56394,
          56871,
          57638,
          57696,
          57867,
          58067,
          58848,
          58863,
          58931,
          58974,
          59251,
          59258,
          59541,
          59574,
          59640,
          59831,
          59859,
          60352,
          60381,
          60736,
          60737,
          60990,
          61064,
          61382,
          61631,
          61679,
          61854,
          62465,
          62482,
          62685,
          62730,
          62773,
          63341,
          63457,
          63505,
          63552,
          63644,
          63696,
          63744,
          63859,
          63867,
          64004,
          64138,
          64166,
          64223,
          64255,
          64516,
          64788,
          64819,
          64875,
          65457,
          65595,
          65881,
          66966,
          66971,
          67106,
          67308,
          67588,
          67664,
          67949,
          67955,
          67976,
          68022,
          68178,
          68699,
          68794,
          68884,
          68899,
          69184,
          69851,
          69955,
          70118,
          70428,
          70488,
          70729,
          70855,
          70981,
          71015,
          71145,
          71165,
          71366,
          71701,
          71999,
          72311,
          72330,
          72376,
          72457,
          72529,
          72565,
          72699,
          72733,
          72792,
          72814,
          72923,
          73070,
          73132,
          73262,
          73287,
          73572,
          73813,
          74171,
          74304,
          74945,
          74950,
          75413,
          75424,
          75425,
          75595,
          75707,
          75987,
          75992,
          76010,
          76142,
          76341,
          76610,
          76721,
          76830,
          76834,
          76999,
          77236,
          77330,
          77545,
          77796,
          78135,
          78422,
          78449,
          78486,
          78773,
          78884,
          79131,
          79204,
          79319,
          79839,
          79896,
          79902,
          80267,
          80519,
          80591,
          80657,
          80695,
          80730,
          81033,
          81552,
          82042,
          82124,
          82666,
          82955,
          83121,
          83186,
          83296,
          83355,
          83846,
          83950,
          83970,
          84079,
          84103,
          84166,
          84317,
          84318,
          84377,
          84509,
          84608,
          84703,
          85451,
          85552,
          85559,
          85846,
          85955,
          86008,
          86071,
          86148,
          86535,
          86677,
          87119,
          87229,
          87324,
          87381,
          87699,
          87739,
          87977,
          88558,
          88693,
          89027,
          89686,
          89788,
          90362,
          90477,
          90490,
          90965,
          91023,
          91206,
          91214,
          91262,
          91326,
          91568,
          91818,
          91863,
          91929,
          92055,
          92447,
          92572,
          92693,
          93397,
          93405,
          93867,
          94269,
          94438,
          94480,
          94538,
          94617,
          95042,
          95122,
          95322,
          95347,
          95638,
          96049,
          96074,
          96492,
          97142,
          97160,
          97235,
          97874,
          98000,
          98143,
          98174,
          98244,
          98258,
          98540,
          98580,
          98684,
          98820,
          98976,
          99044,
          99264,
          99278,
          99330,
          99547,
          99607,
          99756,
          100262,
          100311,
          100824,
          100875,
          100895,
          101162,
          101438,
          101488,
          101636,
          101729,
          101737,
          101989,
          102091,
          102149,
          102288,
          102449,
          102586,
          102603,
          102682,
          102963,
          102978,
          103110,
          103318,
          103571,
          103620,
          103824,
          104083,
          104251,
          104318,
          104374,
          104380,
          104639,
          105498,
          105948,
          106431,
          106679,
          106925,
          107384,
          107515,
          107580,
          107596,
          108029,
          108057,
          108128,
          108308,
          108479,
          108861,
          108892,
          108907,
          109126,
          109274,
          109468,
          109521,
          109593,
          109631,
          109838,
          110071,
          110392,
          111059,
          111378,
          111547,
          111652,
          111740,
          112051,
          112137,
          112525,
          112858,
          113363,
          113898,
          113928,
          114472,
          114792,
          115099,
          115809,
          116604,
          117368,
          117460,
          117527,
          117729,
          117765,
          117821,
          118100,
          118115,
          118261,
          118271,
          118403,
          118769,
          119197,
          119208,
          119614,
          120161,
          120213,
          120399,
          120405,
          120483,
          120575,
          120890,
          121057,
          121164,
          121173,
          121744,
          122012,
          122282,
          122795,
          122797,
          122985,
          123449,
          123821,
          124176,
          124623,
          124925,
          125042,
          125140,
          125317,
          125439,
          125476,
          126286,
          126626,
          126720,
          126844,
          127002,
          127059,
          127147,
          127247,
          127314,
          127319,
          127604,
          127904,
          127952,
          128199,
          128214,
          128459,
          128573,
          128718,
          128906,
          128930,
          128986,
          129058,
          129303,
          129766,
          129947,
          130384,
          130623,
          130676,
          131067,
          131552,
          131791,
          131909,
          131922,
          132140,
          132369,
          132436,
          132773,
          132861,
          132940,
          133303,
          133389,
          133526,
          133873,
          133977,
          134164,
          134483,
          134838,
          134974,
          135053,
          135155,
          135297,
          135382,
          135916,
          136032,
          136353,
          136802,
          136833,
          136890,
          137472,
          138412,
          138577,
          138723,
          139462,
          139941,
          140142,
          140197,
          140503,
          140505,
          140614,
          140664,
          140754,
          140827,
          141182,
          141362,
          141651,
          141835,
          142171,
          142241,
          142380,
          142420,
          142466,
          142692,
          142957,
          143032,
          143263,
          143443,
          143530,
          143694,
          143713,
          143785,
          143835,
          144023,
          144108,
          144211,
          144783,
          144868,
          145080,
          145143,
          145385,
          145845,
          146605,
          146659,
          146748,
          146888,
          147058,
          147407,
          147411,
          147417,
          147473,
          147518,
          147594,
          147596,
          147719,
          147801,
          147960,
          147964,
          148200,
          148252,
          148471,
          148565,
          148582,
          148978,
          149111,
          149249,
          149257,
          149445,
          149678,
          149691,
          149786,
          149849,
          149898,
          149935,
          150060,
          150063,
          150605,
          150767,
          150874,
          151153,
          151402,
          151445,
          151542,
          151819,
          151890,
          151952,
          151962,
          152158,
          152482,
          152622,
          152986,
          153615,
          153898,
          154087,
          154146,
          154258,
          154355,
          154436,
          154452,
          154527,
          154590,
          154719,
          154727,
          155137,
          155274,
          155283,
          155513,
          155611,
          155697,
          156069,
          156094,
          156168,
          156295,
          156419,
          156751,
          157161,
          157298,
          157665,
          157758,
          157861,
          157955,
          158192,
          158415,
          158576,
          158642,
          158755,
          158874,
          159374,
          159559,
          159652,
          159820,
          160148,
          160302,
          160695,
          160742,
          160967,
          160981,
          161284,
          161435,
          161735,
          161781,
          161904,
          161937,
          162181,
          162224,
          162308,
          162309,
          162331,
          162512,
          162625,
          162652,
          162797,
          162946,
          163121,
          163248,
          163639,
          163704,
          163756,
          163846,
          163883,
          163964,
          164399,
          164798,
          164887,
          165641,
          165649,
          165672,
          165796,
          165894,
          167133,
          167134,
          167291,
          167295,
          167653,
          167791,
          167881,
          167889,
          168441,
          168513,
          168668,
          169364,
          169696,
          169936,
          170101,
          170215,
          170295,
          170370,
          170456,
          170564,
          170568,
          171027,
          171102,
          171278,
          171302,
          171353,
          171897,
          171899,
          172091,
          172141,
          172776,
          173262,
          173513,
          173537,
          173589,
          173730,
          173968,
          174169,
          174375,
          174465,
          174808,
          174968,
          175052,
          175066,
          175093,
          175172,
          175248,
          175503,
          175870,
          176003,
          176036,
          176218,
          176247,
          176408,
          176452,
          176472,
          176763,
          177051,
          177062,
          177067,
          177125,
          177519,
          177675,
          177907,
          178152,
          178253,
          178266,
          178402,
          178566,
          178800,
          178830,
          178934,
          178949,
          179526,
          179958,
          179972,
          180005,
          180376,
          180713,
          180936,
          181084,
          181432,
          181559,
          181680
         ],
         "xaxis": "x",
         "y": [
          1970,
          1970,
          1970,
          1970,
          1970,
          1970,
          1970,
          1971,
          1971,
          1972,
          1972,
          1972,
          1972,
          1972,
          1972,
          1973,
          1973,
          1973,
          1974,
          1974,
          1974,
          1974,
          1974,
          1975,
          1975,
          1975,
          1976,
          1976,
          1976,
          1976,
          1976,
          1976,
          1976,
          1977,
          1977,
          1977,
          1977,
          1977,
          1977,
          1978,
          1978,
          1978,
          1978,
          1978,
          1978,
          1978,
          1979,
          1979,
          1979,
          1979,
          1979,
          1979,
          1979,
          1979,
          1979,
          1979,
          1979,
          1979,
          1980,
          1980,
          1980,
          1980,
          1980,
          1980,
          1980,
          1980,
          1980,
          1980,
          1980,
          1980,
          1980,
          1980,
          1980,
          1980,
          1980,
          1980,
          1980,
          1980,
          1981,
          1981,
          1981,
          1981,
          1981,
          1981,
          1981,
          1981,
          1981,
          1981,
          1981,
          1982,
          1982,
          1982,
          1982,
          1982,
          1982,
          1982,
          1982,
          1982,
          1982,
          1982,
          1982,
          1982,
          1982,
          1982,
          1982,
          1983,
          1983,
          1983,
          1983,
          1983,
          1983,
          1983,
          1983,
          1983,
          1983,
          1983,
          1983,
          1984,
          1984,
          1984,
          1984,
          1984,
          1984,
          1984,
          1984,
          1984,
          1984,
          1984,
          1984,
          1984,
          1984,
          1984,
          1984,
          1984,
          1984,
          1984,
          1984,
          1984,
          1984,
          1984,
          1984,
          1984,
          1984,
          1985,
          1985,
          1985,
          1985,
          1985,
          1985,
          1985,
          1985,
          1985,
          1985,
          1985,
          1985,
          1985,
          1985,
          1985,
          1985,
          1985,
          1985,
          1986,
          1986,
          1986,
          1986,
          1986,
          1986,
          1986,
          1986,
          1986,
          1986,
          1986,
          1987,
          1987,
          1987,
          1987,
          1987,
          1987,
          1987,
          1987,
          1987,
          1987,
          1987,
          1987,
          1987,
          1987,
          1987,
          1987,
          1987,
          1988,
          1988,
          1988,
          1988,
          1988,
          1988,
          1988,
          1988,
          1988,
          1988,
          1988,
          1988,
          1988,
          1988,
          1988,
          1988,
          1988,
          1988,
          1988,
          1988,
          1988,
          1988,
          1988,
          1988,
          1988,
          1988,
          1988,
          1988,
          1988,
          1988,
          1988,
          1989,
          1989,
          1989,
          1989,
          1989,
          1989,
          1989,
          1989,
          1989,
          1989,
          1989,
          1989,
          1989,
          1989,
          1989,
          1989,
          1989,
          1989,
          1989,
          1989,
          1989,
          1989,
          1990,
          1990,
          1990,
          1990,
          1990,
          1990,
          1990,
          1990,
          1990,
          1990,
          1990,
          1990,
          1990,
          1990,
          1990,
          1990,
          1990,
          1990,
          1990,
          1990,
          1990,
          1991,
          1991,
          1991,
          1991,
          1991,
          1991,
          1991,
          1991,
          1991,
          1991,
          1991,
          1991,
          1991,
          1991,
          1991,
          1991,
          1991,
          1991,
          1991,
          1991,
          1991,
          1991,
          1991,
          1991,
          1991,
          1991,
          1991,
          1991,
          1992,
          1992,
          1992,
          1992,
          1992,
          1992,
          1992,
          1992,
          1992,
          1992,
          1992,
          1992,
          1992,
          1992,
          1992,
          1992,
          1992,
          1992,
          1992,
          1992,
          1992,
          1992,
          1992,
          1992,
          1992,
          1992,
          1994,
          1994,
          1994,
          1994,
          1994,
          1994,
          1994,
          1994,
          1994,
          1994,
          1994,
          1994,
          1994,
          1995,
          1995,
          1995,
          1995,
          1995,
          1995,
          1995,
          1995,
          1995,
          1995,
          1995,
          1995,
          1995,
          1995,
          1995,
          1995,
          1995,
          1996,
          1996,
          1996,
          1996,
          1996,
          1996,
          1996,
          1996,
          1996,
          1996,
          1996,
          1996,
          1996,
          1996,
          1996,
          1996,
          1996,
          1996,
          1996,
          1996,
          1996,
          1996,
          1996,
          1997,
          1997,
          1997,
          1997,
          1997,
          1997,
          1997,
          1997,
          1997,
          1997,
          1997,
          1998,
          1998,
          1998,
          1998,
          1998,
          1998,
          1998,
          1999,
          1999,
          1999,
          1999,
          1999,
          2000,
          2000,
          2000,
          2000,
          2000,
          2000,
          2000,
          2000,
          2000,
          2000,
          2000,
          2000,
          2001,
          2001,
          2001,
          2001,
          2001,
          2001,
          2001,
          2001,
          2001,
          2001,
          2001,
          2001,
          2001,
          2001,
          2001,
          2001,
          2001,
          2002,
          2002,
          2002,
          2002,
          2003,
          2003,
          2003,
          2003,
          2003,
          2003,
          2003,
          2003,
          2003,
          2003,
          2003,
          2004,
          2004,
          2004,
          2004,
          2004,
          2004,
          2004,
          2004,
          2005,
          2005,
          2005,
          2005,
          2005,
          2005,
          2005,
          2005,
          2005,
          2005,
          2005,
          2006,
          2006,
          2006,
          2006,
          2006,
          2006,
          2006,
          2006,
          2006,
          2006,
          2006,
          2006,
          2007,
          2007,
          2007,
          2007,
          2007,
          2007,
          2007,
          2007,
          2007,
          2007,
          2007,
          2007,
          2007,
          2007,
          2007,
          2007,
          2007,
          2007,
          2007,
          2008,
          2008,
          2008,
          2008,
          2008,
          2008,
          2008,
          2008,
          2008,
          2008,
          2008,
          2008,
          2008,
          2008,
          2008,
          2008,
          2008,
          2008,
          2008,
          2008,
          2008,
          2008,
          2009,
          2009,
          2009,
          2009,
          2009,
          2009,
          2009,
          2009,
          2009,
          2009,
          2009,
          2009,
          2009,
          2009,
          2009,
          2009,
          2009,
          2009,
          2009,
          2009,
          2009,
          2009,
          2009,
          2009,
          2009,
          2010,
          2010,
          2010,
          2010,
          2010,
          2010,
          2010,
          2010,
          2010,
          2010,
          2010,
          2010,
          2010,
          2010,
          2010,
          2010,
          2010,
          2010,
          2010,
          2010,
          2010,
          2010,
          2010,
          2010,
          2010,
          2010,
          2010,
          2010,
          2011,
          2011,
          2011,
          2011,
          2011,
          2011,
          2011,
          2011,
          2011,
          2011,
          2011,
          2011,
          2011,
          2011,
          2011,
          2011,
          2011,
          2011,
          2011,
          2011,
          2011,
          2011,
          2011,
          2011,
          2011,
          2011,
          2011,
          2011,
          2011,
          2011,
          2011,
          2011,
          2011,
          2012,
          2012,
          2012,
          2012,
          2012,
          2012,
          2012,
          2012,
          2012,
          2012,
          2012,
          2012,
          2012,
          2012,
          2012,
          2012,
          2012,
          2012,
          2012,
          2012,
          2012,
          2012,
          2012,
          2012,
          2012,
          2012,
          2012,
          2012,
          2012,
          2012,
          2012,
          2012,
          2012,
          2012,
          2012,
          2013,
          2013,
          2013,
          2013,
          2013,
          2013,
          2013,
          2013,
          2013,
          2013,
          2013,
          2013,
          2013,
          2013,
          2013,
          2013,
          2013,
          2013,
          2013,
          2013,
          2013,
          2013,
          2013,
          2013,
          2013,
          2013,
          2013,
          2013,
          2013,
          2013,
          2013,
          2013,
          2013,
          2013,
          2013,
          2013,
          2013,
          2013,
          2013,
          2013,
          2013,
          2013,
          2013,
          2013,
          2013,
          2013,
          2013,
          2014,
          2014,
          2014,
          2014,
          2014,
          2014,
          2014,
          2014,
          2014,
          2014,
          2014,
          2014,
          2014,
          2014,
          2014,
          2014,
          2014,
          2014,
          2014,
          2014,
          2014,
          2014,
          2014,
          2014,
          2014,
          2014,
          2014,
          2014,
          2014,
          2014,
          2014,
          2014,
          2014,
          2014,
          2014,
          2014,
          2014,
          2014,
          2014,
          2014,
          2014,
          2014,
          2014,
          2014,
          2014,
          2014,
          2014,
          2014,
          2014,
          2014,
          2014,
          2014,
          2014,
          2014,
          2014,
          2014,
          2014,
          2014,
          2014,
          2014,
          2014,
          2014,
          2014,
          2014,
          2014,
          2014,
          2014,
          2014,
          2014,
          2014,
          2014,
          2014,
          2014,
          2014,
          2014,
          2014,
          2014,
          2014,
          2014,
          2015,
          2015,
          2015,
          2015,
          2015,
          2015,
          2015,
          2015,
          2015,
          2015,
          2015,
          2015,
          2015,
          2015,
          2015,
          2015,
          2015,
          2015,
          2015,
          2015,
          2015,
          2015,
          2015,
          2015,
          2015,
          2015,
          2015,
          2015,
          2015,
          2015,
          2015,
          2015,
          2015,
          2015,
          2015,
          2015,
          2015,
          2015,
          2015,
          2015,
          2015,
          2015,
          2015,
          2015,
          2015,
          2015,
          2015,
          2015,
          2015,
          2015,
          2015,
          2015,
          2015,
          2015,
          2015,
          2015,
          2015,
          2015,
          2015,
          2015,
          2015,
          2015,
          2015,
          2015,
          2015,
          2015,
          2015,
          2015,
          2015,
          2015,
          2015,
          2015,
          2015,
          2015,
          2015,
          2015,
          2015,
          2015,
          2015,
          2015,
          2015,
          2015,
          2015,
          2015,
          2015,
          2015,
          2015,
          2015,
          2015,
          2015,
          2015,
          2015,
          2015,
          2015,
          2015,
          2015,
          2015,
          2016,
          2016,
          2016,
          2016,
          2016,
          2016,
          2016,
          2016,
          2016,
          2016,
          2016,
          2016,
          2016,
          2016,
          2016,
          2016,
          2016,
          2016,
          2016,
          2016,
          2016,
          2016,
          2016,
          2016,
          2016,
          2016,
          2016,
          2016,
          2016,
          2016,
          2016,
          2016,
          2016,
          2016,
          2016,
          2016,
          2016,
          2016,
          2016,
          2016,
          2016,
          2016,
          2016,
          2016,
          2016,
          2016,
          2016,
          2016,
          2016,
          2016,
          2016,
          2016,
          2016,
          2016,
          2016,
          2016,
          2016,
          2016,
          2016,
          2016,
          2016,
          2016,
          2016,
          2016,
          2016,
          2016,
          2016,
          2016,
          2016,
          2016,
          2016,
          2016,
          2016,
          2016,
          2017,
          2017,
          2017,
          2017,
          2017,
          2017,
          2017,
          2017,
          2017,
          2017,
          2017,
          2017,
          2017,
          2017,
          2017,
          2017,
          2017,
          2017,
          2017,
          2017,
          2017,
          2017,
          2017,
          2017,
          2017,
          2017,
          2017,
          2017,
          2017,
          2017,
          2017,
          2017,
          2017,
          2017,
          2017,
          2017,
          2017,
          2017,
          2017,
          2017,
          2017,
          2017,
          2017,
          2017,
          2017,
          2017,
          2017,
          2017,
          2017,
          2017,
          2017,
          2017,
          2017,
          2017,
          2017,
          2017,
          2017,
          2017,
          2017,
          2017,
          2017,
          2017,
          2017
         ],
         "yaxis": "y"
        }
       ],
       "layout": {
        "legend": {
         "title": {
          "text": "variable"
         },
         "tracegroupgap": 0
        },
        "margin": {
         "t": 60
        },
        "template": {
         "data": {
          "bar": [
           {
            "error_x": {
             "color": "#2a3f5f"
            },
            "error_y": {
             "color": "#2a3f5f"
            },
            "marker": {
             "line": {
              "color": "#E5ECF6",
              "width": 0.5
             },
             "pattern": {
              "fillmode": "overlay",
              "size": 10,
              "solidity": 0.2
             }
            },
            "type": "bar"
           }
          ],
          "barpolar": [
           {
            "marker": {
             "line": {
              "color": "#E5ECF6",
              "width": 0.5
             },
             "pattern": {
              "fillmode": "overlay",
              "size": 10,
              "solidity": 0.2
             }
            },
            "type": "barpolar"
           }
          ],
          "carpet": [
           {
            "aaxis": {
             "endlinecolor": "#2a3f5f",
             "gridcolor": "white",
             "linecolor": "white",
             "minorgridcolor": "white",
             "startlinecolor": "#2a3f5f"
            },
            "baxis": {
             "endlinecolor": "#2a3f5f",
             "gridcolor": "white",
             "linecolor": "white",
             "minorgridcolor": "white",
             "startlinecolor": "#2a3f5f"
            },
            "type": "carpet"
           }
          ],
          "choropleth": [
           {
            "colorbar": {
             "outlinewidth": 0,
             "ticks": ""
            },
            "type": "choropleth"
           }
          ],
          "contour": [
           {
            "colorbar": {
             "outlinewidth": 0,
             "ticks": ""
            },
            "colorscale": [
             [
              0,
              "#0d0887"
             ],
             [
              0.1111111111111111,
              "#46039f"
             ],
             [
              0.2222222222222222,
              "#7201a8"
             ],
             [
              0.3333333333333333,
              "#9c179e"
             ],
             [
              0.4444444444444444,
              "#bd3786"
             ],
             [
              0.5555555555555556,
              "#d8576b"
             ],
             [
              0.6666666666666666,
              "#ed7953"
             ],
             [
              0.7777777777777778,
              "#fb9f3a"
             ],
             [
              0.8888888888888888,
              "#fdca26"
             ],
             [
              1,
              "#f0f921"
             ]
            ],
            "type": "contour"
           }
          ],
          "contourcarpet": [
           {
            "colorbar": {
             "outlinewidth": 0,
             "ticks": ""
            },
            "type": "contourcarpet"
           }
          ],
          "heatmap": [
           {
            "colorbar": {
             "outlinewidth": 0,
             "ticks": ""
            },
            "colorscale": [
             [
              0,
              "#0d0887"
             ],
             [
              0.1111111111111111,
              "#46039f"
             ],
             [
              0.2222222222222222,
              "#7201a8"
             ],
             [
              0.3333333333333333,
              "#9c179e"
             ],
             [
              0.4444444444444444,
              "#bd3786"
             ],
             [
              0.5555555555555556,
              "#d8576b"
             ],
             [
              0.6666666666666666,
              "#ed7953"
             ],
             [
              0.7777777777777778,
              "#fb9f3a"
             ],
             [
              0.8888888888888888,
              "#fdca26"
             ],
             [
              1,
              "#f0f921"
             ]
            ],
            "type": "heatmap"
           }
          ],
          "heatmapgl": [
           {
            "colorbar": {
             "outlinewidth": 0,
             "ticks": ""
            },
            "colorscale": [
             [
              0,
              "#0d0887"
             ],
             [
              0.1111111111111111,
              "#46039f"
             ],
             [
              0.2222222222222222,
              "#7201a8"
             ],
             [
              0.3333333333333333,
              "#9c179e"
             ],
             [
              0.4444444444444444,
              "#bd3786"
             ],
             [
              0.5555555555555556,
              "#d8576b"
             ],
             [
              0.6666666666666666,
              "#ed7953"
             ],
             [
              0.7777777777777778,
              "#fb9f3a"
             ],
             [
              0.8888888888888888,
              "#fdca26"
             ],
             [
              1,
              "#f0f921"
             ]
            ],
            "type": "heatmapgl"
           }
          ],
          "histogram": [
           {
            "marker": {
             "pattern": {
              "fillmode": "overlay",
              "size": 10,
              "solidity": 0.2
             }
            },
            "type": "histogram"
           }
          ],
          "histogram2d": [
           {
            "colorbar": {
             "outlinewidth": 0,
             "ticks": ""
            },
            "colorscale": [
             [
              0,
              "#0d0887"
             ],
             [
              0.1111111111111111,
              "#46039f"
             ],
             [
              0.2222222222222222,
              "#7201a8"
             ],
             [
              0.3333333333333333,
              "#9c179e"
             ],
             [
              0.4444444444444444,
              "#bd3786"
             ],
             [
              0.5555555555555556,
              "#d8576b"
             ],
             [
              0.6666666666666666,
              "#ed7953"
             ],
             [
              0.7777777777777778,
              "#fb9f3a"
             ],
             [
              0.8888888888888888,
              "#fdca26"
             ],
             [
              1,
              "#f0f921"
             ]
            ],
            "type": "histogram2d"
           }
          ],
          "histogram2dcontour": [
           {
            "colorbar": {
             "outlinewidth": 0,
             "ticks": ""
            },
            "colorscale": [
             [
              0,
              "#0d0887"
             ],
             [
              0.1111111111111111,
              "#46039f"
             ],
             [
              0.2222222222222222,
              "#7201a8"
             ],
             [
              0.3333333333333333,
              "#9c179e"
             ],
             [
              0.4444444444444444,
              "#bd3786"
             ],
             [
              0.5555555555555556,
              "#d8576b"
             ],
             [
              0.6666666666666666,
              "#ed7953"
             ],
             [
              0.7777777777777778,
              "#fb9f3a"
             ],
             [
              0.8888888888888888,
              "#fdca26"
             ],
             [
              1,
              "#f0f921"
             ]
            ],
            "type": "histogram2dcontour"
           }
          ],
          "mesh3d": [
           {
            "colorbar": {
             "outlinewidth": 0,
             "ticks": ""
            },
            "type": "mesh3d"
           }
          ],
          "parcoords": [
           {
            "line": {
             "colorbar": {
              "outlinewidth": 0,
              "ticks": ""
             }
            },
            "type": "parcoords"
           }
          ],
          "pie": [
           {
            "automargin": true,
            "type": "pie"
           }
          ],
          "scatter": [
           {
            "fillpattern": {
             "fillmode": "overlay",
             "size": 10,
             "solidity": 0.2
            },
            "type": "scatter"
           }
          ],
          "scatter3d": [
           {
            "line": {
             "colorbar": {
              "outlinewidth": 0,
              "ticks": ""
             }
            },
            "marker": {
             "colorbar": {
              "outlinewidth": 0,
              "ticks": ""
             }
            },
            "type": "scatter3d"
           }
          ],
          "scattercarpet": [
           {
            "marker": {
             "colorbar": {
              "outlinewidth": 0,
              "ticks": ""
             }
            },
            "type": "scattercarpet"
           }
          ],
          "scattergeo": [
           {
            "marker": {
             "colorbar": {
              "outlinewidth": 0,
              "ticks": ""
             }
            },
            "type": "scattergeo"
           }
          ],
          "scattergl": [
           {
            "marker": {
             "colorbar": {
              "outlinewidth": 0,
              "ticks": ""
             }
            },
            "type": "scattergl"
           }
          ],
          "scattermapbox": [
           {
            "marker": {
             "colorbar": {
              "outlinewidth": 0,
              "ticks": ""
             }
            },
            "type": "scattermapbox"
           }
          ],
          "scatterpolar": [
           {
            "marker": {
             "colorbar": {
              "outlinewidth": 0,
              "ticks": ""
             }
            },
            "type": "scatterpolar"
           }
          ],
          "scatterpolargl": [
           {
            "marker": {
             "colorbar": {
              "outlinewidth": 0,
              "ticks": ""
             }
            },
            "type": "scatterpolargl"
           }
          ],
          "scatterternary": [
           {
            "marker": {
             "colorbar": {
              "outlinewidth": 0,
              "ticks": ""
             }
            },
            "type": "scatterternary"
           }
          ],
          "surface": [
           {
            "colorbar": {
             "outlinewidth": 0,
             "ticks": ""
            },
            "colorscale": [
             [
              0,
              "#0d0887"
             ],
             [
              0.1111111111111111,
              "#46039f"
             ],
             [
              0.2222222222222222,
              "#7201a8"
             ],
             [
              0.3333333333333333,
              "#9c179e"
             ],
             [
              0.4444444444444444,
              "#bd3786"
             ],
             [
              0.5555555555555556,
              "#d8576b"
             ],
             [
              0.6666666666666666,
              "#ed7953"
             ],
             [
              0.7777777777777778,
              "#fb9f3a"
             ],
             [
              0.8888888888888888,
              "#fdca26"
             ],
             [
              1,
              "#f0f921"
             ]
            ],
            "type": "surface"
           }
          ],
          "table": [
           {
            "cells": {
             "fill": {
              "color": "#EBF0F8"
             },
             "line": {
              "color": "white"
             }
            },
            "header": {
             "fill": {
              "color": "#C8D4E3"
             },
             "line": {
              "color": "white"
             }
            },
            "type": "table"
           }
          ]
         },
         "layout": {
          "annotationdefaults": {
           "arrowcolor": "#2a3f5f",
           "arrowhead": 0,
           "arrowwidth": 1
          },
          "autotypenumbers": "strict",
          "coloraxis": {
           "colorbar": {
            "outlinewidth": 0,
            "ticks": ""
           }
          },
          "colorscale": {
           "diverging": [
            [
             0,
             "#8e0152"
            ],
            [
             0.1,
             "#c51b7d"
            ],
            [
             0.2,
             "#de77ae"
            ],
            [
             0.3,
             "#f1b6da"
            ],
            [
             0.4,
             "#fde0ef"
            ],
            [
             0.5,
             "#f7f7f7"
            ],
            [
             0.6,
             "#e6f5d0"
            ],
            [
             0.7,
             "#b8e186"
            ],
            [
             0.8,
             "#7fbc41"
            ],
            [
             0.9,
             "#4d9221"
            ],
            [
             1,
             "#276419"
            ]
           ],
           "sequential": [
            [
             0,
             "#0d0887"
            ],
            [
             0.1111111111111111,
             "#46039f"
            ],
            [
             0.2222222222222222,
             "#7201a8"
            ],
            [
             0.3333333333333333,
             "#9c179e"
            ],
            [
             0.4444444444444444,
             "#bd3786"
            ],
            [
             0.5555555555555556,
             "#d8576b"
            ],
            [
             0.6666666666666666,
             "#ed7953"
            ],
            [
             0.7777777777777778,
             "#fb9f3a"
            ],
            [
             0.8888888888888888,
             "#fdca26"
            ],
            [
             1,
             "#f0f921"
            ]
           ],
           "sequentialminus": [
            [
             0,
             "#0d0887"
            ],
            [
             0.1111111111111111,
             "#46039f"
            ],
            [
             0.2222222222222222,
             "#7201a8"
            ],
            [
             0.3333333333333333,
             "#9c179e"
            ],
            [
             0.4444444444444444,
             "#bd3786"
            ],
            [
             0.5555555555555556,
             "#d8576b"
            ],
            [
             0.6666666666666666,
             "#ed7953"
            ],
            [
             0.7777777777777778,
             "#fb9f3a"
            ],
            [
             0.8888888888888888,
             "#fdca26"
            ],
            [
             1,
             "#f0f921"
            ]
           ]
          },
          "colorway": [
           "#636efa",
           "#EF553B",
           "#00cc96",
           "#ab63fa",
           "#FFA15A",
           "#19d3f3",
           "#FF6692",
           "#B6E880",
           "#FF97FF",
           "#FECB52"
          ],
          "font": {
           "color": "#2a3f5f"
          },
          "geo": {
           "bgcolor": "white",
           "lakecolor": "white",
           "landcolor": "#E5ECF6",
           "showlakes": true,
           "showland": true,
           "subunitcolor": "white"
          },
          "hoverlabel": {
           "align": "left"
          },
          "hovermode": "closest",
          "mapbox": {
           "style": "light"
          },
          "paper_bgcolor": "white",
          "plot_bgcolor": "#E5ECF6",
          "polar": {
           "angularaxis": {
            "gridcolor": "white",
            "linecolor": "white",
            "ticks": ""
           },
           "bgcolor": "#E5ECF6",
           "radialaxis": {
            "gridcolor": "white",
            "linecolor": "white",
            "ticks": ""
           }
          },
          "scene": {
           "xaxis": {
            "backgroundcolor": "#E5ECF6",
            "gridcolor": "white",
            "gridwidth": 2,
            "linecolor": "white",
            "showbackground": true,
            "ticks": "",
            "zerolinecolor": "white"
           },
           "yaxis": {
            "backgroundcolor": "#E5ECF6",
            "gridcolor": "white",
            "gridwidth": 2,
            "linecolor": "white",
            "showbackground": true,
            "ticks": "",
            "zerolinecolor": "white"
           },
           "zaxis": {
            "backgroundcolor": "#E5ECF6",
            "gridcolor": "white",
            "gridwidth": 2,
            "linecolor": "white",
            "showbackground": true,
            "ticks": "",
            "zerolinecolor": "white"
           }
          },
          "shapedefaults": {
           "line": {
            "color": "#2a3f5f"
           }
          },
          "ternary": {
           "aaxis": {
            "gridcolor": "white",
            "linecolor": "white",
            "ticks": ""
           },
           "baxis": {
            "gridcolor": "white",
            "linecolor": "white",
            "ticks": ""
           },
           "bgcolor": "#E5ECF6",
           "caxis": {
            "gridcolor": "white",
            "linecolor": "white",
            "ticks": ""
           }
          },
          "title": {
           "x": 0.05
          },
          "xaxis": {
           "automargin": true,
           "gridcolor": "white",
           "linecolor": "white",
           "ticks": "",
           "title": {
            "standoff": 15
           },
           "zerolinecolor": "white",
           "zerolinewidth": 2
          },
          "yaxis": {
           "automargin": true,
           "gridcolor": "white",
           "linecolor": "white",
           "ticks": "",
           "title": {
            "standoff": 15
           },
           "zerolinecolor": "white",
           "zerolinewidth": 2
          }
         }
        },
        "xaxis": {
         "anchor": "y",
         "domain": [
          0,
          1
         ],
         "title": {
          "text": "index"
         }
        },
        "yaxis": {
         "anchor": "x",
         "domain": [
          0,
          1
         ],
         "title": {
          "text": "value"
         }
        }
       }
      }
     },
     "metadata": {},
     "output_type": "display_data"
    }
   ],
   "source": [
    "psdf['iyear'].plot.line()"
   ]
  },
  {
   "cell_type": "code",
   "execution_count": 18,
   "metadata": {},
   "outputs": [
    {
     "data": {
      "application/vnd.plotly.v1+json": {
       "config": {
        "plotlyServerURL": "https://plot.ly"
       },
       "data": [
        {
         "alignmentgroup": "True",
         "hovertemplate": "variable=country_txt<br>index=%{x}<br>value=%{y}<extra></extra>",
         "legendgroup": "country_txt",
         "marker": {
          "color": "#636efa",
          "pattern": {
           "shape": ""
          }
         },
         "name": "country_txt",
         "offsetgroup": "country_txt",
         "orientation": "v",
         "showlegend": true,
         "textposition": "auto",
         "type": "bar",
         "x": [
          "Iraq",
          "Pakistan",
          "Afghanistan",
          "India",
          "Colombia",
          "Philippines",
          "Peru",
          "El Salvador",
          "United Kingdom",
          "Turkey",
          "Somalia",
          "Nigeria",
          "Thailand",
          "Yemen",
          "Spain",
          "Sri Lanka",
          "United States",
          "Algeria",
          "France",
          "Egypt",
          "Lebanon",
          "Chile",
          "Libya",
          "West Bank and Gaza Strip",
          "Syria"
         ],
         "xaxis": "x",
         "y": [
          24636,
          14368,
          12731,
          11960,
          8306,
          6908,
          6096,
          5320,
          5235,
          4292,
          4142,
          3907,
          3849,
          3347,
          3249,
          3022,
          2836,
          2743,
          2693,
          2479,
          2478,
          2365,
          2249,
          2227,
          2201
         ],
         "yaxis": "y"
        }
       ],
       "layout": {
        "barmode": "relative",
        "legend": {
         "title": {
          "text": "variable"
         },
         "tracegroupgap": 0
        },
        "margin": {
         "t": 60
        },
        "template": {
         "data": {
          "bar": [
           {
            "error_x": {
             "color": "#2a3f5f"
            },
            "error_y": {
             "color": "#2a3f5f"
            },
            "marker": {
             "line": {
              "color": "#E5ECF6",
              "width": 0.5
             },
             "pattern": {
              "fillmode": "overlay",
              "size": 10,
              "solidity": 0.2
             }
            },
            "type": "bar"
           }
          ],
          "barpolar": [
           {
            "marker": {
             "line": {
              "color": "#E5ECF6",
              "width": 0.5
             },
             "pattern": {
              "fillmode": "overlay",
              "size": 10,
              "solidity": 0.2
             }
            },
            "type": "barpolar"
           }
          ],
          "carpet": [
           {
            "aaxis": {
             "endlinecolor": "#2a3f5f",
             "gridcolor": "white",
             "linecolor": "white",
             "minorgridcolor": "white",
             "startlinecolor": "#2a3f5f"
            },
            "baxis": {
             "endlinecolor": "#2a3f5f",
             "gridcolor": "white",
             "linecolor": "white",
             "minorgridcolor": "white",
             "startlinecolor": "#2a3f5f"
            },
            "type": "carpet"
           }
          ],
          "choropleth": [
           {
            "colorbar": {
             "outlinewidth": 0,
             "ticks": ""
            },
            "type": "choropleth"
           }
          ],
          "contour": [
           {
            "colorbar": {
             "outlinewidth": 0,
             "ticks": ""
            },
            "colorscale": [
             [
              0,
              "#0d0887"
             ],
             [
              0.1111111111111111,
              "#46039f"
             ],
             [
              0.2222222222222222,
              "#7201a8"
             ],
             [
              0.3333333333333333,
              "#9c179e"
             ],
             [
              0.4444444444444444,
              "#bd3786"
             ],
             [
              0.5555555555555556,
              "#d8576b"
             ],
             [
              0.6666666666666666,
              "#ed7953"
             ],
             [
              0.7777777777777778,
              "#fb9f3a"
             ],
             [
              0.8888888888888888,
              "#fdca26"
             ],
             [
              1,
              "#f0f921"
             ]
            ],
            "type": "contour"
           }
          ],
          "contourcarpet": [
           {
            "colorbar": {
             "outlinewidth": 0,
             "ticks": ""
            },
            "type": "contourcarpet"
           }
          ],
          "heatmap": [
           {
            "colorbar": {
             "outlinewidth": 0,
             "ticks": ""
            },
            "colorscale": [
             [
              0,
              "#0d0887"
             ],
             [
              0.1111111111111111,
              "#46039f"
             ],
             [
              0.2222222222222222,
              "#7201a8"
             ],
             [
              0.3333333333333333,
              "#9c179e"
             ],
             [
              0.4444444444444444,
              "#bd3786"
             ],
             [
              0.5555555555555556,
              "#d8576b"
             ],
             [
              0.6666666666666666,
              "#ed7953"
             ],
             [
              0.7777777777777778,
              "#fb9f3a"
             ],
             [
              0.8888888888888888,
              "#fdca26"
             ],
             [
              1,
              "#f0f921"
             ]
            ],
            "type": "heatmap"
           }
          ],
          "heatmapgl": [
           {
            "colorbar": {
             "outlinewidth": 0,
             "ticks": ""
            },
            "colorscale": [
             [
              0,
              "#0d0887"
             ],
             [
              0.1111111111111111,
              "#46039f"
             ],
             [
              0.2222222222222222,
              "#7201a8"
             ],
             [
              0.3333333333333333,
              "#9c179e"
             ],
             [
              0.4444444444444444,
              "#bd3786"
             ],
             [
              0.5555555555555556,
              "#d8576b"
             ],
             [
              0.6666666666666666,
              "#ed7953"
             ],
             [
              0.7777777777777778,
              "#fb9f3a"
             ],
             [
              0.8888888888888888,
              "#fdca26"
             ],
             [
              1,
              "#f0f921"
             ]
            ],
            "type": "heatmapgl"
           }
          ],
          "histogram": [
           {
            "marker": {
             "pattern": {
              "fillmode": "overlay",
              "size": 10,
              "solidity": 0.2
             }
            },
            "type": "histogram"
           }
          ],
          "histogram2d": [
           {
            "colorbar": {
             "outlinewidth": 0,
             "ticks": ""
            },
            "colorscale": [
             [
              0,
              "#0d0887"
             ],
             [
              0.1111111111111111,
              "#46039f"
             ],
             [
              0.2222222222222222,
              "#7201a8"
             ],
             [
              0.3333333333333333,
              "#9c179e"
             ],
             [
              0.4444444444444444,
              "#bd3786"
             ],
             [
              0.5555555555555556,
              "#d8576b"
             ],
             [
              0.6666666666666666,
              "#ed7953"
             ],
             [
              0.7777777777777778,
              "#fb9f3a"
             ],
             [
              0.8888888888888888,
              "#fdca26"
             ],
             [
              1,
              "#f0f921"
             ]
            ],
            "type": "histogram2d"
           }
          ],
          "histogram2dcontour": [
           {
            "colorbar": {
             "outlinewidth": 0,
             "ticks": ""
            },
            "colorscale": [
             [
              0,
              "#0d0887"
             ],
             [
              0.1111111111111111,
              "#46039f"
             ],
             [
              0.2222222222222222,
              "#7201a8"
             ],
             [
              0.3333333333333333,
              "#9c179e"
             ],
             [
              0.4444444444444444,
              "#bd3786"
             ],
             [
              0.5555555555555556,
              "#d8576b"
             ],
             [
              0.6666666666666666,
              "#ed7953"
             ],
             [
              0.7777777777777778,
              "#fb9f3a"
             ],
             [
              0.8888888888888888,
              "#fdca26"
             ],
             [
              1,
              "#f0f921"
             ]
            ],
            "type": "histogram2dcontour"
           }
          ],
          "mesh3d": [
           {
            "colorbar": {
             "outlinewidth": 0,
             "ticks": ""
            },
            "type": "mesh3d"
           }
          ],
          "parcoords": [
           {
            "line": {
             "colorbar": {
              "outlinewidth": 0,
              "ticks": ""
             }
            },
            "type": "parcoords"
           }
          ],
          "pie": [
           {
            "automargin": true,
            "type": "pie"
           }
          ],
          "scatter": [
           {
            "fillpattern": {
             "fillmode": "overlay",
             "size": 10,
             "solidity": 0.2
            },
            "type": "scatter"
           }
          ],
          "scatter3d": [
           {
            "line": {
             "colorbar": {
              "outlinewidth": 0,
              "ticks": ""
             }
            },
            "marker": {
             "colorbar": {
              "outlinewidth": 0,
              "ticks": ""
             }
            },
            "type": "scatter3d"
           }
          ],
          "scattercarpet": [
           {
            "marker": {
             "colorbar": {
              "outlinewidth": 0,
              "ticks": ""
             }
            },
            "type": "scattercarpet"
           }
          ],
          "scattergeo": [
           {
            "marker": {
             "colorbar": {
              "outlinewidth": 0,
              "ticks": ""
             }
            },
            "type": "scattergeo"
           }
          ],
          "scattergl": [
           {
            "marker": {
             "colorbar": {
              "outlinewidth": 0,
              "ticks": ""
             }
            },
            "type": "scattergl"
           }
          ],
          "scattermapbox": [
           {
            "marker": {
             "colorbar": {
              "outlinewidth": 0,
              "ticks": ""
             }
            },
            "type": "scattermapbox"
           }
          ],
          "scatterpolar": [
           {
            "marker": {
             "colorbar": {
              "outlinewidth": 0,
              "ticks": ""
             }
            },
            "type": "scatterpolar"
           }
          ],
          "scatterpolargl": [
           {
            "marker": {
             "colorbar": {
              "outlinewidth": 0,
              "ticks": ""
             }
            },
            "type": "scatterpolargl"
           }
          ],
          "scatterternary": [
           {
            "marker": {
             "colorbar": {
              "outlinewidth": 0,
              "ticks": ""
             }
            },
            "type": "scatterternary"
           }
          ],
          "surface": [
           {
            "colorbar": {
             "outlinewidth": 0,
             "ticks": ""
            },
            "colorscale": [
             [
              0,
              "#0d0887"
             ],
             [
              0.1111111111111111,
              "#46039f"
             ],
             [
              0.2222222222222222,
              "#7201a8"
             ],
             [
              0.3333333333333333,
              "#9c179e"
             ],
             [
              0.4444444444444444,
              "#bd3786"
             ],
             [
              0.5555555555555556,
              "#d8576b"
             ],
             [
              0.6666666666666666,
              "#ed7953"
             ],
             [
              0.7777777777777778,
              "#fb9f3a"
             ],
             [
              0.8888888888888888,
              "#fdca26"
             ],
             [
              1,
              "#f0f921"
             ]
            ],
            "type": "surface"
           }
          ],
          "table": [
           {
            "cells": {
             "fill": {
              "color": "#EBF0F8"
             },
             "line": {
              "color": "white"
             }
            },
            "header": {
             "fill": {
              "color": "#C8D4E3"
             },
             "line": {
              "color": "white"
             }
            },
            "type": "table"
           }
          ]
         },
         "layout": {
          "annotationdefaults": {
           "arrowcolor": "#2a3f5f",
           "arrowhead": 0,
           "arrowwidth": 1
          },
          "autotypenumbers": "strict",
          "coloraxis": {
           "colorbar": {
            "outlinewidth": 0,
            "ticks": ""
           }
          },
          "colorscale": {
           "diverging": [
            [
             0,
             "#8e0152"
            ],
            [
             0.1,
             "#c51b7d"
            ],
            [
             0.2,
             "#de77ae"
            ],
            [
             0.3,
             "#f1b6da"
            ],
            [
             0.4,
             "#fde0ef"
            ],
            [
             0.5,
             "#f7f7f7"
            ],
            [
             0.6,
             "#e6f5d0"
            ],
            [
             0.7,
             "#b8e186"
            ],
            [
             0.8,
             "#7fbc41"
            ],
            [
             0.9,
             "#4d9221"
            ],
            [
             1,
             "#276419"
            ]
           ],
           "sequential": [
            [
             0,
             "#0d0887"
            ],
            [
             0.1111111111111111,
             "#46039f"
            ],
            [
             0.2222222222222222,
             "#7201a8"
            ],
            [
             0.3333333333333333,
             "#9c179e"
            ],
            [
             0.4444444444444444,
             "#bd3786"
            ],
            [
             0.5555555555555556,
             "#d8576b"
            ],
            [
             0.6666666666666666,
             "#ed7953"
            ],
            [
             0.7777777777777778,
             "#fb9f3a"
            ],
            [
             0.8888888888888888,
             "#fdca26"
            ],
            [
             1,
             "#f0f921"
            ]
           ],
           "sequentialminus": [
            [
             0,
             "#0d0887"
            ],
            [
             0.1111111111111111,
             "#46039f"
            ],
            [
             0.2222222222222222,
             "#7201a8"
            ],
            [
             0.3333333333333333,
             "#9c179e"
            ],
            [
             0.4444444444444444,
             "#bd3786"
            ],
            [
             0.5555555555555556,
             "#d8576b"
            ],
            [
             0.6666666666666666,
             "#ed7953"
            ],
            [
             0.7777777777777778,
             "#fb9f3a"
            ],
            [
             0.8888888888888888,
             "#fdca26"
            ],
            [
             1,
             "#f0f921"
            ]
           ]
          },
          "colorway": [
           "#636efa",
           "#EF553B",
           "#00cc96",
           "#ab63fa",
           "#FFA15A",
           "#19d3f3",
           "#FF6692",
           "#B6E880",
           "#FF97FF",
           "#FECB52"
          ],
          "font": {
           "color": "#2a3f5f"
          },
          "geo": {
           "bgcolor": "white",
           "lakecolor": "white",
           "landcolor": "#E5ECF6",
           "showlakes": true,
           "showland": true,
           "subunitcolor": "white"
          },
          "hoverlabel": {
           "align": "left"
          },
          "hovermode": "closest",
          "mapbox": {
           "style": "light"
          },
          "paper_bgcolor": "white",
          "plot_bgcolor": "#E5ECF6",
          "polar": {
           "angularaxis": {
            "gridcolor": "white",
            "linecolor": "white",
            "ticks": ""
           },
           "bgcolor": "#E5ECF6",
           "radialaxis": {
            "gridcolor": "white",
            "linecolor": "white",
            "ticks": ""
           }
          },
          "scene": {
           "xaxis": {
            "backgroundcolor": "#E5ECF6",
            "gridcolor": "white",
            "gridwidth": 2,
            "linecolor": "white",
            "showbackground": true,
            "ticks": "",
            "zerolinecolor": "white"
           },
           "yaxis": {
            "backgroundcolor": "#E5ECF6",
            "gridcolor": "white",
            "gridwidth": 2,
            "linecolor": "white",
            "showbackground": true,
            "ticks": "",
            "zerolinecolor": "white"
           },
           "zaxis": {
            "backgroundcolor": "#E5ECF6",
            "gridcolor": "white",
            "gridwidth": 2,
            "linecolor": "white",
            "showbackground": true,
            "ticks": "",
            "zerolinecolor": "white"
           }
          },
          "shapedefaults": {
           "line": {
            "color": "#2a3f5f"
           }
          },
          "ternary": {
           "aaxis": {
            "gridcolor": "white",
            "linecolor": "white",
            "ticks": ""
           },
           "baxis": {
            "gridcolor": "white",
            "linecolor": "white",
            "ticks": ""
           },
           "bgcolor": "#E5ECF6",
           "caxis": {
            "gridcolor": "white",
            "linecolor": "white",
            "ticks": ""
           }
          },
          "title": {
           "x": 0.05
          },
          "xaxis": {
           "automargin": true,
           "gridcolor": "white",
           "linecolor": "white",
           "ticks": "",
           "title": {
            "standoff": 15
           },
           "zerolinecolor": "white",
           "zerolinewidth": 2
          },
          "yaxis": {
           "automargin": true,
           "gridcolor": "white",
           "linecolor": "white",
           "ticks": "",
           "title": {
            "standoff": 15
           },
           "zerolinecolor": "white",
           "zerolinewidth": 2
          }
         }
        },
        "xaxis": {
         "anchor": "y",
         "domain": [
          0,
          1
         ],
         "title": {
          "text": "index"
         }
        },
        "yaxis": {
         "anchor": "x",
         "domain": [
          0,
          1
         ],
         "title": {
          "text": "value"
         }
        }
       }
      }
     },
     "metadata": {},
     "output_type": "display_data"
    }
   ],
   "source": [
    "# Grafico de frecuencias con matplotlib\n",
    "colors = plt.cm.rainbow(np.linspace(0, 1, 25))\n",
    "Country = psdf['country_txt'].value_counts()\n",
    "Country[:25].plot.bar()"
   ]
  },
  {
   "cell_type": "code",
   "execution_count": 19,
   "metadata": {},
   "outputs": [
    {
     "data": {
      "application/vnd.plotly.v1+json": {
       "config": {
        "plotlyServerURL": "https://plot.ly"
       },
       "data": [
        {
         "alignmentgroup": "True",
         "hovertemplate": "variable=region_txt<br>index=%{x}<br>value=%{y}<extra></extra>",
         "legendgroup": "region_txt",
         "marker": {
          "color": "#636efa",
          "pattern": {
           "shape": ""
          }
         },
         "name": "region_txt",
         "offsetgroup": "region_txt",
         "orientation": "v",
         "showlegend": true,
         "textposition": "auto",
         "type": "bar",
         "x": [
          "Middle East & North Africa",
          "South Asia",
          "South America",
          "Sub-Saharan Africa",
          "Western Europe",
          "Southeast Asia",
          "Central America & Caribbean",
          "Eastern Europe",
          "North America",
          "East Asia",
          "Central Asia",
          "Australasia & Oceania"
         ],
         "xaxis": "x",
         "y": [
          50474,
          44974,
          18978,
          17550,
          16639,
          12485,
          10344,
          5144,
          3456,
          802,
          563,
          282
         ],
         "yaxis": "y"
        }
       ],
       "layout": {
        "barmode": "relative",
        "legend": {
         "title": {
          "text": "variable"
         },
         "tracegroupgap": 0
        },
        "margin": {
         "t": 60
        },
        "template": {
         "data": {
          "bar": [
           {
            "error_x": {
             "color": "#2a3f5f"
            },
            "error_y": {
             "color": "#2a3f5f"
            },
            "marker": {
             "line": {
              "color": "#E5ECF6",
              "width": 0.5
             },
             "pattern": {
              "fillmode": "overlay",
              "size": 10,
              "solidity": 0.2
             }
            },
            "type": "bar"
           }
          ],
          "barpolar": [
           {
            "marker": {
             "line": {
              "color": "#E5ECF6",
              "width": 0.5
             },
             "pattern": {
              "fillmode": "overlay",
              "size": 10,
              "solidity": 0.2
             }
            },
            "type": "barpolar"
           }
          ],
          "carpet": [
           {
            "aaxis": {
             "endlinecolor": "#2a3f5f",
             "gridcolor": "white",
             "linecolor": "white",
             "minorgridcolor": "white",
             "startlinecolor": "#2a3f5f"
            },
            "baxis": {
             "endlinecolor": "#2a3f5f",
             "gridcolor": "white",
             "linecolor": "white",
             "minorgridcolor": "white",
             "startlinecolor": "#2a3f5f"
            },
            "type": "carpet"
           }
          ],
          "choropleth": [
           {
            "colorbar": {
             "outlinewidth": 0,
             "ticks": ""
            },
            "type": "choropleth"
           }
          ],
          "contour": [
           {
            "colorbar": {
             "outlinewidth": 0,
             "ticks": ""
            },
            "colorscale": [
             [
              0,
              "#0d0887"
             ],
             [
              0.1111111111111111,
              "#46039f"
             ],
             [
              0.2222222222222222,
              "#7201a8"
             ],
             [
              0.3333333333333333,
              "#9c179e"
             ],
             [
              0.4444444444444444,
              "#bd3786"
             ],
             [
              0.5555555555555556,
              "#d8576b"
             ],
             [
              0.6666666666666666,
              "#ed7953"
             ],
             [
              0.7777777777777778,
              "#fb9f3a"
             ],
             [
              0.8888888888888888,
              "#fdca26"
             ],
             [
              1,
              "#f0f921"
             ]
            ],
            "type": "contour"
           }
          ],
          "contourcarpet": [
           {
            "colorbar": {
             "outlinewidth": 0,
             "ticks": ""
            },
            "type": "contourcarpet"
           }
          ],
          "heatmap": [
           {
            "colorbar": {
             "outlinewidth": 0,
             "ticks": ""
            },
            "colorscale": [
             [
              0,
              "#0d0887"
             ],
             [
              0.1111111111111111,
              "#46039f"
             ],
             [
              0.2222222222222222,
              "#7201a8"
             ],
             [
              0.3333333333333333,
              "#9c179e"
             ],
             [
              0.4444444444444444,
              "#bd3786"
             ],
             [
              0.5555555555555556,
              "#d8576b"
             ],
             [
              0.6666666666666666,
              "#ed7953"
             ],
             [
              0.7777777777777778,
              "#fb9f3a"
             ],
             [
              0.8888888888888888,
              "#fdca26"
             ],
             [
              1,
              "#f0f921"
             ]
            ],
            "type": "heatmap"
           }
          ],
          "heatmapgl": [
           {
            "colorbar": {
             "outlinewidth": 0,
             "ticks": ""
            },
            "colorscale": [
             [
              0,
              "#0d0887"
             ],
             [
              0.1111111111111111,
              "#46039f"
             ],
             [
              0.2222222222222222,
              "#7201a8"
             ],
             [
              0.3333333333333333,
              "#9c179e"
             ],
             [
              0.4444444444444444,
              "#bd3786"
             ],
             [
              0.5555555555555556,
              "#d8576b"
             ],
             [
              0.6666666666666666,
              "#ed7953"
             ],
             [
              0.7777777777777778,
              "#fb9f3a"
             ],
             [
              0.8888888888888888,
              "#fdca26"
             ],
             [
              1,
              "#f0f921"
             ]
            ],
            "type": "heatmapgl"
           }
          ],
          "histogram": [
           {
            "marker": {
             "pattern": {
              "fillmode": "overlay",
              "size": 10,
              "solidity": 0.2
             }
            },
            "type": "histogram"
           }
          ],
          "histogram2d": [
           {
            "colorbar": {
             "outlinewidth": 0,
             "ticks": ""
            },
            "colorscale": [
             [
              0,
              "#0d0887"
             ],
             [
              0.1111111111111111,
              "#46039f"
             ],
             [
              0.2222222222222222,
              "#7201a8"
             ],
             [
              0.3333333333333333,
              "#9c179e"
             ],
             [
              0.4444444444444444,
              "#bd3786"
             ],
             [
              0.5555555555555556,
              "#d8576b"
             ],
             [
              0.6666666666666666,
              "#ed7953"
             ],
             [
              0.7777777777777778,
              "#fb9f3a"
             ],
             [
              0.8888888888888888,
              "#fdca26"
             ],
             [
              1,
              "#f0f921"
             ]
            ],
            "type": "histogram2d"
           }
          ],
          "histogram2dcontour": [
           {
            "colorbar": {
             "outlinewidth": 0,
             "ticks": ""
            },
            "colorscale": [
             [
              0,
              "#0d0887"
             ],
             [
              0.1111111111111111,
              "#46039f"
             ],
             [
              0.2222222222222222,
              "#7201a8"
             ],
             [
              0.3333333333333333,
              "#9c179e"
             ],
             [
              0.4444444444444444,
              "#bd3786"
             ],
             [
              0.5555555555555556,
              "#d8576b"
             ],
             [
              0.6666666666666666,
              "#ed7953"
             ],
             [
              0.7777777777777778,
              "#fb9f3a"
             ],
             [
              0.8888888888888888,
              "#fdca26"
             ],
             [
              1,
              "#f0f921"
             ]
            ],
            "type": "histogram2dcontour"
           }
          ],
          "mesh3d": [
           {
            "colorbar": {
             "outlinewidth": 0,
             "ticks": ""
            },
            "type": "mesh3d"
           }
          ],
          "parcoords": [
           {
            "line": {
             "colorbar": {
              "outlinewidth": 0,
              "ticks": ""
             }
            },
            "type": "parcoords"
           }
          ],
          "pie": [
           {
            "automargin": true,
            "type": "pie"
           }
          ],
          "scatter": [
           {
            "fillpattern": {
             "fillmode": "overlay",
             "size": 10,
             "solidity": 0.2
            },
            "type": "scatter"
           }
          ],
          "scatter3d": [
           {
            "line": {
             "colorbar": {
              "outlinewidth": 0,
              "ticks": ""
             }
            },
            "marker": {
             "colorbar": {
              "outlinewidth": 0,
              "ticks": ""
             }
            },
            "type": "scatter3d"
           }
          ],
          "scattercarpet": [
           {
            "marker": {
             "colorbar": {
              "outlinewidth": 0,
              "ticks": ""
             }
            },
            "type": "scattercarpet"
           }
          ],
          "scattergeo": [
           {
            "marker": {
             "colorbar": {
              "outlinewidth": 0,
              "ticks": ""
             }
            },
            "type": "scattergeo"
           }
          ],
          "scattergl": [
           {
            "marker": {
             "colorbar": {
              "outlinewidth": 0,
              "ticks": ""
             }
            },
            "type": "scattergl"
           }
          ],
          "scattermapbox": [
           {
            "marker": {
             "colorbar": {
              "outlinewidth": 0,
              "ticks": ""
             }
            },
            "type": "scattermapbox"
           }
          ],
          "scatterpolar": [
           {
            "marker": {
             "colorbar": {
              "outlinewidth": 0,
              "ticks": ""
             }
            },
            "type": "scatterpolar"
           }
          ],
          "scatterpolargl": [
           {
            "marker": {
             "colorbar": {
              "outlinewidth": 0,
              "ticks": ""
             }
            },
            "type": "scatterpolargl"
           }
          ],
          "scatterternary": [
           {
            "marker": {
             "colorbar": {
              "outlinewidth": 0,
              "ticks": ""
             }
            },
            "type": "scatterternary"
           }
          ],
          "surface": [
           {
            "colorbar": {
             "outlinewidth": 0,
             "ticks": ""
            },
            "colorscale": [
             [
              0,
              "#0d0887"
             ],
             [
              0.1111111111111111,
              "#46039f"
             ],
             [
              0.2222222222222222,
              "#7201a8"
             ],
             [
              0.3333333333333333,
              "#9c179e"
             ],
             [
              0.4444444444444444,
              "#bd3786"
             ],
             [
              0.5555555555555556,
              "#d8576b"
             ],
             [
              0.6666666666666666,
              "#ed7953"
             ],
             [
              0.7777777777777778,
              "#fb9f3a"
             ],
             [
              0.8888888888888888,
              "#fdca26"
             ],
             [
              1,
              "#f0f921"
             ]
            ],
            "type": "surface"
           }
          ],
          "table": [
           {
            "cells": {
             "fill": {
              "color": "#EBF0F8"
             },
             "line": {
              "color": "white"
             }
            },
            "header": {
             "fill": {
              "color": "#C8D4E3"
             },
             "line": {
              "color": "white"
             }
            },
            "type": "table"
           }
          ]
         },
         "layout": {
          "annotationdefaults": {
           "arrowcolor": "#2a3f5f",
           "arrowhead": 0,
           "arrowwidth": 1
          },
          "autotypenumbers": "strict",
          "coloraxis": {
           "colorbar": {
            "outlinewidth": 0,
            "ticks": ""
           }
          },
          "colorscale": {
           "diverging": [
            [
             0,
             "#8e0152"
            ],
            [
             0.1,
             "#c51b7d"
            ],
            [
             0.2,
             "#de77ae"
            ],
            [
             0.3,
             "#f1b6da"
            ],
            [
             0.4,
             "#fde0ef"
            ],
            [
             0.5,
             "#f7f7f7"
            ],
            [
             0.6,
             "#e6f5d0"
            ],
            [
             0.7,
             "#b8e186"
            ],
            [
             0.8,
             "#7fbc41"
            ],
            [
             0.9,
             "#4d9221"
            ],
            [
             1,
             "#276419"
            ]
           ],
           "sequential": [
            [
             0,
             "#0d0887"
            ],
            [
             0.1111111111111111,
             "#46039f"
            ],
            [
             0.2222222222222222,
             "#7201a8"
            ],
            [
             0.3333333333333333,
             "#9c179e"
            ],
            [
             0.4444444444444444,
             "#bd3786"
            ],
            [
             0.5555555555555556,
             "#d8576b"
            ],
            [
             0.6666666666666666,
             "#ed7953"
            ],
            [
             0.7777777777777778,
             "#fb9f3a"
            ],
            [
             0.8888888888888888,
             "#fdca26"
            ],
            [
             1,
             "#f0f921"
            ]
           ],
           "sequentialminus": [
            [
             0,
             "#0d0887"
            ],
            [
             0.1111111111111111,
             "#46039f"
            ],
            [
             0.2222222222222222,
             "#7201a8"
            ],
            [
             0.3333333333333333,
             "#9c179e"
            ],
            [
             0.4444444444444444,
             "#bd3786"
            ],
            [
             0.5555555555555556,
             "#d8576b"
            ],
            [
             0.6666666666666666,
             "#ed7953"
            ],
            [
             0.7777777777777778,
             "#fb9f3a"
            ],
            [
             0.8888888888888888,
             "#fdca26"
            ],
            [
             1,
             "#f0f921"
            ]
           ]
          },
          "colorway": [
           "#636efa",
           "#EF553B",
           "#00cc96",
           "#ab63fa",
           "#FFA15A",
           "#19d3f3",
           "#FF6692",
           "#B6E880",
           "#FF97FF",
           "#FECB52"
          ],
          "font": {
           "color": "#2a3f5f"
          },
          "geo": {
           "bgcolor": "white",
           "lakecolor": "white",
           "landcolor": "#E5ECF6",
           "showlakes": true,
           "showland": true,
           "subunitcolor": "white"
          },
          "hoverlabel": {
           "align": "left"
          },
          "hovermode": "closest",
          "mapbox": {
           "style": "light"
          },
          "paper_bgcolor": "white",
          "plot_bgcolor": "#E5ECF6",
          "polar": {
           "angularaxis": {
            "gridcolor": "white",
            "linecolor": "white",
            "ticks": ""
           },
           "bgcolor": "#E5ECF6",
           "radialaxis": {
            "gridcolor": "white",
            "linecolor": "white",
            "ticks": ""
           }
          },
          "scene": {
           "xaxis": {
            "backgroundcolor": "#E5ECF6",
            "gridcolor": "white",
            "gridwidth": 2,
            "linecolor": "white",
            "showbackground": true,
            "ticks": "",
            "zerolinecolor": "white"
           },
           "yaxis": {
            "backgroundcolor": "#E5ECF6",
            "gridcolor": "white",
            "gridwidth": 2,
            "linecolor": "white",
            "showbackground": true,
            "ticks": "",
            "zerolinecolor": "white"
           },
           "zaxis": {
            "backgroundcolor": "#E5ECF6",
            "gridcolor": "white",
            "gridwidth": 2,
            "linecolor": "white",
            "showbackground": true,
            "ticks": "",
            "zerolinecolor": "white"
           }
          },
          "shapedefaults": {
           "line": {
            "color": "#2a3f5f"
           }
          },
          "ternary": {
           "aaxis": {
            "gridcolor": "white",
            "linecolor": "white",
            "ticks": ""
           },
           "baxis": {
            "gridcolor": "white",
            "linecolor": "white",
            "ticks": ""
           },
           "bgcolor": "#E5ECF6",
           "caxis": {
            "gridcolor": "white",
            "linecolor": "white",
            "ticks": ""
           }
          },
          "title": {
           "x": 0.05
          },
          "xaxis": {
           "automargin": true,
           "gridcolor": "white",
           "linecolor": "white",
           "ticks": "",
           "title": {
            "standoff": 15
           },
           "zerolinecolor": "white",
           "zerolinewidth": 2
          },
          "yaxis": {
           "automargin": true,
           "gridcolor": "white",
           "linecolor": "white",
           "ticks": "",
           "title": {
            "standoff": 15
           },
           "zerolinecolor": "white",
           "zerolinewidth": 2
          }
         }
        },
        "xaxis": {
         "anchor": "y",
         "domain": [
          0,
          1
         ],
         "title": {
          "text": "index"
         }
        },
        "yaxis": {
         "anchor": "x",
         "domain": [
          0,
          1
         ],
         "title": {
          "text": "value"
         }
        }
       }
      }
     },
     "metadata": {},
     "output_type": "display_data"
    }
   ],
   "source": [
    "#Gráfico \n",
    "Reg = psdf['region_txt'].value_counts()\n",
    "Reg[:25].plot.bar()"
   ]
  },
  {
   "cell_type": "code",
   "execution_count": 20,
   "metadata": {},
   "outputs": [
    {
     "data": {
      "application/vnd.plotly.v1+json": {
       "config": {
        "plotlyServerURL": "https://plot.ly"
       },
       "data": [
        {
         "alignmentgroup": "True",
         "hovertemplate": "variable=attacktype1_txt<br>index=%{x}<br>value=%{y}<extra></extra>",
         "legendgroup": "attacktype1_txt",
         "marker": {
          "color": "#636efa",
          "pattern": {
           "shape": ""
          }
         },
         "name": "attacktype1_txt",
         "offsetgroup": "attacktype1_txt",
         "orientation": "v",
         "showlegend": true,
         "textposition": "auto",
         "type": "bar",
         "x": [
          "Bombing/Explosion",
          "Armed Assault",
          "Assassination",
          "Hostage Taking (Kidnapping)",
          "Facility/Infrastructure Attack"
         ],
         "xaxis": "x",
         "y": [
          88101,
          42566,
          19285,
          11115,
          10222
         ],
         "yaxis": "y"
        }
       ],
       "layout": {
        "barmode": "relative",
        "legend": {
         "title": {
          "text": "variable"
         },
         "tracegroupgap": 0
        },
        "margin": {
         "t": 60
        },
        "template": {
         "data": {
          "bar": [
           {
            "error_x": {
             "color": "#2a3f5f"
            },
            "error_y": {
             "color": "#2a3f5f"
            },
            "marker": {
             "line": {
              "color": "#E5ECF6",
              "width": 0.5
             },
             "pattern": {
              "fillmode": "overlay",
              "size": 10,
              "solidity": 0.2
             }
            },
            "type": "bar"
           }
          ],
          "barpolar": [
           {
            "marker": {
             "line": {
              "color": "#E5ECF6",
              "width": 0.5
             },
             "pattern": {
              "fillmode": "overlay",
              "size": 10,
              "solidity": 0.2
             }
            },
            "type": "barpolar"
           }
          ],
          "carpet": [
           {
            "aaxis": {
             "endlinecolor": "#2a3f5f",
             "gridcolor": "white",
             "linecolor": "white",
             "minorgridcolor": "white",
             "startlinecolor": "#2a3f5f"
            },
            "baxis": {
             "endlinecolor": "#2a3f5f",
             "gridcolor": "white",
             "linecolor": "white",
             "minorgridcolor": "white",
             "startlinecolor": "#2a3f5f"
            },
            "type": "carpet"
           }
          ],
          "choropleth": [
           {
            "colorbar": {
             "outlinewidth": 0,
             "ticks": ""
            },
            "type": "choropleth"
           }
          ],
          "contour": [
           {
            "colorbar": {
             "outlinewidth": 0,
             "ticks": ""
            },
            "colorscale": [
             [
              0,
              "#0d0887"
             ],
             [
              0.1111111111111111,
              "#46039f"
             ],
             [
              0.2222222222222222,
              "#7201a8"
             ],
             [
              0.3333333333333333,
              "#9c179e"
             ],
             [
              0.4444444444444444,
              "#bd3786"
             ],
             [
              0.5555555555555556,
              "#d8576b"
             ],
             [
              0.6666666666666666,
              "#ed7953"
             ],
             [
              0.7777777777777778,
              "#fb9f3a"
             ],
             [
              0.8888888888888888,
              "#fdca26"
             ],
             [
              1,
              "#f0f921"
             ]
            ],
            "type": "contour"
           }
          ],
          "contourcarpet": [
           {
            "colorbar": {
             "outlinewidth": 0,
             "ticks": ""
            },
            "type": "contourcarpet"
           }
          ],
          "heatmap": [
           {
            "colorbar": {
             "outlinewidth": 0,
             "ticks": ""
            },
            "colorscale": [
             [
              0,
              "#0d0887"
             ],
             [
              0.1111111111111111,
              "#46039f"
             ],
             [
              0.2222222222222222,
              "#7201a8"
             ],
             [
              0.3333333333333333,
              "#9c179e"
             ],
             [
              0.4444444444444444,
              "#bd3786"
             ],
             [
              0.5555555555555556,
              "#d8576b"
             ],
             [
              0.6666666666666666,
              "#ed7953"
             ],
             [
              0.7777777777777778,
              "#fb9f3a"
             ],
             [
              0.8888888888888888,
              "#fdca26"
             ],
             [
              1,
              "#f0f921"
             ]
            ],
            "type": "heatmap"
           }
          ],
          "heatmapgl": [
           {
            "colorbar": {
             "outlinewidth": 0,
             "ticks": ""
            },
            "colorscale": [
             [
              0,
              "#0d0887"
             ],
             [
              0.1111111111111111,
              "#46039f"
             ],
             [
              0.2222222222222222,
              "#7201a8"
             ],
             [
              0.3333333333333333,
              "#9c179e"
             ],
             [
              0.4444444444444444,
              "#bd3786"
             ],
             [
              0.5555555555555556,
              "#d8576b"
             ],
             [
              0.6666666666666666,
              "#ed7953"
             ],
             [
              0.7777777777777778,
              "#fb9f3a"
             ],
             [
              0.8888888888888888,
              "#fdca26"
             ],
             [
              1,
              "#f0f921"
             ]
            ],
            "type": "heatmapgl"
           }
          ],
          "histogram": [
           {
            "marker": {
             "pattern": {
              "fillmode": "overlay",
              "size": 10,
              "solidity": 0.2
             }
            },
            "type": "histogram"
           }
          ],
          "histogram2d": [
           {
            "colorbar": {
             "outlinewidth": 0,
             "ticks": ""
            },
            "colorscale": [
             [
              0,
              "#0d0887"
             ],
             [
              0.1111111111111111,
              "#46039f"
             ],
             [
              0.2222222222222222,
              "#7201a8"
             ],
             [
              0.3333333333333333,
              "#9c179e"
             ],
             [
              0.4444444444444444,
              "#bd3786"
             ],
             [
              0.5555555555555556,
              "#d8576b"
             ],
             [
              0.6666666666666666,
              "#ed7953"
             ],
             [
              0.7777777777777778,
              "#fb9f3a"
             ],
             [
              0.8888888888888888,
              "#fdca26"
             ],
             [
              1,
              "#f0f921"
             ]
            ],
            "type": "histogram2d"
           }
          ],
          "histogram2dcontour": [
           {
            "colorbar": {
             "outlinewidth": 0,
             "ticks": ""
            },
            "colorscale": [
             [
              0,
              "#0d0887"
             ],
             [
              0.1111111111111111,
              "#46039f"
             ],
             [
              0.2222222222222222,
              "#7201a8"
             ],
             [
              0.3333333333333333,
              "#9c179e"
             ],
             [
              0.4444444444444444,
              "#bd3786"
             ],
             [
              0.5555555555555556,
              "#d8576b"
             ],
             [
              0.6666666666666666,
              "#ed7953"
             ],
             [
              0.7777777777777778,
              "#fb9f3a"
             ],
             [
              0.8888888888888888,
              "#fdca26"
             ],
             [
              1,
              "#f0f921"
             ]
            ],
            "type": "histogram2dcontour"
           }
          ],
          "mesh3d": [
           {
            "colorbar": {
             "outlinewidth": 0,
             "ticks": ""
            },
            "type": "mesh3d"
           }
          ],
          "parcoords": [
           {
            "line": {
             "colorbar": {
              "outlinewidth": 0,
              "ticks": ""
             }
            },
            "type": "parcoords"
           }
          ],
          "pie": [
           {
            "automargin": true,
            "type": "pie"
           }
          ],
          "scatter": [
           {
            "fillpattern": {
             "fillmode": "overlay",
             "size": 10,
             "solidity": 0.2
            },
            "type": "scatter"
           }
          ],
          "scatter3d": [
           {
            "line": {
             "colorbar": {
              "outlinewidth": 0,
              "ticks": ""
             }
            },
            "marker": {
             "colorbar": {
              "outlinewidth": 0,
              "ticks": ""
             }
            },
            "type": "scatter3d"
           }
          ],
          "scattercarpet": [
           {
            "marker": {
             "colorbar": {
              "outlinewidth": 0,
              "ticks": ""
             }
            },
            "type": "scattercarpet"
           }
          ],
          "scattergeo": [
           {
            "marker": {
             "colorbar": {
              "outlinewidth": 0,
              "ticks": ""
             }
            },
            "type": "scattergeo"
           }
          ],
          "scattergl": [
           {
            "marker": {
             "colorbar": {
              "outlinewidth": 0,
              "ticks": ""
             }
            },
            "type": "scattergl"
           }
          ],
          "scattermapbox": [
           {
            "marker": {
             "colorbar": {
              "outlinewidth": 0,
              "ticks": ""
             }
            },
            "type": "scattermapbox"
           }
          ],
          "scatterpolar": [
           {
            "marker": {
             "colorbar": {
              "outlinewidth": 0,
              "ticks": ""
             }
            },
            "type": "scatterpolar"
           }
          ],
          "scatterpolargl": [
           {
            "marker": {
             "colorbar": {
              "outlinewidth": 0,
              "ticks": ""
             }
            },
            "type": "scatterpolargl"
           }
          ],
          "scatterternary": [
           {
            "marker": {
             "colorbar": {
              "outlinewidth": 0,
              "ticks": ""
             }
            },
            "type": "scatterternary"
           }
          ],
          "surface": [
           {
            "colorbar": {
             "outlinewidth": 0,
             "ticks": ""
            },
            "colorscale": [
             [
              0,
              "#0d0887"
             ],
             [
              0.1111111111111111,
              "#46039f"
             ],
             [
              0.2222222222222222,
              "#7201a8"
             ],
             [
              0.3333333333333333,
              "#9c179e"
             ],
             [
              0.4444444444444444,
              "#bd3786"
             ],
             [
              0.5555555555555556,
              "#d8576b"
             ],
             [
              0.6666666666666666,
              "#ed7953"
             ],
             [
              0.7777777777777778,
              "#fb9f3a"
             ],
             [
              0.8888888888888888,
              "#fdca26"
             ],
             [
              1,
              "#f0f921"
             ]
            ],
            "type": "surface"
           }
          ],
          "table": [
           {
            "cells": {
             "fill": {
              "color": "#EBF0F8"
             },
             "line": {
              "color": "white"
             }
            },
            "header": {
             "fill": {
              "color": "#C8D4E3"
             },
             "line": {
              "color": "white"
             }
            },
            "type": "table"
           }
          ]
         },
         "layout": {
          "annotationdefaults": {
           "arrowcolor": "#2a3f5f",
           "arrowhead": 0,
           "arrowwidth": 1
          },
          "autotypenumbers": "strict",
          "coloraxis": {
           "colorbar": {
            "outlinewidth": 0,
            "ticks": ""
           }
          },
          "colorscale": {
           "diverging": [
            [
             0,
             "#8e0152"
            ],
            [
             0.1,
             "#c51b7d"
            ],
            [
             0.2,
             "#de77ae"
            ],
            [
             0.3,
             "#f1b6da"
            ],
            [
             0.4,
             "#fde0ef"
            ],
            [
             0.5,
             "#f7f7f7"
            ],
            [
             0.6,
             "#e6f5d0"
            ],
            [
             0.7,
             "#b8e186"
            ],
            [
             0.8,
             "#7fbc41"
            ],
            [
             0.9,
             "#4d9221"
            ],
            [
             1,
             "#276419"
            ]
           ],
           "sequential": [
            [
             0,
             "#0d0887"
            ],
            [
             0.1111111111111111,
             "#46039f"
            ],
            [
             0.2222222222222222,
             "#7201a8"
            ],
            [
             0.3333333333333333,
             "#9c179e"
            ],
            [
             0.4444444444444444,
             "#bd3786"
            ],
            [
             0.5555555555555556,
             "#d8576b"
            ],
            [
             0.6666666666666666,
             "#ed7953"
            ],
            [
             0.7777777777777778,
             "#fb9f3a"
            ],
            [
             0.8888888888888888,
             "#fdca26"
            ],
            [
             1,
             "#f0f921"
            ]
           ],
           "sequentialminus": [
            [
             0,
             "#0d0887"
            ],
            [
             0.1111111111111111,
             "#46039f"
            ],
            [
             0.2222222222222222,
             "#7201a8"
            ],
            [
             0.3333333333333333,
             "#9c179e"
            ],
            [
             0.4444444444444444,
             "#bd3786"
            ],
            [
             0.5555555555555556,
             "#d8576b"
            ],
            [
             0.6666666666666666,
             "#ed7953"
            ],
            [
             0.7777777777777778,
             "#fb9f3a"
            ],
            [
             0.8888888888888888,
             "#fdca26"
            ],
            [
             1,
             "#f0f921"
            ]
           ]
          },
          "colorway": [
           "#636efa",
           "#EF553B",
           "#00cc96",
           "#ab63fa",
           "#FFA15A",
           "#19d3f3",
           "#FF6692",
           "#B6E880",
           "#FF97FF",
           "#FECB52"
          ],
          "font": {
           "color": "#2a3f5f"
          },
          "geo": {
           "bgcolor": "white",
           "lakecolor": "white",
           "landcolor": "#E5ECF6",
           "showlakes": true,
           "showland": true,
           "subunitcolor": "white"
          },
          "hoverlabel": {
           "align": "left"
          },
          "hovermode": "closest",
          "mapbox": {
           "style": "light"
          },
          "paper_bgcolor": "white",
          "plot_bgcolor": "#E5ECF6",
          "polar": {
           "angularaxis": {
            "gridcolor": "white",
            "linecolor": "white",
            "ticks": ""
           },
           "bgcolor": "#E5ECF6",
           "radialaxis": {
            "gridcolor": "white",
            "linecolor": "white",
            "ticks": ""
           }
          },
          "scene": {
           "xaxis": {
            "backgroundcolor": "#E5ECF6",
            "gridcolor": "white",
            "gridwidth": 2,
            "linecolor": "white",
            "showbackground": true,
            "ticks": "",
            "zerolinecolor": "white"
           },
           "yaxis": {
            "backgroundcolor": "#E5ECF6",
            "gridcolor": "white",
            "gridwidth": 2,
            "linecolor": "white",
            "showbackground": true,
            "ticks": "",
            "zerolinecolor": "white"
           },
           "zaxis": {
            "backgroundcolor": "#E5ECF6",
            "gridcolor": "white",
            "gridwidth": 2,
            "linecolor": "white",
            "showbackground": true,
            "ticks": "",
            "zerolinecolor": "white"
           }
          },
          "shapedefaults": {
           "line": {
            "color": "#2a3f5f"
           }
          },
          "ternary": {
           "aaxis": {
            "gridcolor": "white",
            "linecolor": "white",
            "ticks": ""
           },
           "baxis": {
            "gridcolor": "white",
            "linecolor": "white",
            "ticks": ""
           },
           "bgcolor": "#E5ECF6",
           "caxis": {
            "gridcolor": "white",
            "linecolor": "white",
            "ticks": ""
           }
          },
          "title": {
           "x": 0.05
          },
          "xaxis": {
           "automargin": true,
           "gridcolor": "white",
           "linecolor": "white",
           "ticks": "",
           "title": {
            "standoff": 15
           },
           "zerolinecolor": "white",
           "zerolinewidth": 2
          },
          "yaxis": {
           "automargin": true,
           "gridcolor": "white",
           "linecolor": "white",
           "ticks": "",
           "title": {
            "standoff": 15
           },
           "zerolinecolor": "white",
           "zerolinewidth": 2
          }
         }
        },
        "xaxis": {
         "anchor": "y",
         "domain": [
          0,
          1
         ],
         "title": {
          "text": "index"
         }
        },
        "yaxis": {
         "anchor": "x",
         "domain": [
          0,
          1
         ],
         "title": {
          "text": "value"
         }
        }
       }
      }
     },
     "metadata": {},
     "output_type": "display_data"
    }
   ],
   "source": [
    "#Gráfico de top de tipo de ataque\n",
    "Reg = psdf['attacktype1_txt'].value_counts()\n",
    "Reg[:5].plot.bar()"
   ]
  },
  {
   "cell_type": "code",
   "execution_count": 21,
   "metadata": {},
   "outputs": [
    {
     "name": "stdout",
     "output_type": "stream",
     "text": [
      "             eventid  iyear  imonth  iday approxdate  extended resolution  \\\n",
      "0       197000000001   1970       7     2          0         0          0   \n",
      "1       197000000002   1970       0     0          0         0          0   \n",
      "2       197001000001   1970       1     0          0         0          0   \n",
      "3       197001000002   1970       1     0          0         0          0   \n",
      "4       197001000003   1970       1     0          0         0          0   \n",
      "...              ...    ...     ...   ...        ...       ...        ...   \n",
      "181686  201712310022   2017      12    31          0         0          0   \n",
      "181687  201712310029   2017      12    31          0         0          0   \n",
      "181688  201712310030   2017      12    31          0         0          0   \n",
      "181689  201712310031   2017      12    31          0         0          0   \n",
      "181690  201712310032   2017      12    31          0         0          0   \n",
      "\n",
      "        country         country_txt  region  ... addnotes  \\\n",
      "0            58  Dominican Republic       2  ...        0   \n",
      "1           130              Mexico       1  ...        0   \n",
      "2           160         Philippines       5  ...        0   \n",
      "3            78              Greece       8  ...        0   \n",
      "4           101               Japan       4  ...        0   \n",
      "...         ...                 ...     ...  ...      ...   \n",
      "181686      182             Somalia      11  ...        0   \n",
      "181687      200               Syria      10  ...        0   \n",
      "181688      160         Philippines       5  ...        0   \n",
      "181689       92               India       6  ...        0   \n",
      "181690      160         Philippines       5  ...        0   \n",
      "\n",
      "                                                   scite1  \\\n",
      "0                                                       0   \n",
      "1                                                       0   \n",
      "2                                                       0   \n",
      "3                                                       0   \n",
      "4                                                       0   \n",
      "...                                                   ...   \n",
      "181686  \"\"\"Somalia: Al-Shabaab Militants Attack Army C...   \n",
      "181687  \"\"\"Putin's 'victory' in Syria has turned into ...   \n",
      "181688          \"\"\"Maguindanao clashes trap tribe members   \n",
      "181689         \"\"\"Trader escapes grenade attack in Imphal   \n",
      "181690  \"\"\"Security tightened in Cotabato following IE...   \n",
      "\n",
      "                                                   scite2      scite3  \\\n",
      "0                                                       0           0   \n",
      "1                                                       0           0   \n",
      "2                                                       0           0   \n",
      "3                                                       0           0   \n",
      "4                                                       0           0   \n",
      "...                                                   ...         ...   \n",
      "181686                                  \"\" Hiiraan Online   January 1   \n",
      "181687  \"\" MENA English (Middle East and North Africa ...   January 5   \n",
      "181688                      \"\" Philippines Daily Inquirer   January 3   \n",
      "181689                         \"\" Business Standard India   January 3   \n",
      "181690                                           \"\" Tempo   January 4   \n",
      "\n",
      "        dbsource                                            INT_LOG  \\\n",
      "0           PGIS                                                  0   \n",
      "1           PGIS                                                  0   \n",
      "2           PGIS                                                 -9   \n",
      "3           PGIS                                                 -9   \n",
      "4           PGIS                                                 -9   \n",
      "...          ...                                                ...   \n",
      "181686    2018.\"  \"\"\"Highlights: Somalia Daily Media Highlights ...   \n",
      "181687    2018.\"  \"\"\"Two Russian soldiers killed at Hmeymim base...   \n",
      "181688    2018.\"                                                  0   \n",
      "181689    2018.\"                                                  0   \n",
      "181690    2018.\"             \"\"\"Security tightened in Cotabato City   \n",
      "\n",
      "                  INT_IDEO                  INT_MISC  INT_ANY  \\\n",
      "0                        0                         0        0   \n",
      "1                        1                         1        1   \n",
      "2                       -9                         1        1   \n",
      "3                       -9                         1        1   \n",
      "4                       -9                         1        1   \n",
      "...                    ...                       ...      ...   \n",
      "181686          \"\" Summary                 January 3   2018.\"   \n",
      "181687          \"\" Ansamed                 January 4   2018.\"   \n",
      "181688                   0  START Primary Collection        0   \n",
      "181689                   0  START Primary Collection       -9   \n",
      "181690  \"\" Manila Bulletin                 January 3   2018.\"   \n",
      "\n",
      "                                                  related  \n",
      "0                                                       0  \n",
      "1                                                       0  \n",
      "2                                                       0  \n",
      "3                                                       0  \n",
      "4                                                       0  \n",
      "...                                                   ...  \n",
      "181686  \"\"\"Highlights: Somalia Daily Media Highlights ...  \n",
      "181687  \"\"\"Two Russian servicemen killed in Syria mort...  \n",
      "181688                                                  0  \n",
      "181689                                                 -9  \n",
      "181690                                                  0  \n",
      "\n",
      "[181691 rows x 135 columns]\n"
     ]
    }
   ],
   "source": [
    "# Convertir a pandas para utilizar la liberia de seaborn\n",
    "pandas_df = psdf.to_pandas()\n",
    "\n",
    "pandas_df = pandas_df.fillna(0)  # Reemplazar valores nulos con 0\n",
    "\n",
    "\n",
    "# Mostrar el DataFrame convertido\n",
    "print(pandas_df)\n"
   ]
  },
  {
   "cell_type": "code",
   "execution_count": 22,
   "metadata": {},
   "outputs": [
    {
     "data": {
      "image/png": "[encoded data removed]",
      "text/plain": [
       "<Figure size 640x480 with 1 Axes>"
      ]
     },
     "metadata": {},
     "output_type": "display_data"
    }
   ],
   "source": [
    "# Gráfico de línea para incidentes por año\n",
    "sns.countplot(data=pandas_df, x=\"iyear\", color=\"skyblue\")\n",
    "plt.title(\"Número de Incidentes por Año\")\n",
    "plt.xlabel(\"Año\")\n",
    "plt.ylabel(\"Número de Incidentes\")\n",
    "plt.xticks(rotation=90)\n",
    "plt.show()"
   ]
  },
  {
   "cell_type": "code",
   "execution_count": 23,
   "metadata": {},
   "outputs": [
    {
     "data": {
      "image/png": "[encoded data removed]",
      "text/plain": [
       "<Figure size 640x480 with 1 Axes>"
      ]
     },
     "metadata": {},
     "output_type": "display_data"
    }
   ],
   "source": [
    "# Gráfico de barras: tipos de ataque\n",
    "sns.countplot(data=pandas_df, y=\"attacktype1_txt\", order=pandas_df[\"attacktype1_txt\"].value_counts().index, palette=\"viridis\")\n",
    "plt.title(\"Tipos de Ataques Más Comunes\")\n",
    "plt.xlabel(\"Número de Incidentes\")\n",
    "plt.ylabel(\"Tipo de Ataque\")\n",
    "plt.show()"
   ]
  },
  {
   "cell_type": "code",
   "execution_count": 24,
   "metadata": {},
   "outputs": [
    {
     "data": {
      "image/png": "[encoded data removed]",
      "text/plain": [
       "<Figure size 640x480 with 1 Axes>"
      ]
     },
     "metadata": {},
     "output_type": "display_data"
    }
   ],
   "source": [
    "# Gráfico de barras para incidentes por región\n",
    "sns.countplot(data=pandas_df, y=\"region_txt\", order=pandas_df[\"region_txt\"].value_counts().index, palette=\"coolwarm\")\n",
    "plt.title(\"Número de Incidentes por Región\")\n",
    "plt.xlabel(\"Número de Incidentes\")\n",
    "plt.ylabel(\"Región\")\n",
    "plt.show()"
   ]
  }
 ],
 "metadata": {
  "kernelspec": {
   "display_name": "EYDER",
   "language": "python",
   "name": "python3"
  },
  "language_info": {
   "codemirror_mode": {
    "name": "ipython",
    "version": 3
   },
   "file_extension": ".py",
   "mimetype": "text/x-python",
   "name": "python",
   "nbconvert_exporter": "python",
   "pygments_lexer": "ipython3",
   "version": "3.8.17"
  }
 },
 "nbformat": 4,
 "nbformat_minor": 2
}
