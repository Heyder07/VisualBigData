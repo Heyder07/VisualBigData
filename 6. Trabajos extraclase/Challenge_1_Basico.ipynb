{
 "cells": [
  {
   "cell_type": "markdown",
   "metadata": {},
   "source": [
    "# Challenge 1 -Básico\n",
    "\n",
    "## Visualización de grandes bases de datos\n",
    "\n",
    "Eyder Uriel Kinil Cervera\n",
    "Cógido 216910473\n"
   ]
  }
 ],
 "metadata": {
  "language_info": {
   "name": "python"
  }
 },
 "nbformat": 4,
 "nbformat_minor": 2
}
